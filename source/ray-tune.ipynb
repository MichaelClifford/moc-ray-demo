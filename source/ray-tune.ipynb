{
 "cells": [
  {
   "cell_type": "markdown",
   "metadata": {},
   "source": [
    "# Ray Tune Example\n",
    "\n",
    "#### Examples stolen from: \n",
    "\n",
    "* https://docs.ray.io/en/latest/tune/examples/tune-sklearn.html\n",
    "* https://docs.ray.io/en/latest/tune/index.html\n"
   ]
  },
  {
   "cell_type": "code",
   "execution_count": 2,
   "metadata": {},
   "outputs": [],
   "source": [
    "import os\n",
    "from collections import Counter\n",
    "import platform\n",
    "import time\n",
    "import numpy as np\n",
    "import ray\n",
    "from ray import tune\n",
    "from tune_sklearn import TuneGridSearchCV\n",
    "import ray.util\n",
    "from sklearn.model_selection import train_test_split\n",
    "from sklearn.linear_model import SGDClassifier\n",
    "from sklearn.datasets import make_classification\n",
    "from sklearn.model_selection import GridSearchCV\n"
   ]
  },
  {
   "cell_type": "markdown",
   "metadata": {},
   "source": [
    "If we have a ray cluster to connect to, do it. otherwise rely on ray to manage distribution of work locally. "
   ]
  },
  {
   "cell_type": "code",
   "execution_count": 3,
   "metadata": {},
   "outputs": [],
   "source": [
    "REMOTE = False\n",
    "if REMOTE:\n",
    "    from ray.util.client import ray as rayclient\n",
    "    if rayclient.is_connected():\n",
    "        ray.util.disconnect()\n",
    "\n",
    "    ray.util.connect('{ray_head}:10001'.format(ray_head=os.environ['RAY_CLUSTER']))"
   ]
  },
  {
   "cell_type": "markdown",
   "metadata": {},
   "source": [
    "Just to test this out we will define a simple function for which we want to find the set of parameters that produce lowest score. Here we will use the function `a**2 + b` to define our score. Later on we will use a more complex function, that requires multiple iterations. But for now let's just confirm this works as expected. "
   ]
  },
  {
   "cell_type": "code",
   "execution_count": 4,
   "metadata": {},
   "outputs": [],
   "source": [
    "\n",
    "# 1. Define an objective function.\n",
    "def objective(config, checkpoint_dir=None):\n",
    "    score = config[\"a\"] ** 2 + config[\"b\"]\n",
    "    return {\"score\": score}"
   ]
  },
  {
   "cell_type": "markdown",
   "metadata": {},
   "source": [
    "We are also going to need to define our search space for our grid search. Again, let's do something super simple so we can evaluate the results by our own inspection and confirm everything is working right. "
   ]
  },
  {
   "cell_type": "code",
   "execution_count": 5,
   "metadata": {},
   "outputs": [],
   "source": [
    "\n",
    "# 2. Define a search space.\n",
    "search_space = {\n",
    "    \"a\": tune.grid_search([0.001, 0.01, 0.1]),\n",
    "    \"b\": tune.grid_search([1, 2, 3]),\n",
    "}"
   ]
  },
  {
   "cell_type": "markdown",
   "metadata": {},
   "source": [
    "Now we invoke our `tune.run` command and see what happens. :) \n",
    "\n",
    "We also want to get the results for the set of parameters that give us the smallest score for our objective function. "
   ]
  },
  {
   "cell_type": "code",
   "execution_count": 6,
   "metadata": {},
   "outputs": [
    {
     "name": "stderr",
     "output_type": "stream",
     "text": [
      "2022-05-15 14:20:15,889\tINFO trial_runner.py:803 -- starting objective_aaf29_00000\n"
     ]
    },
    {
     "data": {
      "text/html": [
       "== Status ==<br>Current time: 2022-05-15 14:20:21 (running for 00:00:05.80)<br>Memory usage on this node: 9.4/15.5 GiB<br>Using FIFO scheduling algorithm.<br>Resources requested: 1.0/12 CPUs, 1.0/1 GPUs, 0.0/5.34 GiB heap, 0.0/2.67 GiB objects (0.0/1.0 accelerator_type:G)<br>Result logdir: /home/michael/ray_results/objective_2022-05-15_14-20-15<br>Number of trials: 9/9 (8 PENDING, 1 RUNNING)<br><table>\n",
       "<thead>\n",
       "<tr><th>Trial name           </th><th>status  </th><th>loc                 </th><th style=\"text-align: right;\">    a</th><th style=\"text-align: right;\">  b</th></tr>\n",
       "</thead>\n",
       "<tbody>\n",
       "<tr><td>objective_aaf29_00000</td><td>RUNNING </td><td>192.168.1.14:3541445</td><td style=\"text-align: right;\">0.001</td><td style=\"text-align: right;\">  1</td></tr>\n",
       "<tr><td>objective_aaf29_00001</td><td>PENDING </td><td>                    </td><td style=\"text-align: right;\">0.01 </td><td style=\"text-align: right;\">  1</td></tr>\n",
       "<tr><td>objective_aaf29_00002</td><td>PENDING </td><td>                    </td><td style=\"text-align: right;\">0.1  </td><td style=\"text-align: right;\">  1</td></tr>\n",
       "<tr><td>objective_aaf29_00003</td><td>PENDING </td><td>                    </td><td style=\"text-align: right;\">0.001</td><td style=\"text-align: right;\">  2</td></tr>\n",
       "<tr><td>objective_aaf29_00004</td><td>PENDING </td><td>                    </td><td style=\"text-align: right;\">0.01 </td><td style=\"text-align: right;\">  2</td></tr>\n",
       "<tr><td>objective_aaf29_00005</td><td>PENDING </td><td>                    </td><td style=\"text-align: right;\">0.1  </td><td style=\"text-align: right;\">  2</td></tr>\n",
       "<tr><td>objective_aaf29_00006</td><td>PENDING </td><td>                    </td><td style=\"text-align: right;\">0.001</td><td style=\"text-align: right;\">  3</td></tr>\n",
       "<tr><td>objective_aaf29_00007</td><td>PENDING </td><td>                    </td><td style=\"text-align: right;\">0.01 </td><td style=\"text-align: right;\">  3</td></tr>\n",
       "<tr><td>objective_aaf29_00008</td><td>PENDING </td><td>                    </td><td style=\"text-align: right;\">0.1  </td><td style=\"text-align: right;\">  3</td></tr>\n",
       "</tbody>\n",
       "</table><br><br>"
      ],
      "text/plain": [
       "<IPython.core.display.HTML object>"
      ]
     },
     "metadata": {},
     "output_type": "display_data"
    },
    {
     "name": "stdout",
     "output_type": "stream",
     "text": [
      "Result for objective_aaf29_00000:\n",
      "  date: 2022-05-15_14-20-21\n",
      "  done: false\n",
      "  experiment_id: 3195f7ec274d45709744f9da8719b011\n",
      "  hostname: 4eyes\n",
      "  iterations_since_restore: 1\n",
      "  node_ip: 192.168.1.14\n",
      "  pid: 3541445\n",
      "  score: 1.000001\n",
      "  time_since_restore: 0.00046539306640625\n",
      "  time_this_iter_s: 0.00046539306640625\n",
      "  time_total_s: 0.00046539306640625\n",
      "  timestamp: 1652638821\n",
      "  timesteps_since_restore: 0\n",
      "  training_iteration: 1\n",
      "  trial_id: aaf29_00000\n",
      "  warmup_time: 0.009780168533325195\n",
      "  \n"
     ]
    },
    {
     "data": {
      "text/html": [
       "== Status ==<br>Current time: 2022-05-15 14:20:21 (running for 00:00:05.85)<br>Memory usage on this node: 9.4/15.5 GiB<br>Using FIFO scheduling algorithm.<br>Resources requested: 1.0/12 CPUs, 1.0/1 GPUs, 0.0/5.34 GiB heap, 0.0/2.67 GiB objects (0.0/1.0 accelerator_type:G)<br>Result logdir: /home/michael/ray_results/objective_2022-05-15_14-20-15<br>Number of trials: 9/9 (8 PENDING, 1 RUNNING)<br><table>\n",
       "<thead>\n",
       "<tr><th>Trial name           </th><th>status  </th><th>loc                 </th><th style=\"text-align: right;\">    a</th><th style=\"text-align: right;\">  b</th><th style=\"text-align: right;\">  iter</th><th style=\"text-align: right;\">  total time (s)</th><th style=\"text-align: right;\">  score</th></tr>\n",
       "</thead>\n",
       "<tbody>\n",
       "<tr><td>objective_aaf29_00000</td><td>RUNNING </td><td>192.168.1.14:3541445</td><td style=\"text-align: right;\">0.001</td><td style=\"text-align: right;\">  1</td><td style=\"text-align: right;\">     1</td><td style=\"text-align: right;\">     0.000465393</td><td style=\"text-align: right;\">      1</td></tr>\n",
       "<tr><td>objective_aaf29_00001</td><td>PENDING </td><td>                    </td><td style=\"text-align: right;\">0.01 </td><td style=\"text-align: right;\">  1</td><td style=\"text-align: right;\">      </td><td style=\"text-align: right;\">                </td><td style=\"text-align: right;\">       </td></tr>\n",
       "<tr><td>objective_aaf29_00002</td><td>PENDING </td><td>                    </td><td style=\"text-align: right;\">0.1  </td><td style=\"text-align: right;\">  1</td><td style=\"text-align: right;\">      </td><td style=\"text-align: right;\">                </td><td style=\"text-align: right;\">       </td></tr>\n",
       "<tr><td>objective_aaf29_00003</td><td>PENDING </td><td>                    </td><td style=\"text-align: right;\">0.001</td><td style=\"text-align: right;\">  2</td><td style=\"text-align: right;\">      </td><td style=\"text-align: right;\">                </td><td style=\"text-align: right;\">       </td></tr>\n",
       "<tr><td>objective_aaf29_00004</td><td>PENDING </td><td>                    </td><td style=\"text-align: right;\">0.01 </td><td style=\"text-align: right;\">  2</td><td style=\"text-align: right;\">      </td><td style=\"text-align: right;\">                </td><td style=\"text-align: right;\">       </td></tr>\n",
       "<tr><td>objective_aaf29_00005</td><td>PENDING </td><td>                    </td><td style=\"text-align: right;\">0.1  </td><td style=\"text-align: right;\">  2</td><td style=\"text-align: right;\">      </td><td style=\"text-align: right;\">                </td><td style=\"text-align: right;\">       </td></tr>\n",
       "<tr><td>objective_aaf29_00006</td><td>PENDING </td><td>                    </td><td style=\"text-align: right;\">0.001</td><td style=\"text-align: right;\">  3</td><td style=\"text-align: right;\">      </td><td style=\"text-align: right;\">                </td><td style=\"text-align: right;\">       </td></tr>\n",
       "<tr><td>objective_aaf29_00007</td><td>PENDING </td><td>                    </td><td style=\"text-align: right;\">0.01 </td><td style=\"text-align: right;\">  3</td><td style=\"text-align: right;\">      </td><td style=\"text-align: right;\">                </td><td style=\"text-align: right;\">       </td></tr>\n",
       "<tr><td>objective_aaf29_00008</td><td>PENDING </td><td>                    </td><td style=\"text-align: right;\">0.1  </td><td style=\"text-align: right;\">  3</td><td style=\"text-align: right;\">      </td><td style=\"text-align: right;\">                </td><td style=\"text-align: right;\">       </td></tr>\n",
       "</tbody>\n",
       "</table><br><br>"
      ],
      "text/plain": [
       "<IPython.core.display.HTML object>"
      ]
     },
     "metadata": {},
     "output_type": "display_data"
    },
    {
     "name": "stdout",
     "output_type": "stream",
     "text": [
      "Result for objective_aaf29_00000:\n",
      "  date: 2022-05-15_14-20-21\n",
      "  done: true\n",
      "  experiment_id: 3195f7ec274d45709744f9da8719b011\n",
      "  experiment_tag: 0_a=0.001,b=1\n",
      "  hostname: 4eyes\n",
      "  iterations_since_restore: 1\n",
      "  node_ip: 192.168.1.14\n",
      "  pid: 3541445\n",
      "  score: 1.000001\n",
      "  time_since_restore: 0.00046539306640625\n",
      "  time_this_iter_s: 0.00046539306640625\n",
      "  time_total_s: 0.00046539306640625\n",
      "  timestamp: 1652638821\n",
      "  timesteps_since_restore: 0\n",
      "  training_iteration: 1\n",
      "  trial_id: aaf29_00000\n",
      "  warmup_time: 0.009780168533325195\n",
      "  \n"
     ]
    },
    {
     "name": "stderr",
     "output_type": "stream",
     "text": [
      "2022-05-15 14:20:21,835\tINFO trial_runner.py:803 -- starting objective_aaf29_00001\n"
     ]
    },
    {
     "data": {
      "text/html": [
       "== Status ==<br>Current time: 2022-05-15 14:20:27 (running for 00:00:11.70)<br>Memory usage on this node: 9.4/15.5 GiB<br>Using FIFO scheduling algorithm.<br>Resources requested: 1.0/12 CPUs, 1.0/1 GPUs, 0.0/5.34 GiB heap, 0.0/2.67 GiB objects (0.0/1.0 accelerator_type:G)<br>Result logdir: /home/michael/ray_results/objective_2022-05-15_14-20-15<br>Number of trials: 9/9 (7 PENDING, 1 RUNNING, 1 TERMINATED)<br><table>\n",
       "<thead>\n",
       "<tr><th>Trial name           </th><th>status    </th><th>loc                 </th><th style=\"text-align: right;\">    a</th><th style=\"text-align: right;\">  b</th><th style=\"text-align: right;\">  iter</th><th style=\"text-align: right;\">  total time (s)</th><th style=\"text-align: right;\">  score</th></tr>\n",
       "</thead>\n",
       "<tbody>\n",
       "<tr><td>objective_aaf29_00001</td><td>RUNNING   </td><td>192.168.1.14:3541490</td><td style=\"text-align: right;\">0.01 </td><td style=\"text-align: right;\">  1</td><td style=\"text-align: right;\">      </td><td style=\"text-align: right;\">                </td><td style=\"text-align: right;\">       </td></tr>\n",
       "<tr><td>objective_aaf29_00002</td><td>PENDING   </td><td>                    </td><td style=\"text-align: right;\">0.1  </td><td style=\"text-align: right;\">  1</td><td style=\"text-align: right;\">      </td><td style=\"text-align: right;\">                </td><td style=\"text-align: right;\">       </td></tr>\n",
       "<tr><td>objective_aaf29_00003</td><td>PENDING   </td><td>                    </td><td style=\"text-align: right;\">0.001</td><td style=\"text-align: right;\">  2</td><td style=\"text-align: right;\">      </td><td style=\"text-align: right;\">                </td><td style=\"text-align: right;\">       </td></tr>\n",
       "<tr><td>objective_aaf29_00004</td><td>PENDING   </td><td>                    </td><td style=\"text-align: right;\">0.01 </td><td style=\"text-align: right;\">  2</td><td style=\"text-align: right;\">      </td><td style=\"text-align: right;\">                </td><td style=\"text-align: right;\">       </td></tr>\n",
       "<tr><td>objective_aaf29_00005</td><td>PENDING   </td><td>                    </td><td style=\"text-align: right;\">0.1  </td><td style=\"text-align: right;\">  2</td><td style=\"text-align: right;\">      </td><td style=\"text-align: right;\">                </td><td style=\"text-align: right;\">       </td></tr>\n",
       "<tr><td>objective_aaf29_00006</td><td>PENDING   </td><td>                    </td><td style=\"text-align: right;\">0.001</td><td style=\"text-align: right;\">  3</td><td style=\"text-align: right;\">      </td><td style=\"text-align: right;\">                </td><td style=\"text-align: right;\">       </td></tr>\n",
       "<tr><td>objective_aaf29_00007</td><td>PENDING   </td><td>                    </td><td style=\"text-align: right;\">0.01 </td><td style=\"text-align: right;\">  3</td><td style=\"text-align: right;\">      </td><td style=\"text-align: right;\">                </td><td style=\"text-align: right;\">       </td></tr>\n",
       "<tr><td>objective_aaf29_00008</td><td>PENDING   </td><td>                    </td><td style=\"text-align: right;\">0.1  </td><td style=\"text-align: right;\">  3</td><td style=\"text-align: right;\">      </td><td style=\"text-align: right;\">                </td><td style=\"text-align: right;\">       </td></tr>\n",
       "<tr><td>objective_aaf29_00000</td><td>TERMINATED</td><td>192.168.1.14:3541445</td><td style=\"text-align: right;\">0.001</td><td style=\"text-align: right;\">  1</td><td style=\"text-align: right;\">     1</td><td style=\"text-align: right;\">     0.000465393</td><td style=\"text-align: right;\">      1</td></tr>\n",
       "</tbody>\n",
       "</table><br><br>"
      ],
      "text/plain": [
       "<IPython.core.display.HTML object>"
      ]
     },
     "metadata": {},
     "output_type": "display_data"
    },
    {
     "name": "stdout",
     "output_type": "stream",
     "text": [
      "Result for objective_aaf29_00001:\n",
      "  date: 2022-05-15_14-20-27\n",
      "  done: false\n",
      "  experiment_id: 60cb8b8398314739b099247fb906b09a\n",
      "  hostname: 4eyes\n",
      "  iterations_since_restore: 1\n",
      "  node_ip: 192.168.1.14\n",
      "  pid: 3541490\n",
      "  score: 1.0001\n",
      "  time_since_restore: 0.0006220340728759766\n",
      "  time_this_iter_s: 0.0006220340728759766\n",
      "  time_total_s: 0.0006220340728759766\n",
      "  timestamp: 1652638827\n",
      "  timesteps_since_restore: 0\n",
      "  training_iteration: 1\n",
      "  trial_id: aaf29_00001\n",
      "  warmup_time: 0.008433341979980469\n",
      "  \n",
      "Result for objective_aaf29_00001:\n",
      "  date: 2022-05-15_14-20-27\n",
      "  done: true\n",
      "  experiment_id: 60cb8b8398314739b099247fb906b09a\n",
      "  experiment_tag: 1_a=0.01,b=1\n",
      "  hostname: 4eyes\n",
      "  iterations_since_restore: 1\n",
      "  node_ip: 192.168.1.14\n",
      "  pid: 3541490\n",
      "  score: 1.0001\n",
      "  time_since_restore: 0.0006220340728759766\n",
      "  time_this_iter_s: 0.0006220340728759766\n",
      "  time_total_s: 0.0006220340728759766\n",
      "  timestamp: 1652638827\n",
      "  timesteps_since_restore: 0\n",
      "  training_iteration: 1\n",
      "  trial_id: aaf29_00001\n",
      "  warmup_time: 0.008433341979980469\n",
      "  \n"
     ]
    },
    {
     "name": "stderr",
     "output_type": "stream",
     "text": [
      "2022-05-15 14:20:27,836\tINFO trial_runner.py:803 -- starting objective_aaf29_00002\n"
     ]
    },
    {
     "data": {
      "text/html": [
       "== Status ==<br>Current time: 2022-05-15 14:20:33 (running for 00:00:17.43)<br>Memory usage on this node: 9.4/15.5 GiB<br>Using FIFO scheduling algorithm.<br>Resources requested: 1.0/12 CPUs, 1.0/1 GPUs, 0.0/5.34 GiB heap, 0.0/2.67 GiB objects (0.0/1.0 accelerator_type:G)<br>Result logdir: /home/michael/ray_results/objective_2022-05-15_14-20-15<br>Number of trials: 9/9 (6 PENDING, 1 RUNNING, 2 TERMINATED)<br><table>\n",
       "<thead>\n",
       "<tr><th>Trial name           </th><th>status    </th><th>loc                 </th><th style=\"text-align: right;\">    a</th><th style=\"text-align: right;\">  b</th><th style=\"text-align: right;\">  iter</th><th style=\"text-align: right;\">  total time (s)</th><th style=\"text-align: right;\">  score</th></tr>\n",
       "</thead>\n",
       "<tbody>\n",
       "<tr><td>objective_aaf29_00002</td><td>RUNNING   </td><td>192.168.1.14:3541574</td><td style=\"text-align: right;\">0.1  </td><td style=\"text-align: right;\">  1</td><td style=\"text-align: right;\">      </td><td style=\"text-align: right;\">                </td><td style=\"text-align: right;\">       </td></tr>\n",
       "<tr><td>objective_aaf29_00003</td><td>PENDING   </td><td>                    </td><td style=\"text-align: right;\">0.001</td><td style=\"text-align: right;\">  2</td><td style=\"text-align: right;\">      </td><td style=\"text-align: right;\">                </td><td style=\"text-align: right;\">       </td></tr>\n",
       "<tr><td>objective_aaf29_00004</td><td>PENDING   </td><td>                    </td><td style=\"text-align: right;\">0.01 </td><td style=\"text-align: right;\">  2</td><td style=\"text-align: right;\">      </td><td style=\"text-align: right;\">                </td><td style=\"text-align: right;\">       </td></tr>\n",
       "<tr><td>objective_aaf29_00005</td><td>PENDING   </td><td>                    </td><td style=\"text-align: right;\">0.1  </td><td style=\"text-align: right;\">  2</td><td style=\"text-align: right;\">      </td><td style=\"text-align: right;\">                </td><td style=\"text-align: right;\">       </td></tr>\n",
       "<tr><td>objective_aaf29_00006</td><td>PENDING   </td><td>                    </td><td style=\"text-align: right;\">0.001</td><td style=\"text-align: right;\">  3</td><td style=\"text-align: right;\">      </td><td style=\"text-align: right;\">                </td><td style=\"text-align: right;\">       </td></tr>\n",
       "<tr><td>objective_aaf29_00007</td><td>PENDING   </td><td>                    </td><td style=\"text-align: right;\">0.01 </td><td style=\"text-align: right;\">  3</td><td style=\"text-align: right;\">      </td><td style=\"text-align: right;\">                </td><td style=\"text-align: right;\">       </td></tr>\n",
       "<tr><td>objective_aaf29_00008</td><td>PENDING   </td><td>                    </td><td style=\"text-align: right;\">0.1  </td><td style=\"text-align: right;\">  3</td><td style=\"text-align: right;\">      </td><td style=\"text-align: right;\">                </td><td style=\"text-align: right;\">       </td></tr>\n",
       "<tr><td>objective_aaf29_00000</td><td>TERMINATED</td><td>192.168.1.14:3541445</td><td style=\"text-align: right;\">0.001</td><td style=\"text-align: right;\">  1</td><td style=\"text-align: right;\">     1</td><td style=\"text-align: right;\">     0.000465393</td><td style=\"text-align: right;\"> 1     </td></tr>\n",
       "<tr><td>objective_aaf29_00001</td><td>TERMINATED</td><td>192.168.1.14:3541490</td><td style=\"text-align: right;\">0.01 </td><td style=\"text-align: right;\">  1</td><td style=\"text-align: right;\">     1</td><td style=\"text-align: right;\">     0.000622034</td><td style=\"text-align: right;\"> 1.0001</td></tr>\n",
       "</tbody>\n",
       "</table><br><br>"
      ],
      "text/plain": [
       "<IPython.core.display.HTML object>"
      ]
     },
     "metadata": {},
     "output_type": "display_data"
    },
    {
     "name": "stdout",
     "output_type": "stream",
     "text": [
      "Result for objective_aaf29_00002:\n",
      "  date: 2022-05-15_14-20-33\n",
      "  done: false\n",
      "  experiment_id: 39de7521f07042eeaffa49059c6cf1fb\n",
      "  hostname: 4eyes\n",
      "  iterations_since_restore: 1\n",
      "  node_ip: 192.168.1.14\n",
      "  pid: 3541574\n",
      "  score: 1.01\n",
      "  time_since_restore: 0.00047206878662109375\n",
      "  time_this_iter_s: 0.00047206878662109375\n",
      "  time_total_s: 0.00047206878662109375\n",
      "  timestamp: 1652638833\n",
      "  timesteps_since_restore: 0\n",
      "  training_iteration: 1\n",
      "  trial_id: aaf29_00002\n",
      "  warmup_time: 0.008613348007202148\n",
      "  \n",
      "Result for objective_aaf29_00002:\n",
      "  date: 2022-05-15_14-20-33\n",
      "  done: true\n",
      "  experiment_id: 39de7521f07042eeaffa49059c6cf1fb\n",
      "  experiment_tag: 2_a=0.1,b=1\n",
      "  hostname: 4eyes\n",
      "  iterations_since_restore: 1\n",
      "  node_ip: 192.168.1.14\n",
      "  pid: 3541574\n",
      "  score: 1.01\n",
      "  time_since_restore: 0.00047206878662109375\n",
      "  time_this_iter_s: 0.00047206878662109375\n",
      "  time_total_s: 0.00047206878662109375\n",
      "  timestamp: 1652638833\n",
      "  timesteps_since_restore: 0\n",
      "  training_iteration: 1\n",
      "  trial_id: aaf29_00002\n",
      "  warmup_time: 0.008613348007202148\n",
      "  \n"
     ]
    },
    {
     "name": "stderr",
     "output_type": "stream",
     "text": [
      "2022-05-15 14:20:33,838\tINFO trial_runner.py:803 -- starting objective_aaf29_00003\n"
     ]
    },
    {
     "data": {
      "text/html": [
       "== Status ==<br>Current time: 2022-05-15 14:20:39 (running for 00:00:23.63)<br>Memory usage on this node: 9.4/15.5 GiB<br>Using FIFO scheduling algorithm.<br>Resources requested: 1.0/12 CPUs, 1.0/1 GPUs, 0.0/5.34 GiB heap, 0.0/2.67 GiB objects (0.0/1.0 accelerator_type:G)<br>Result logdir: /home/michael/ray_results/objective_2022-05-15_14-20-15<br>Number of trials: 9/9 (5 PENDING, 1 RUNNING, 3 TERMINATED)<br><table>\n",
       "<thead>\n",
       "<tr><th>Trial name           </th><th>status    </th><th>loc                 </th><th style=\"text-align: right;\">    a</th><th style=\"text-align: right;\">  b</th><th style=\"text-align: right;\">  iter</th><th style=\"text-align: right;\">  total time (s)</th><th style=\"text-align: right;\">  score</th></tr>\n",
       "</thead>\n",
       "<tbody>\n",
       "<tr><td>objective_aaf29_00003</td><td>RUNNING   </td><td>192.168.1.14:3541606</td><td style=\"text-align: right;\">0.001</td><td style=\"text-align: right;\">  2</td><td style=\"text-align: right;\">      </td><td style=\"text-align: right;\">                </td><td style=\"text-align: right;\">       </td></tr>\n",
       "<tr><td>objective_aaf29_00004</td><td>PENDING   </td><td>                    </td><td style=\"text-align: right;\">0.01 </td><td style=\"text-align: right;\">  2</td><td style=\"text-align: right;\">      </td><td style=\"text-align: right;\">                </td><td style=\"text-align: right;\">       </td></tr>\n",
       "<tr><td>objective_aaf29_00005</td><td>PENDING   </td><td>                    </td><td style=\"text-align: right;\">0.1  </td><td style=\"text-align: right;\">  2</td><td style=\"text-align: right;\">      </td><td style=\"text-align: right;\">                </td><td style=\"text-align: right;\">       </td></tr>\n",
       "<tr><td>objective_aaf29_00006</td><td>PENDING   </td><td>                    </td><td style=\"text-align: right;\">0.001</td><td style=\"text-align: right;\">  3</td><td style=\"text-align: right;\">      </td><td style=\"text-align: right;\">                </td><td style=\"text-align: right;\">       </td></tr>\n",
       "<tr><td>objective_aaf29_00007</td><td>PENDING   </td><td>                    </td><td style=\"text-align: right;\">0.01 </td><td style=\"text-align: right;\">  3</td><td style=\"text-align: right;\">      </td><td style=\"text-align: right;\">                </td><td style=\"text-align: right;\">       </td></tr>\n",
       "<tr><td>objective_aaf29_00008</td><td>PENDING   </td><td>                    </td><td style=\"text-align: right;\">0.1  </td><td style=\"text-align: right;\">  3</td><td style=\"text-align: right;\">      </td><td style=\"text-align: right;\">                </td><td style=\"text-align: right;\">       </td></tr>\n",
       "<tr><td>objective_aaf29_00000</td><td>TERMINATED</td><td>192.168.1.14:3541445</td><td style=\"text-align: right;\">0.001</td><td style=\"text-align: right;\">  1</td><td style=\"text-align: right;\">     1</td><td style=\"text-align: right;\">     0.000465393</td><td style=\"text-align: right;\"> 1     </td></tr>\n",
       "<tr><td>objective_aaf29_00001</td><td>TERMINATED</td><td>192.168.1.14:3541490</td><td style=\"text-align: right;\">0.01 </td><td style=\"text-align: right;\">  1</td><td style=\"text-align: right;\">     1</td><td style=\"text-align: right;\">     0.000622034</td><td style=\"text-align: right;\"> 1.0001</td></tr>\n",
       "<tr><td>objective_aaf29_00002</td><td>TERMINATED</td><td>192.168.1.14:3541574</td><td style=\"text-align: right;\">0.1  </td><td style=\"text-align: right;\">  1</td><td style=\"text-align: right;\">     1</td><td style=\"text-align: right;\">     0.000472069</td><td style=\"text-align: right;\"> 1.01  </td></tr>\n",
       "</tbody>\n",
       "</table><br><br>"
      ],
      "text/plain": [
       "<IPython.core.display.HTML object>"
      ]
     },
     "metadata": {},
     "output_type": "display_data"
    },
    {
     "name": "stdout",
     "output_type": "stream",
     "text": [
      "Result for objective_aaf29_00003:\n",
      "  date: 2022-05-15_14-20-39\n",
      "  done: false\n",
      "  experiment_id: da62f3067ef94f4d9454b62d51c90f48\n",
      "  hostname: 4eyes\n",
      "  iterations_since_restore: 1\n",
      "  node_ip: 192.168.1.14\n",
      "  pid: 3541606\n",
      "  score: 2.000001\n",
      "  time_since_restore: 0.0005412101745605469\n",
      "  time_this_iter_s: 0.0005412101745605469\n",
      "  time_total_s: 0.0005412101745605469\n",
      "  timestamp: 1652638839\n",
      "  timesteps_since_restore: 0\n",
      "  training_iteration: 1\n",
      "  trial_id: aaf29_00003\n",
      "  warmup_time: 0.00858926773071289\n",
      "  \n",
      "Result for objective_aaf29_00003:\n",
      "  date: 2022-05-15_14-20-39\n",
      "  done: true\n",
      "  experiment_id: da62f3067ef94f4d9454b62d51c90f48\n",
      "  experiment_tag: 3_a=0.001,b=2\n",
      "  hostname: 4eyes\n",
      "  iterations_since_restore: 1\n",
      "  node_ip: 192.168.1.14\n",
      "  pid: 3541606\n",
      "  score: 2.000001\n",
      "  time_since_restore: 0.0005412101745605469\n",
      "  time_this_iter_s: 0.0005412101745605469\n",
      "  time_total_s: 0.0005412101745605469\n",
      "  timestamp: 1652638839\n",
      "  timesteps_since_restore: 0\n",
      "  training_iteration: 1\n",
      "  trial_id: aaf29_00003\n",
      "  warmup_time: 0.00858926773071289\n",
      "  \n"
     ]
    },
    {
     "name": "stderr",
     "output_type": "stream",
     "text": [
      "2022-05-15 14:20:39,840\tINFO trial_runner.py:803 -- starting objective_aaf29_00004\n"
     ]
    },
    {
     "data": {
      "text/html": [
       "== Status ==<br>Current time: 2022-05-15 14:20:45 (running for 00:00:29.55)<br>Memory usage on this node: 9.4/15.5 GiB<br>Using FIFO scheduling algorithm.<br>Resources requested: 1.0/12 CPUs, 1.0/1 GPUs, 0.0/5.34 GiB heap, 0.0/2.67 GiB objects (0.0/1.0 accelerator_type:G)<br>Result logdir: /home/michael/ray_results/objective_2022-05-15_14-20-15<br>Number of trials: 9/9 (4 PENDING, 1 RUNNING, 4 TERMINATED)<br><table>\n",
       "<thead>\n",
       "<tr><th>Trial name           </th><th>status    </th><th>loc                 </th><th style=\"text-align: right;\">    a</th><th style=\"text-align: right;\">  b</th><th style=\"text-align: right;\">  iter</th><th style=\"text-align: right;\">  total time (s)</th><th style=\"text-align: right;\">  score</th></tr>\n",
       "</thead>\n",
       "<tbody>\n",
       "<tr><td>objective_aaf29_00004</td><td>RUNNING   </td><td>192.168.1.14:3541638</td><td style=\"text-align: right;\">0.01 </td><td style=\"text-align: right;\">  2</td><td style=\"text-align: right;\">      </td><td style=\"text-align: right;\">                </td><td style=\"text-align: right;\">       </td></tr>\n",
       "<tr><td>objective_aaf29_00005</td><td>PENDING   </td><td>                    </td><td style=\"text-align: right;\">0.1  </td><td style=\"text-align: right;\">  2</td><td style=\"text-align: right;\">      </td><td style=\"text-align: right;\">                </td><td style=\"text-align: right;\">       </td></tr>\n",
       "<tr><td>objective_aaf29_00006</td><td>PENDING   </td><td>                    </td><td style=\"text-align: right;\">0.001</td><td style=\"text-align: right;\">  3</td><td style=\"text-align: right;\">      </td><td style=\"text-align: right;\">                </td><td style=\"text-align: right;\">       </td></tr>\n",
       "<tr><td>objective_aaf29_00007</td><td>PENDING   </td><td>                    </td><td style=\"text-align: right;\">0.01 </td><td style=\"text-align: right;\">  3</td><td style=\"text-align: right;\">      </td><td style=\"text-align: right;\">                </td><td style=\"text-align: right;\">       </td></tr>\n",
       "<tr><td>objective_aaf29_00008</td><td>PENDING   </td><td>                    </td><td style=\"text-align: right;\">0.1  </td><td style=\"text-align: right;\">  3</td><td style=\"text-align: right;\">      </td><td style=\"text-align: right;\">                </td><td style=\"text-align: right;\">       </td></tr>\n",
       "<tr><td>objective_aaf29_00000</td><td>TERMINATED</td><td>192.168.1.14:3541445</td><td style=\"text-align: right;\">0.001</td><td style=\"text-align: right;\">  1</td><td style=\"text-align: right;\">     1</td><td style=\"text-align: right;\">     0.000465393</td><td style=\"text-align: right;\"> 1     </td></tr>\n",
       "<tr><td>objective_aaf29_00001</td><td>TERMINATED</td><td>192.168.1.14:3541490</td><td style=\"text-align: right;\">0.01 </td><td style=\"text-align: right;\">  1</td><td style=\"text-align: right;\">     1</td><td style=\"text-align: right;\">     0.000622034</td><td style=\"text-align: right;\"> 1.0001</td></tr>\n",
       "<tr><td>objective_aaf29_00002</td><td>TERMINATED</td><td>192.168.1.14:3541574</td><td style=\"text-align: right;\">0.1  </td><td style=\"text-align: right;\">  1</td><td style=\"text-align: right;\">     1</td><td style=\"text-align: right;\">     0.000472069</td><td style=\"text-align: right;\"> 1.01  </td></tr>\n",
       "<tr><td>objective_aaf29_00003</td><td>TERMINATED</td><td>192.168.1.14:3541606</td><td style=\"text-align: right;\">0.001</td><td style=\"text-align: right;\">  2</td><td style=\"text-align: right;\">     1</td><td style=\"text-align: right;\">     0.00054121 </td><td style=\"text-align: right;\"> 2     </td></tr>\n",
       "</tbody>\n",
       "</table><br><br>"
      ],
      "text/plain": [
       "<IPython.core.display.HTML object>"
      ]
     },
     "metadata": {},
     "output_type": "display_data"
    },
    {
     "name": "stdout",
     "output_type": "stream",
     "text": [
      "Result for objective_aaf29_00004:\n",
      "  date: 2022-05-15_14-20-45\n",
      "  done: false\n",
      "  experiment_id: c14da3b2489a449badc69d26fcf2bf3e\n",
      "  hostname: 4eyes\n",
      "  iterations_since_restore: 1\n",
      "  node_ip: 192.168.1.14\n",
      "  pid: 3541638\n",
      "  score: 2.0001\n",
      "  time_since_restore: 0.0005857944488525391\n",
      "  time_this_iter_s: 0.0005857944488525391\n",
      "  time_total_s: 0.0005857944488525391\n",
      "  timestamp: 1652638845\n",
      "  timesteps_since_restore: 0\n",
      "  training_iteration: 1\n",
      "  trial_id: aaf29_00004\n",
      "  warmup_time: 0.009018898010253906\n",
      "  \n",
      "Result for objective_aaf29_00004:\n",
      "  date: 2022-05-15_14-20-45\n",
      "  done: true\n",
      "  experiment_id: c14da3b2489a449badc69d26fcf2bf3e\n",
      "  experiment_tag: 4_a=0.01,b=2\n",
      "  hostname: 4eyes\n",
      "  iterations_since_restore: 1\n",
      "  node_ip: 192.168.1.14\n",
      "  pid: 3541638\n",
      "  score: 2.0001\n",
      "  time_since_restore: 0.0005857944488525391\n",
      "  time_this_iter_s: 0.0005857944488525391\n",
      "  time_total_s: 0.0005857944488525391\n",
      "  timestamp: 1652638845\n",
      "  timesteps_since_restore: 0\n",
      "  training_iteration: 1\n",
      "  trial_id: aaf29_00004\n",
      "  warmup_time: 0.009018898010253906\n",
      "  \n"
     ]
    },
    {
     "name": "stderr",
     "output_type": "stream",
     "text": [
      "2022-05-15 14:20:45,841\tINFO trial_runner.py:803 -- starting objective_aaf29_00005\n"
     ]
    },
    {
     "data": {
      "text/html": [
       "== Status ==<br>Current time: 2022-05-15 14:20:51 (running for 00:00:35.44)<br>Memory usage on this node: 9.4/15.5 GiB<br>Using FIFO scheduling algorithm.<br>Resources requested: 1.0/12 CPUs, 1.0/1 GPUs, 0.0/5.34 GiB heap, 0.0/2.67 GiB objects (0.0/1.0 accelerator_type:G)<br>Result logdir: /home/michael/ray_results/objective_2022-05-15_14-20-15<br>Number of trials: 9/9 (3 PENDING, 1 RUNNING, 5 TERMINATED)<br><table>\n",
       "<thead>\n",
       "<tr><th>Trial name           </th><th>status    </th><th>loc                 </th><th style=\"text-align: right;\">    a</th><th style=\"text-align: right;\">  b</th><th style=\"text-align: right;\">  iter</th><th style=\"text-align: right;\">  total time (s)</th><th style=\"text-align: right;\">  score</th></tr>\n",
       "</thead>\n",
       "<tbody>\n",
       "<tr><td>objective_aaf29_00005</td><td>RUNNING   </td><td>192.168.1.14:3541673</td><td style=\"text-align: right;\">0.1  </td><td style=\"text-align: right;\">  2</td><td style=\"text-align: right;\">      </td><td style=\"text-align: right;\">                </td><td style=\"text-align: right;\">       </td></tr>\n",
       "<tr><td>objective_aaf29_00006</td><td>PENDING   </td><td>                    </td><td style=\"text-align: right;\">0.001</td><td style=\"text-align: right;\">  3</td><td style=\"text-align: right;\">      </td><td style=\"text-align: right;\">                </td><td style=\"text-align: right;\">       </td></tr>\n",
       "<tr><td>objective_aaf29_00007</td><td>PENDING   </td><td>                    </td><td style=\"text-align: right;\">0.01 </td><td style=\"text-align: right;\">  3</td><td style=\"text-align: right;\">      </td><td style=\"text-align: right;\">                </td><td style=\"text-align: right;\">       </td></tr>\n",
       "<tr><td>objective_aaf29_00008</td><td>PENDING   </td><td>                    </td><td style=\"text-align: right;\">0.1  </td><td style=\"text-align: right;\">  3</td><td style=\"text-align: right;\">      </td><td style=\"text-align: right;\">                </td><td style=\"text-align: right;\">       </td></tr>\n",
       "<tr><td>objective_aaf29_00000</td><td>TERMINATED</td><td>192.168.1.14:3541445</td><td style=\"text-align: right;\">0.001</td><td style=\"text-align: right;\">  1</td><td style=\"text-align: right;\">     1</td><td style=\"text-align: right;\">     0.000465393</td><td style=\"text-align: right;\"> 1     </td></tr>\n",
       "<tr><td>objective_aaf29_00001</td><td>TERMINATED</td><td>192.168.1.14:3541490</td><td style=\"text-align: right;\">0.01 </td><td style=\"text-align: right;\">  1</td><td style=\"text-align: right;\">     1</td><td style=\"text-align: right;\">     0.000622034</td><td style=\"text-align: right;\"> 1.0001</td></tr>\n",
       "<tr><td>objective_aaf29_00002</td><td>TERMINATED</td><td>192.168.1.14:3541574</td><td style=\"text-align: right;\">0.1  </td><td style=\"text-align: right;\">  1</td><td style=\"text-align: right;\">     1</td><td style=\"text-align: right;\">     0.000472069</td><td style=\"text-align: right;\"> 1.01  </td></tr>\n",
       "<tr><td>objective_aaf29_00003</td><td>TERMINATED</td><td>192.168.1.14:3541606</td><td style=\"text-align: right;\">0.001</td><td style=\"text-align: right;\">  2</td><td style=\"text-align: right;\">     1</td><td style=\"text-align: right;\">     0.00054121 </td><td style=\"text-align: right;\"> 2     </td></tr>\n",
       "<tr><td>objective_aaf29_00004</td><td>TERMINATED</td><td>192.168.1.14:3541638</td><td style=\"text-align: right;\">0.01 </td><td style=\"text-align: right;\">  2</td><td style=\"text-align: right;\">     1</td><td style=\"text-align: right;\">     0.000585794</td><td style=\"text-align: right;\"> 2.0001</td></tr>\n",
       "</tbody>\n",
       "</table><br><br>"
      ],
      "text/plain": [
       "<IPython.core.display.HTML object>"
      ]
     },
     "metadata": {},
     "output_type": "display_data"
    },
    {
     "name": "stdout",
     "output_type": "stream",
     "text": [
      "Result for objective_aaf29_00005:\n",
      "  date: 2022-05-15_14-20-51\n",
      "  done: false\n",
      "  experiment_id: ad556dee7c0746748ee41940cb4ca9d1\n",
      "  hostname: 4eyes\n",
      "  iterations_since_restore: 1\n",
      "  node_ip: 192.168.1.14\n",
      "  pid: 3541673\n",
      "  score: 2.01\n",
      "  time_since_restore: 0.0004374980926513672\n",
      "  time_this_iter_s: 0.0004374980926513672\n",
      "  time_total_s: 0.0004374980926513672\n",
      "  timestamp: 1652638851\n",
      "  timesteps_since_restore: 0\n",
      "  training_iteration: 1\n",
      "  trial_id: aaf29_00005\n",
      "  warmup_time: 0.008594751358032227\n",
      "  \n",
      "Result for objective_aaf29_00005:\n",
      "  date: 2022-05-15_14-20-51\n",
      "  done: true\n",
      "  experiment_id: ad556dee7c0746748ee41940cb4ca9d1\n",
      "  experiment_tag: 5_a=0.1,b=2\n",
      "  hostname: 4eyes\n",
      "  iterations_since_restore: 1\n",
      "  node_ip: 192.168.1.14\n",
      "  pid: 3541673\n",
      "  score: 2.01\n",
      "  time_since_restore: 0.0004374980926513672\n",
      "  time_this_iter_s: 0.0004374980926513672\n",
      "  time_total_s: 0.0004374980926513672\n",
      "  timestamp: 1652638851\n",
      "  timesteps_since_restore: 0\n",
      "  training_iteration: 1\n",
      "  trial_id: aaf29_00005\n",
      "  warmup_time: 0.008594751358032227\n",
      "  \n"
     ]
    },
    {
     "name": "stderr",
     "output_type": "stream",
     "text": [
      "2022-05-15 14:20:51,842\tINFO trial_runner.py:803 -- starting objective_aaf29_00006\n"
     ]
    },
    {
     "data": {
      "text/html": [
       "== Status ==<br>Current time: 2022-05-15 14:20:57 (running for 00:00:41.59)<br>Memory usage on this node: 9.4/15.5 GiB<br>Using FIFO scheduling algorithm.<br>Resources requested: 1.0/12 CPUs, 1.0/1 GPUs, 0.0/5.34 GiB heap, 0.0/2.67 GiB objects (0.0/1.0 accelerator_type:G)<br>Result logdir: /home/michael/ray_results/objective_2022-05-15_14-20-15<br>Number of trials: 9/9 (2 PENDING, 1 RUNNING, 6 TERMINATED)<br><table>\n",
       "<thead>\n",
       "<tr><th>Trial name           </th><th>status    </th><th>loc                 </th><th style=\"text-align: right;\">    a</th><th style=\"text-align: right;\">  b</th><th style=\"text-align: right;\">  iter</th><th style=\"text-align: right;\">  total time (s)</th><th style=\"text-align: right;\">  score</th></tr>\n",
       "</thead>\n",
       "<tbody>\n",
       "<tr><td>objective_aaf29_00006</td><td>RUNNING   </td><td>192.168.1.14:3541707</td><td style=\"text-align: right;\">0.001</td><td style=\"text-align: right;\">  3</td><td style=\"text-align: right;\">      </td><td style=\"text-align: right;\">                </td><td style=\"text-align: right;\">       </td></tr>\n",
       "<tr><td>objective_aaf29_00007</td><td>PENDING   </td><td>                    </td><td style=\"text-align: right;\">0.01 </td><td style=\"text-align: right;\">  3</td><td style=\"text-align: right;\">      </td><td style=\"text-align: right;\">                </td><td style=\"text-align: right;\">       </td></tr>\n",
       "<tr><td>objective_aaf29_00008</td><td>PENDING   </td><td>                    </td><td style=\"text-align: right;\">0.1  </td><td style=\"text-align: right;\">  3</td><td style=\"text-align: right;\">      </td><td style=\"text-align: right;\">                </td><td style=\"text-align: right;\">       </td></tr>\n",
       "<tr><td>objective_aaf29_00000</td><td>TERMINATED</td><td>192.168.1.14:3541445</td><td style=\"text-align: right;\">0.001</td><td style=\"text-align: right;\">  1</td><td style=\"text-align: right;\">     1</td><td style=\"text-align: right;\">     0.000465393</td><td style=\"text-align: right;\"> 1     </td></tr>\n",
       "<tr><td>objective_aaf29_00001</td><td>TERMINATED</td><td>192.168.1.14:3541490</td><td style=\"text-align: right;\">0.01 </td><td style=\"text-align: right;\">  1</td><td style=\"text-align: right;\">     1</td><td style=\"text-align: right;\">     0.000622034</td><td style=\"text-align: right;\"> 1.0001</td></tr>\n",
       "<tr><td>objective_aaf29_00002</td><td>TERMINATED</td><td>192.168.1.14:3541574</td><td style=\"text-align: right;\">0.1  </td><td style=\"text-align: right;\">  1</td><td style=\"text-align: right;\">     1</td><td style=\"text-align: right;\">     0.000472069</td><td style=\"text-align: right;\"> 1.01  </td></tr>\n",
       "<tr><td>objective_aaf29_00003</td><td>TERMINATED</td><td>192.168.1.14:3541606</td><td style=\"text-align: right;\">0.001</td><td style=\"text-align: right;\">  2</td><td style=\"text-align: right;\">     1</td><td style=\"text-align: right;\">     0.00054121 </td><td style=\"text-align: right;\"> 2     </td></tr>\n",
       "<tr><td>objective_aaf29_00004</td><td>TERMINATED</td><td>192.168.1.14:3541638</td><td style=\"text-align: right;\">0.01 </td><td style=\"text-align: right;\">  2</td><td style=\"text-align: right;\">     1</td><td style=\"text-align: right;\">     0.000585794</td><td style=\"text-align: right;\"> 2.0001</td></tr>\n",
       "<tr><td>objective_aaf29_00005</td><td>TERMINATED</td><td>192.168.1.14:3541673</td><td style=\"text-align: right;\">0.1  </td><td style=\"text-align: right;\">  2</td><td style=\"text-align: right;\">     1</td><td style=\"text-align: right;\">     0.000437498</td><td style=\"text-align: right;\"> 2.01  </td></tr>\n",
       "</tbody>\n",
       "</table><br><br>"
      ],
      "text/plain": [
       "<IPython.core.display.HTML object>"
      ]
     },
     "metadata": {},
     "output_type": "display_data"
    },
    {
     "name": "stdout",
     "output_type": "stream",
     "text": [
      "Result for objective_aaf29_00006:\n",
      "  date: 2022-05-15_14-20-57\n",
      "  done: false\n",
      "  experiment_id: a45a4abcbcd949648366eed291a4a379\n",
      "  hostname: 4eyes\n",
      "  iterations_since_restore: 1\n",
      "  node_ip: 192.168.1.14\n",
      "  pid: 3541707\n",
      "  score: 3.000001\n",
      "  time_since_restore: 0.00043129920959472656\n",
      "  time_this_iter_s: 0.00043129920959472656\n",
      "  time_total_s: 0.00043129920959472656\n",
      "  timestamp: 1652638857\n",
      "  timesteps_since_restore: 0\n",
      "  training_iteration: 1\n",
      "  trial_id: aaf29_00006\n",
      "  warmup_time: 0.0080718994140625\n",
      "  \n",
      "Result for objective_aaf29_00006:\n",
      "  date: 2022-05-15_14-20-57\n",
      "  done: true\n",
      "  experiment_id: a45a4abcbcd949648366eed291a4a379\n",
      "  experiment_tag: 6_a=0.001,b=3\n",
      "  hostname: 4eyes\n",
      "  iterations_since_restore: 1\n",
      "  node_ip: 192.168.1.14\n",
      "  pid: 3541707\n",
      "  score: 3.000001\n",
      "  time_since_restore: 0.00043129920959472656\n",
      "  time_this_iter_s: 0.00043129920959472656\n",
      "  time_total_s: 0.00043129920959472656\n",
      "  timestamp: 1652638857\n",
      "  timesteps_since_restore: 0\n",
      "  training_iteration: 1\n",
      "  trial_id: aaf29_00006\n",
      "  warmup_time: 0.0080718994140625\n",
      "  \n"
     ]
    },
    {
     "name": "stderr",
     "output_type": "stream",
     "text": [
      "2022-05-15 14:20:57,844\tINFO trial_runner.py:803 -- starting objective_aaf29_00007\n"
     ]
    },
    {
     "data": {
      "text/html": [
       "== Status ==<br>Current time: 2022-05-15 14:21:03 (running for 00:00:47.63)<br>Memory usage on this node: 9.3/15.5 GiB<br>Using FIFO scheduling algorithm.<br>Resources requested: 1.0/12 CPUs, 1.0/1 GPUs, 0.0/5.34 GiB heap, 0.0/2.67 GiB objects (0.0/1.0 accelerator_type:G)<br>Result logdir: /home/michael/ray_results/objective_2022-05-15_14-20-15<br>Number of trials: 9/9 (1 PENDING, 1 RUNNING, 7 TERMINATED)<br><table>\n",
       "<thead>\n",
       "<tr><th>Trial name           </th><th>status    </th><th>loc                 </th><th style=\"text-align: right;\">    a</th><th style=\"text-align: right;\">  b</th><th style=\"text-align: right;\">  iter</th><th style=\"text-align: right;\">  total time (s)</th><th style=\"text-align: right;\">  score</th></tr>\n",
       "</thead>\n",
       "<tbody>\n",
       "<tr><td>objective_aaf29_00007</td><td>RUNNING   </td><td>192.168.1.14:3541740</td><td style=\"text-align: right;\">0.01 </td><td style=\"text-align: right;\">  3</td><td style=\"text-align: right;\">      </td><td style=\"text-align: right;\">                </td><td style=\"text-align: right;\">       </td></tr>\n",
       "<tr><td>objective_aaf29_00008</td><td>PENDING   </td><td>                    </td><td style=\"text-align: right;\">0.1  </td><td style=\"text-align: right;\">  3</td><td style=\"text-align: right;\">      </td><td style=\"text-align: right;\">                </td><td style=\"text-align: right;\">       </td></tr>\n",
       "<tr><td>objective_aaf29_00000</td><td>TERMINATED</td><td>192.168.1.14:3541445</td><td style=\"text-align: right;\">0.001</td><td style=\"text-align: right;\">  1</td><td style=\"text-align: right;\">     1</td><td style=\"text-align: right;\">     0.000465393</td><td style=\"text-align: right;\"> 1     </td></tr>\n",
       "<tr><td>objective_aaf29_00001</td><td>TERMINATED</td><td>192.168.1.14:3541490</td><td style=\"text-align: right;\">0.01 </td><td style=\"text-align: right;\">  1</td><td style=\"text-align: right;\">     1</td><td style=\"text-align: right;\">     0.000622034</td><td style=\"text-align: right;\"> 1.0001</td></tr>\n",
       "<tr><td>objective_aaf29_00002</td><td>TERMINATED</td><td>192.168.1.14:3541574</td><td style=\"text-align: right;\">0.1  </td><td style=\"text-align: right;\">  1</td><td style=\"text-align: right;\">     1</td><td style=\"text-align: right;\">     0.000472069</td><td style=\"text-align: right;\"> 1.01  </td></tr>\n",
       "<tr><td>objective_aaf29_00003</td><td>TERMINATED</td><td>192.168.1.14:3541606</td><td style=\"text-align: right;\">0.001</td><td style=\"text-align: right;\">  2</td><td style=\"text-align: right;\">     1</td><td style=\"text-align: right;\">     0.00054121 </td><td style=\"text-align: right;\"> 2     </td></tr>\n",
       "<tr><td>objective_aaf29_00004</td><td>TERMINATED</td><td>192.168.1.14:3541638</td><td style=\"text-align: right;\">0.01 </td><td style=\"text-align: right;\">  2</td><td style=\"text-align: right;\">     1</td><td style=\"text-align: right;\">     0.000585794</td><td style=\"text-align: right;\"> 2.0001</td></tr>\n",
       "<tr><td>objective_aaf29_00005</td><td>TERMINATED</td><td>192.168.1.14:3541673</td><td style=\"text-align: right;\">0.1  </td><td style=\"text-align: right;\">  2</td><td style=\"text-align: right;\">     1</td><td style=\"text-align: right;\">     0.000437498</td><td style=\"text-align: right;\"> 2.01  </td></tr>\n",
       "<tr><td>objective_aaf29_00006</td><td>TERMINATED</td><td>192.168.1.14:3541707</td><td style=\"text-align: right;\">0.001</td><td style=\"text-align: right;\">  3</td><td style=\"text-align: right;\">     1</td><td style=\"text-align: right;\">     0.000431299</td><td style=\"text-align: right;\"> 3     </td></tr>\n",
       "</tbody>\n",
       "</table><br><br>"
      ],
      "text/plain": [
       "<IPython.core.display.HTML object>"
      ]
     },
     "metadata": {},
     "output_type": "display_data"
    },
    {
     "name": "stdout",
     "output_type": "stream",
     "text": [
      "Result for objective_aaf29_00007:\n",
      "  date: 2022-05-15_14-21-03\n",
      "  done: false\n",
      "  experiment_id: 3e5e08dfdf2d409f943c327684464c75\n",
      "  hostname: 4eyes\n",
      "  iterations_since_restore: 1\n",
      "  node_ip: 192.168.1.14\n",
      "  pid: 3541740\n",
      "  score: 3.0001\n",
      "  time_since_restore: 0.0005941390991210938\n",
      "  time_this_iter_s: 0.0005941390991210938\n",
      "  time_total_s: 0.0005941390991210938\n",
      "  timestamp: 1652638863\n",
      "  timesteps_since_restore: 0\n",
      "  training_iteration: 1\n",
      "  trial_id: aaf29_00007\n",
      "  warmup_time: 0.008829832077026367\n",
      "  \n",
      "Result for objective_aaf29_00007:\n",
      "  date: 2022-05-15_14-21-03\n",
      "  done: true\n",
      "  experiment_id: 3e5e08dfdf2d409f943c327684464c75\n",
      "  experiment_tag: 7_a=0.01,b=3\n",
      "  hostname: 4eyes\n",
      "  iterations_since_restore: 1\n",
      "  node_ip: 192.168.1.14\n",
      "  pid: 3541740\n",
      "  score: 3.0001\n",
      "  time_since_restore: 0.0005941390991210938\n",
      "  time_this_iter_s: 0.0005941390991210938\n",
      "  time_total_s: 0.0005941390991210938\n",
      "  timestamp: 1652638863\n",
      "  timesteps_since_restore: 0\n",
      "  training_iteration: 1\n",
      "  trial_id: aaf29_00007\n",
      "  warmup_time: 0.008829832077026367\n",
      "  \n"
     ]
    },
    {
     "name": "stderr",
     "output_type": "stream",
     "text": [
      "2022-05-15 14:21:03,846\tINFO trial_runner.py:803 -- starting objective_aaf29_00008\n"
     ]
    },
    {
     "data": {
      "text/html": [
       "== Status ==<br>Current time: 2022-05-15 14:21:09 (running for 00:00:53.48)<br>Memory usage on this node: 9.3/15.5 GiB<br>Using FIFO scheduling algorithm.<br>Resources requested: 1.0/12 CPUs, 1.0/1 GPUs, 0.0/5.34 GiB heap, 0.0/2.67 GiB objects (0.0/1.0 accelerator_type:G)<br>Result logdir: /home/michael/ray_results/objective_2022-05-15_14-20-15<br>Number of trials: 9/9 (1 RUNNING, 8 TERMINATED)<br><table>\n",
       "<thead>\n",
       "<tr><th>Trial name           </th><th>status    </th><th>loc                 </th><th style=\"text-align: right;\">    a</th><th style=\"text-align: right;\">  b</th><th style=\"text-align: right;\">  iter</th><th style=\"text-align: right;\">  total time (s)</th><th style=\"text-align: right;\">  score</th></tr>\n",
       "</thead>\n",
       "<tbody>\n",
       "<tr><td>objective_aaf29_00008</td><td>RUNNING   </td><td>192.168.1.14:3541778</td><td style=\"text-align: right;\">0.1  </td><td style=\"text-align: right;\">  3</td><td style=\"text-align: right;\">      </td><td style=\"text-align: right;\">                </td><td style=\"text-align: right;\">       </td></tr>\n",
       "<tr><td>objective_aaf29_00000</td><td>TERMINATED</td><td>192.168.1.14:3541445</td><td style=\"text-align: right;\">0.001</td><td style=\"text-align: right;\">  1</td><td style=\"text-align: right;\">     1</td><td style=\"text-align: right;\">     0.000465393</td><td style=\"text-align: right;\"> 1     </td></tr>\n",
       "<tr><td>objective_aaf29_00001</td><td>TERMINATED</td><td>192.168.1.14:3541490</td><td style=\"text-align: right;\">0.01 </td><td style=\"text-align: right;\">  1</td><td style=\"text-align: right;\">     1</td><td style=\"text-align: right;\">     0.000622034</td><td style=\"text-align: right;\"> 1.0001</td></tr>\n",
       "<tr><td>objective_aaf29_00002</td><td>TERMINATED</td><td>192.168.1.14:3541574</td><td style=\"text-align: right;\">0.1  </td><td style=\"text-align: right;\">  1</td><td style=\"text-align: right;\">     1</td><td style=\"text-align: right;\">     0.000472069</td><td style=\"text-align: right;\"> 1.01  </td></tr>\n",
       "<tr><td>objective_aaf29_00003</td><td>TERMINATED</td><td>192.168.1.14:3541606</td><td style=\"text-align: right;\">0.001</td><td style=\"text-align: right;\">  2</td><td style=\"text-align: right;\">     1</td><td style=\"text-align: right;\">     0.00054121 </td><td style=\"text-align: right;\"> 2     </td></tr>\n",
       "<tr><td>objective_aaf29_00004</td><td>TERMINATED</td><td>192.168.1.14:3541638</td><td style=\"text-align: right;\">0.01 </td><td style=\"text-align: right;\">  2</td><td style=\"text-align: right;\">     1</td><td style=\"text-align: right;\">     0.000585794</td><td style=\"text-align: right;\"> 2.0001</td></tr>\n",
       "<tr><td>objective_aaf29_00005</td><td>TERMINATED</td><td>192.168.1.14:3541673</td><td style=\"text-align: right;\">0.1  </td><td style=\"text-align: right;\">  2</td><td style=\"text-align: right;\">     1</td><td style=\"text-align: right;\">     0.000437498</td><td style=\"text-align: right;\"> 2.01  </td></tr>\n",
       "<tr><td>objective_aaf29_00006</td><td>TERMINATED</td><td>192.168.1.14:3541707</td><td style=\"text-align: right;\">0.001</td><td style=\"text-align: right;\">  3</td><td style=\"text-align: right;\">     1</td><td style=\"text-align: right;\">     0.000431299</td><td style=\"text-align: right;\"> 3     </td></tr>\n",
       "<tr><td>objective_aaf29_00007</td><td>TERMINATED</td><td>192.168.1.14:3541740</td><td style=\"text-align: right;\">0.01 </td><td style=\"text-align: right;\">  3</td><td style=\"text-align: right;\">     1</td><td style=\"text-align: right;\">     0.000594139</td><td style=\"text-align: right;\"> 3.0001</td></tr>\n",
       "</tbody>\n",
       "</table><br><br>"
      ],
      "text/plain": [
       "<IPython.core.display.HTML object>"
      ]
     },
     "metadata": {},
     "output_type": "display_data"
    },
    {
     "name": "stdout",
     "output_type": "stream",
     "text": [
      "Result for objective_aaf29_00008:\n",
      "  date: 2022-05-15_14-21-09\n",
      "  done: false\n",
      "  experiment_id: 309dcfd161444ad8ae60617ad11463b5\n",
      "  hostname: 4eyes\n",
      "  iterations_since_restore: 1\n",
      "  node_ip: 192.168.1.14\n",
      "  pid: 3541778\n",
      "  score: 3.01\n",
      "  time_since_restore: 0.0005631446838378906\n",
      "  time_this_iter_s: 0.0005631446838378906\n",
      "  time_total_s: 0.0005631446838378906\n",
      "  timestamp: 1652638869\n",
      "  timesteps_since_restore: 0\n",
      "  training_iteration: 1\n",
      "  trial_id: aaf29_00008\n",
      "  warmup_time: 0.00888204574584961\n",
      "  \n",
      "Result for objective_aaf29_00008:\n",
      "  date: 2022-05-15_14-21-09\n",
      "  done: true\n",
      "  experiment_id: 309dcfd161444ad8ae60617ad11463b5\n",
      "  experiment_tag: 8_a=0.1,b=3\n",
      "  hostname: 4eyes\n",
      "  iterations_since_restore: 1\n",
      "  node_ip: 192.168.1.14\n",
      "  pid: 3541778\n",
      "  score: 3.01\n",
      "  time_since_restore: 0.0005631446838378906\n",
      "  time_this_iter_s: 0.0005631446838378906\n",
      "  time_total_s: 0.0005631446838378906\n",
      "  timestamp: 1652638869\n",
      "  timesteps_since_restore: 0\n",
      "  training_iteration: 1\n",
      "  trial_id: aaf29_00008\n",
      "  warmup_time: 0.00888204574584961\n",
      "  \n"
     ]
    },
    {
     "data": {
      "text/html": [
       "== Status ==<br>Current time: 2022-05-15 14:21:09 (running for 00:00:53.56)<br>Memory usage on this node: 9.2/15.5 GiB<br>Using FIFO scheduling algorithm.<br>Resources requested: 0/12 CPUs, 0/1 GPUs, 0.0/5.34 GiB heap, 0.0/2.67 GiB objects (0.0/1.0 accelerator_type:G)<br>Result logdir: /home/michael/ray_results/objective_2022-05-15_14-20-15<br>Number of trials: 9/9 (9 TERMINATED)<br><table>\n",
       "<thead>\n",
       "<tr><th>Trial name           </th><th>status    </th><th>loc                 </th><th style=\"text-align: right;\">    a</th><th style=\"text-align: right;\">  b</th><th style=\"text-align: right;\">  iter</th><th style=\"text-align: right;\">  total time (s)</th><th style=\"text-align: right;\">  score</th></tr>\n",
       "</thead>\n",
       "<tbody>\n",
       "<tr><td>objective_aaf29_00000</td><td>TERMINATED</td><td>192.168.1.14:3541445</td><td style=\"text-align: right;\">0.001</td><td style=\"text-align: right;\">  1</td><td style=\"text-align: right;\">     1</td><td style=\"text-align: right;\">     0.000465393</td><td style=\"text-align: right;\"> 1     </td></tr>\n",
       "<tr><td>objective_aaf29_00001</td><td>TERMINATED</td><td>192.168.1.14:3541490</td><td style=\"text-align: right;\">0.01 </td><td style=\"text-align: right;\">  1</td><td style=\"text-align: right;\">     1</td><td style=\"text-align: right;\">     0.000622034</td><td style=\"text-align: right;\"> 1.0001</td></tr>\n",
       "<tr><td>objective_aaf29_00002</td><td>TERMINATED</td><td>192.168.1.14:3541574</td><td style=\"text-align: right;\">0.1  </td><td style=\"text-align: right;\">  1</td><td style=\"text-align: right;\">     1</td><td style=\"text-align: right;\">     0.000472069</td><td style=\"text-align: right;\"> 1.01  </td></tr>\n",
       "<tr><td>objective_aaf29_00003</td><td>TERMINATED</td><td>192.168.1.14:3541606</td><td style=\"text-align: right;\">0.001</td><td style=\"text-align: right;\">  2</td><td style=\"text-align: right;\">     1</td><td style=\"text-align: right;\">     0.00054121 </td><td style=\"text-align: right;\"> 2     </td></tr>\n",
       "<tr><td>objective_aaf29_00004</td><td>TERMINATED</td><td>192.168.1.14:3541638</td><td style=\"text-align: right;\">0.01 </td><td style=\"text-align: right;\">  2</td><td style=\"text-align: right;\">     1</td><td style=\"text-align: right;\">     0.000585794</td><td style=\"text-align: right;\"> 2.0001</td></tr>\n",
       "<tr><td>objective_aaf29_00005</td><td>TERMINATED</td><td>192.168.1.14:3541673</td><td style=\"text-align: right;\">0.1  </td><td style=\"text-align: right;\">  2</td><td style=\"text-align: right;\">     1</td><td style=\"text-align: right;\">     0.000437498</td><td style=\"text-align: right;\"> 2.01  </td></tr>\n",
       "<tr><td>objective_aaf29_00006</td><td>TERMINATED</td><td>192.168.1.14:3541707</td><td style=\"text-align: right;\">0.001</td><td style=\"text-align: right;\">  3</td><td style=\"text-align: right;\">     1</td><td style=\"text-align: right;\">     0.000431299</td><td style=\"text-align: right;\"> 3     </td></tr>\n",
       "<tr><td>objective_aaf29_00007</td><td>TERMINATED</td><td>192.168.1.14:3541740</td><td style=\"text-align: right;\">0.01 </td><td style=\"text-align: right;\">  3</td><td style=\"text-align: right;\">     1</td><td style=\"text-align: right;\">     0.000594139</td><td style=\"text-align: right;\"> 3.0001</td></tr>\n",
       "<tr><td>objective_aaf29_00008</td><td>TERMINATED</td><td>192.168.1.14:3541778</td><td style=\"text-align: right;\">0.1  </td><td style=\"text-align: right;\">  3</td><td style=\"text-align: right;\">     1</td><td style=\"text-align: right;\">     0.000563145</td><td style=\"text-align: right;\"> 3.01  </td></tr>\n",
       "</tbody>\n",
       "</table><br><br>"
      ],
      "text/plain": [
       "<IPython.core.display.HTML object>"
      ]
     },
     "metadata": {},
     "output_type": "display_data"
    },
    {
     "name": "stderr",
     "output_type": "stream",
     "text": [
      "2022-05-15 14:21:09,342\tINFO tune.py:701 -- Total run time: 53.82 seconds (53.53 seconds for the tuning loop).\n"
     ]
    },
    {
     "name": "stdout",
     "output_type": "stream",
     "text": [
      "{'a': 0.001, 'b': 1}\n"
     ]
    }
   ],
   "source": [
    "# 3. Start a Tune run and print the best result.\n",
    "analysis = tune.run(objective, config=search_space,resources_per_trial={'gpu': 1})\n",
    "print(analysis.get_best_config(metric=\"score\", mode=\"min\"))"
   ]
  },
  {
   "cell_type": "markdown",
   "metadata": {},
   "source": [
    "Cool, It works! At least, the ray tune tool doesn't break. Now let's 1) apply it to a more complex function and 2) compare it to the performance of vanilla sklearn. First thing we need to do is create a dataset and partition it into training and testing sets for evaluation.   \n",
    "\n",
    "\n"
   ]
  },
  {
   "cell_type": "code",
   "execution_count": 6,
   "metadata": {},
   "outputs": [],
   "source": [
    "# Create dataset\n",
    "X, y = make_classification(\n",
    "    n_samples=11000,\n",
    "    n_features=1000,\n",
    "    n_informative=50,\n",
    "    n_redundant=0,\n",
    "    n_classes=10,\n",
    "    class_sep=2.5,\n",
    ")\n",
    "x_train, x_test, y_train, y_test = train_test_split(X, y, test_size=1000)\n",
    "\n"
   ]
  },
  {
   "cell_type": "markdown",
   "metadata": {},
   "source": [
    "This function has different parameters the the one above, so let's define our new search space for the SGD (Stochastic Gradient Descent) algorithm. "
   ]
  },
  {
   "cell_type": "code",
   "execution_count": 7,
   "metadata": {},
   "outputs": [],
   "source": [
    "# 2. Define a search space.\n",
    "search_space = {\n",
    "    \"alpha\": tune.grid_search([1e-4, 1e-1, 1]),\n",
    "    \"epsilon\": tune.grid_search([0.01, 0.1]),\n",
    "}"
   ]
  },
  {
   "cell_type": "markdown",
   "metadata": {},
   "source": [
    "As a baseline to evaluate our increased performance. Let's run SGD once, with one set of parameters and see how long it takes. "
   ]
  },
  {
   "cell_type": "code",
   "execution_count": 8,
   "metadata": {},
   "outputs": [
    {
     "data": {
      "text/plain": [
       "0.85"
      ]
     },
     "execution_count": 8,
     "metadata": {},
     "output_type": "execute_result"
    }
   ],
   "source": [
    "clf = SGDClassifier(alpha=1,epsilon=0.1)\n",
    "clf.fit(x_train,y_train)\n",
    "clf.score(x_test,y_test)"
   ]
  },
  {
   "cell_type": "markdown",
   "metadata": {},
   "source": [
    "Looks like it takes about 1 second to initialize the SGD, train it and evaluate it. Give our search space contains 6 different combinations, we should expect a serial execution (slowest) to be about 6 seconds, and a fully parralelized implementation to take about 1 second (fastest). Lets see.    "
   ]
  },
  {
   "cell_type": "code",
   "execution_count": 9,
   "metadata": {},
   "outputs": [],
   "source": [
    "def objective(config, checkpoint_dir=None):\n",
    "    clf = SGDClassifier(alpha = config[\"alpha\"], epsilon = config[\"epsilon\"])\n",
    "    clf.fit(x_train,y_train)\n",
    "    score = clf.score(x_test,y_test)\n",
    "    return {\"score\": score}"
   ]
  },
  {
   "cell_type": "code",
   "execution_count": 13,
   "metadata": {},
   "outputs": [
    {
     "name": "stderr",
     "output_type": "stream",
     "text": [
      "2022-05-14 14:41:10,031\tINFO trial_runner.py:803 -- starting objective_6718c_00000\n",
      "2022-05-14 14:41:11,165\tWARNING worker.py:1382 -- Warning: The actor ImplicitFunc is very large (84 MiB). Check that its definition is not implicitly capturing a large array or other object in scope. Tip: use ray.put() to put large objects in the Ray object store.\n",
      "2022-05-14 14:41:13,212\tWARNING util.py:171 -- The `start_trial` operation took 3.180 s, which may be a performance bottleneck.\n"
     ]
    },
    {
     "data": {
      "text/html": [
       "== Status ==<br>Current time: 2022-05-14 14:41:16 (running for 00:00:15.23)<br>Memory usage on this node: 10.0/15.5 GiB<br>Using FIFO scheduling algorithm.<br>Resources requested: 1.0/12 CPUs, 1.0/1 GPUs, 0.0/5.31 GiB heap, 0.0/2.66 GiB objects (0.0/1.0 accelerator_type:G)<br>Result logdir: /home/michael/ray_results/objective_2022-05-14_14-41-01<br>Number of trials: 6/6 (5 PENDING, 1 RUNNING)<br><table>\n",
       "<thead>\n",
       "<tr><th>Trial name           </th><th>status  </th><th>loc                 </th><th style=\"text-align: right;\">  alpha</th><th style=\"text-align: right;\">  epsilon</th></tr>\n",
       "</thead>\n",
       "<tbody>\n",
       "<tr><td>objective_6718c_00000</td><td>RUNNING </td><td>192.168.1.14:3424789</td><td style=\"text-align: right;\"> 0.0001</td><td style=\"text-align: right;\">     0.01</td></tr>\n",
       "<tr><td>objective_6718c_00001</td><td>PENDING </td><td>                    </td><td style=\"text-align: right;\"> 0.1   </td><td style=\"text-align: right;\">     0.01</td></tr>\n",
       "<tr><td>objective_6718c_00002</td><td>PENDING </td><td>                    </td><td style=\"text-align: right;\"> 1     </td><td style=\"text-align: right;\">     0.01</td></tr>\n",
       "<tr><td>objective_6718c_00003</td><td>PENDING </td><td>                    </td><td style=\"text-align: right;\"> 0.0001</td><td style=\"text-align: right;\">     0.1 </td></tr>\n",
       "<tr><td>objective_6718c_00004</td><td>PENDING </td><td>                    </td><td style=\"text-align: right;\"> 0.1   </td><td style=\"text-align: right;\">     0.1 </td></tr>\n",
       "<tr><td>objective_6718c_00005</td><td>PENDING </td><td>                    </td><td style=\"text-align: right;\"> 1     </td><td style=\"text-align: right;\">     0.1 </td></tr>\n",
       "</tbody>\n",
       "</table><br><br>"
      ],
      "text/plain": [
       "<IPython.core.display.HTML object>"
      ]
     },
     "metadata": {},
     "output_type": "display_data"
    },
    {
     "data": {
      "text/html": [
       "== Status ==<br>Current time: 2022-05-14 14:41:21 (running for 00:00:20.24)<br>Memory usage on this node: 10.0/15.5 GiB<br>Using FIFO scheduling algorithm.<br>Resources requested: 1.0/12 CPUs, 1.0/1 GPUs, 0.0/5.31 GiB heap, 0.0/2.66 GiB objects (0.0/1.0 accelerator_type:G)<br>Result logdir: /home/michael/ray_results/objective_2022-05-14_14-41-01<br>Number of trials: 6/6 (5 PENDING, 1 RUNNING)<br><table>\n",
       "<thead>\n",
       "<tr><th>Trial name           </th><th>status  </th><th>loc                 </th><th style=\"text-align: right;\">  alpha</th><th style=\"text-align: right;\">  epsilon</th></tr>\n",
       "</thead>\n",
       "<tbody>\n",
       "<tr><td>objective_6718c_00000</td><td>RUNNING </td><td>192.168.1.14:3424789</td><td style=\"text-align: right;\"> 0.0001</td><td style=\"text-align: right;\">     0.01</td></tr>\n",
       "<tr><td>objective_6718c_00001</td><td>PENDING </td><td>                    </td><td style=\"text-align: right;\"> 0.1   </td><td style=\"text-align: right;\">     0.01</td></tr>\n",
       "<tr><td>objective_6718c_00002</td><td>PENDING </td><td>                    </td><td style=\"text-align: right;\"> 1     </td><td style=\"text-align: right;\">     0.01</td></tr>\n",
       "<tr><td>objective_6718c_00003</td><td>PENDING </td><td>                    </td><td style=\"text-align: right;\"> 0.0001</td><td style=\"text-align: right;\">     0.1 </td></tr>\n",
       "<tr><td>objective_6718c_00004</td><td>PENDING </td><td>                    </td><td style=\"text-align: right;\"> 0.1   </td><td style=\"text-align: right;\">     0.1 </td></tr>\n",
       "<tr><td>objective_6718c_00005</td><td>PENDING </td><td>                    </td><td style=\"text-align: right;\"> 1     </td><td style=\"text-align: right;\">     0.1 </td></tr>\n",
       "</tbody>\n",
       "</table><br><br>"
      ],
      "text/plain": [
       "<IPython.core.display.HTML object>"
      ]
     },
     "metadata": {},
     "output_type": "display_data"
    },
    {
     "data": {
      "text/html": [
       "== Status ==<br>Current time: 2022-05-14 14:41:26 (running for 00:00:25.25)<br>Memory usage on this node: 10.0/15.5 GiB<br>Using FIFO scheduling algorithm.<br>Resources requested: 1.0/12 CPUs, 1.0/1 GPUs, 0.0/5.31 GiB heap, 0.0/2.66 GiB objects (0.0/1.0 accelerator_type:G)<br>Result logdir: /home/michael/ray_results/objective_2022-05-14_14-41-01<br>Number of trials: 6/6 (5 PENDING, 1 RUNNING)<br><table>\n",
       "<thead>\n",
       "<tr><th>Trial name           </th><th>status  </th><th>loc                 </th><th style=\"text-align: right;\">  alpha</th><th style=\"text-align: right;\">  epsilon</th></tr>\n",
       "</thead>\n",
       "<tbody>\n",
       "<tr><td>objective_6718c_00000</td><td>RUNNING </td><td>192.168.1.14:3424789</td><td style=\"text-align: right;\"> 0.0001</td><td style=\"text-align: right;\">     0.01</td></tr>\n",
       "<tr><td>objective_6718c_00001</td><td>PENDING </td><td>                    </td><td style=\"text-align: right;\"> 0.1   </td><td style=\"text-align: right;\">     0.01</td></tr>\n",
       "<tr><td>objective_6718c_00002</td><td>PENDING </td><td>                    </td><td style=\"text-align: right;\"> 1     </td><td style=\"text-align: right;\">     0.01</td></tr>\n",
       "<tr><td>objective_6718c_00003</td><td>PENDING </td><td>                    </td><td style=\"text-align: right;\"> 0.0001</td><td style=\"text-align: right;\">     0.1 </td></tr>\n",
       "<tr><td>objective_6718c_00004</td><td>PENDING </td><td>                    </td><td style=\"text-align: right;\"> 0.1   </td><td style=\"text-align: right;\">     0.1 </td></tr>\n",
       "<tr><td>objective_6718c_00005</td><td>PENDING </td><td>                    </td><td style=\"text-align: right;\"> 1     </td><td style=\"text-align: right;\">     0.1 </td></tr>\n",
       "</tbody>\n",
       "</table><br><br>"
      ],
      "text/plain": [
       "<IPython.core.display.HTML object>"
      ]
     },
     "metadata": {},
     "output_type": "display_data"
    },
    {
     "data": {
      "text/html": [
       "== Status ==<br>Current time: 2022-05-14 14:41:31 (running for 00:00:30.26)<br>Memory usage on this node: 10.0/15.5 GiB<br>Using FIFO scheduling algorithm.<br>Resources requested: 1.0/12 CPUs, 1.0/1 GPUs, 0.0/5.31 GiB heap, 0.0/2.66 GiB objects (0.0/1.0 accelerator_type:G)<br>Result logdir: /home/michael/ray_results/objective_2022-05-14_14-41-01<br>Number of trials: 6/6 (5 PENDING, 1 RUNNING)<br><table>\n",
       "<thead>\n",
       "<tr><th>Trial name           </th><th>status  </th><th>loc                 </th><th style=\"text-align: right;\">  alpha</th><th style=\"text-align: right;\">  epsilon</th></tr>\n",
       "</thead>\n",
       "<tbody>\n",
       "<tr><td>objective_6718c_00000</td><td>RUNNING </td><td>192.168.1.14:3424789</td><td style=\"text-align: right;\"> 0.0001</td><td style=\"text-align: right;\">     0.01</td></tr>\n",
       "<tr><td>objective_6718c_00001</td><td>PENDING </td><td>                    </td><td style=\"text-align: right;\"> 0.1   </td><td style=\"text-align: right;\">     0.01</td></tr>\n",
       "<tr><td>objective_6718c_00002</td><td>PENDING </td><td>                    </td><td style=\"text-align: right;\"> 1     </td><td style=\"text-align: right;\">     0.01</td></tr>\n",
       "<tr><td>objective_6718c_00003</td><td>PENDING </td><td>                    </td><td style=\"text-align: right;\"> 0.0001</td><td style=\"text-align: right;\">     0.1 </td></tr>\n",
       "<tr><td>objective_6718c_00004</td><td>PENDING </td><td>                    </td><td style=\"text-align: right;\"> 0.1   </td><td style=\"text-align: right;\">     0.1 </td></tr>\n",
       "<tr><td>objective_6718c_00005</td><td>PENDING </td><td>                    </td><td style=\"text-align: right;\"> 1     </td><td style=\"text-align: right;\">     0.1 </td></tr>\n",
       "</tbody>\n",
       "</table><br><br>"
      ],
      "text/plain": [
       "<IPython.core.display.HTML object>"
      ]
     },
     "metadata": {},
     "output_type": "display_data"
    },
    {
     "data": {
      "text/html": [
       "== Status ==<br>Current time: 2022-05-14 14:41:36 (running for 00:00:35.26)<br>Memory usage on this node: 10.0/15.5 GiB<br>Using FIFO scheduling algorithm.<br>Resources requested: 1.0/12 CPUs, 1.0/1 GPUs, 0.0/5.31 GiB heap, 0.0/2.66 GiB objects (0.0/1.0 accelerator_type:G)<br>Result logdir: /home/michael/ray_results/objective_2022-05-14_14-41-01<br>Number of trials: 6/6 (5 PENDING, 1 RUNNING)<br><table>\n",
       "<thead>\n",
       "<tr><th>Trial name           </th><th>status  </th><th>loc                 </th><th style=\"text-align: right;\">  alpha</th><th style=\"text-align: right;\">  epsilon</th></tr>\n",
       "</thead>\n",
       "<tbody>\n",
       "<tr><td>objective_6718c_00000</td><td>RUNNING </td><td>192.168.1.14:3424789</td><td style=\"text-align: right;\"> 0.0001</td><td style=\"text-align: right;\">     0.01</td></tr>\n",
       "<tr><td>objective_6718c_00001</td><td>PENDING </td><td>                    </td><td style=\"text-align: right;\"> 0.1   </td><td style=\"text-align: right;\">     0.01</td></tr>\n",
       "<tr><td>objective_6718c_00002</td><td>PENDING </td><td>                    </td><td style=\"text-align: right;\"> 1     </td><td style=\"text-align: right;\">     0.01</td></tr>\n",
       "<tr><td>objective_6718c_00003</td><td>PENDING </td><td>                    </td><td style=\"text-align: right;\"> 0.0001</td><td style=\"text-align: right;\">     0.1 </td></tr>\n",
       "<tr><td>objective_6718c_00004</td><td>PENDING </td><td>                    </td><td style=\"text-align: right;\"> 0.1   </td><td style=\"text-align: right;\">     0.1 </td></tr>\n",
       "<tr><td>objective_6718c_00005</td><td>PENDING </td><td>                    </td><td style=\"text-align: right;\"> 1     </td><td style=\"text-align: right;\">     0.1 </td></tr>\n",
       "</tbody>\n",
       "</table><br><br>"
      ],
      "text/plain": [
       "<IPython.core.display.HTML object>"
      ]
     },
     "metadata": {},
     "output_type": "display_data"
    },
    {
     "data": {
      "text/html": [
       "== Status ==<br>Current time: 2022-05-14 14:41:41 (running for 00:00:40.27)<br>Memory usage on this node: 10.0/15.5 GiB<br>Using FIFO scheduling algorithm.<br>Resources requested: 1.0/12 CPUs, 1.0/1 GPUs, 0.0/5.31 GiB heap, 0.0/2.66 GiB objects (0.0/1.0 accelerator_type:G)<br>Result logdir: /home/michael/ray_results/objective_2022-05-14_14-41-01<br>Number of trials: 6/6 (5 PENDING, 1 RUNNING)<br><table>\n",
       "<thead>\n",
       "<tr><th>Trial name           </th><th>status  </th><th>loc                 </th><th style=\"text-align: right;\">  alpha</th><th style=\"text-align: right;\">  epsilon</th></tr>\n",
       "</thead>\n",
       "<tbody>\n",
       "<tr><td>objective_6718c_00000</td><td>RUNNING </td><td>192.168.1.14:3424789</td><td style=\"text-align: right;\"> 0.0001</td><td style=\"text-align: right;\">     0.01</td></tr>\n",
       "<tr><td>objective_6718c_00001</td><td>PENDING </td><td>                    </td><td style=\"text-align: right;\"> 0.1   </td><td style=\"text-align: right;\">     0.01</td></tr>\n",
       "<tr><td>objective_6718c_00002</td><td>PENDING </td><td>                    </td><td style=\"text-align: right;\"> 1     </td><td style=\"text-align: right;\">     0.01</td></tr>\n",
       "<tr><td>objective_6718c_00003</td><td>PENDING </td><td>                    </td><td style=\"text-align: right;\"> 0.0001</td><td style=\"text-align: right;\">     0.1 </td></tr>\n",
       "<tr><td>objective_6718c_00004</td><td>PENDING </td><td>                    </td><td style=\"text-align: right;\"> 0.1   </td><td style=\"text-align: right;\">     0.1 </td></tr>\n",
       "<tr><td>objective_6718c_00005</td><td>PENDING </td><td>                    </td><td style=\"text-align: right;\"> 1     </td><td style=\"text-align: right;\">     0.1 </td></tr>\n",
       "</tbody>\n",
       "</table><br><br>"
      ],
      "text/plain": [
       "<IPython.core.display.HTML object>"
      ]
     },
     "metadata": {},
     "output_type": "display_data"
    },
    {
     "data": {
      "text/html": [
       "== Status ==<br>Current time: 2022-05-14 14:41:46 (running for 00:00:45.28)<br>Memory usage on this node: 10.0/15.5 GiB<br>Using FIFO scheduling algorithm.<br>Resources requested: 1.0/12 CPUs, 1.0/1 GPUs, 0.0/5.31 GiB heap, 0.0/2.66 GiB objects (0.0/1.0 accelerator_type:G)<br>Result logdir: /home/michael/ray_results/objective_2022-05-14_14-41-01<br>Number of trials: 6/6 (5 PENDING, 1 RUNNING)<br><table>\n",
       "<thead>\n",
       "<tr><th>Trial name           </th><th>status  </th><th>loc                 </th><th style=\"text-align: right;\">  alpha</th><th style=\"text-align: right;\">  epsilon</th></tr>\n",
       "</thead>\n",
       "<tbody>\n",
       "<tr><td>objective_6718c_00000</td><td>RUNNING </td><td>192.168.1.14:3424789</td><td style=\"text-align: right;\"> 0.0001</td><td style=\"text-align: right;\">     0.01</td></tr>\n",
       "<tr><td>objective_6718c_00001</td><td>PENDING </td><td>                    </td><td style=\"text-align: right;\"> 0.1   </td><td style=\"text-align: right;\">     0.01</td></tr>\n",
       "<tr><td>objective_6718c_00002</td><td>PENDING </td><td>                    </td><td style=\"text-align: right;\"> 1     </td><td style=\"text-align: right;\">     0.01</td></tr>\n",
       "<tr><td>objective_6718c_00003</td><td>PENDING </td><td>                    </td><td style=\"text-align: right;\"> 0.0001</td><td style=\"text-align: right;\">     0.1 </td></tr>\n",
       "<tr><td>objective_6718c_00004</td><td>PENDING </td><td>                    </td><td style=\"text-align: right;\"> 0.1   </td><td style=\"text-align: right;\">     0.1 </td></tr>\n",
       "<tr><td>objective_6718c_00005</td><td>PENDING </td><td>                    </td><td style=\"text-align: right;\"> 1     </td><td style=\"text-align: right;\">     0.1 </td></tr>\n",
       "</tbody>\n",
       "</table><br><br>"
      ],
      "text/plain": [
       "<IPython.core.display.HTML object>"
      ]
     },
     "metadata": {},
     "output_type": "display_data"
    },
    {
     "data": {
      "text/html": [
       "== Status ==<br>Current time: 2022-05-14 14:41:51 (running for 00:00:50.28)<br>Memory usage on this node: 10.0/15.5 GiB<br>Using FIFO scheduling algorithm.<br>Resources requested: 1.0/12 CPUs, 1.0/1 GPUs, 0.0/5.31 GiB heap, 0.0/2.66 GiB objects (0.0/1.0 accelerator_type:G)<br>Result logdir: /home/michael/ray_results/objective_2022-05-14_14-41-01<br>Number of trials: 6/6 (5 PENDING, 1 RUNNING)<br><table>\n",
       "<thead>\n",
       "<tr><th>Trial name           </th><th>status  </th><th>loc                 </th><th style=\"text-align: right;\">  alpha</th><th style=\"text-align: right;\">  epsilon</th></tr>\n",
       "</thead>\n",
       "<tbody>\n",
       "<tr><td>objective_6718c_00000</td><td>RUNNING </td><td>192.168.1.14:3424789</td><td style=\"text-align: right;\"> 0.0001</td><td style=\"text-align: right;\">     0.01</td></tr>\n",
       "<tr><td>objective_6718c_00001</td><td>PENDING </td><td>                    </td><td style=\"text-align: right;\"> 0.1   </td><td style=\"text-align: right;\">     0.01</td></tr>\n",
       "<tr><td>objective_6718c_00002</td><td>PENDING </td><td>                    </td><td style=\"text-align: right;\"> 1     </td><td style=\"text-align: right;\">     0.01</td></tr>\n",
       "<tr><td>objective_6718c_00003</td><td>PENDING </td><td>                    </td><td style=\"text-align: right;\"> 0.0001</td><td style=\"text-align: right;\">     0.1 </td></tr>\n",
       "<tr><td>objective_6718c_00004</td><td>PENDING </td><td>                    </td><td style=\"text-align: right;\"> 0.1   </td><td style=\"text-align: right;\">     0.1 </td></tr>\n",
       "<tr><td>objective_6718c_00005</td><td>PENDING </td><td>                    </td><td style=\"text-align: right;\"> 1     </td><td style=\"text-align: right;\">     0.1 </td></tr>\n",
       "</tbody>\n",
       "</table><br><br>"
      ],
      "text/plain": [
       "<IPython.core.display.HTML object>"
      ]
     },
     "metadata": {},
     "output_type": "display_data"
    },
    {
     "data": {
      "text/html": [
       "== Status ==<br>Current time: 2022-05-14 14:41:56 (running for 00:00:55.29)<br>Memory usage on this node: 10.0/15.5 GiB<br>Using FIFO scheduling algorithm.<br>Resources requested: 1.0/12 CPUs, 1.0/1 GPUs, 0.0/5.31 GiB heap, 0.0/2.66 GiB objects (0.0/1.0 accelerator_type:G)<br>Result logdir: /home/michael/ray_results/objective_2022-05-14_14-41-01<br>Number of trials: 6/6 (5 PENDING, 1 RUNNING)<br><table>\n",
       "<thead>\n",
       "<tr><th>Trial name           </th><th>status  </th><th>loc                 </th><th style=\"text-align: right;\">  alpha</th><th style=\"text-align: right;\">  epsilon</th></tr>\n",
       "</thead>\n",
       "<tbody>\n",
       "<tr><td>objective_6718c_00000</td><td>RUNNING </td><td>192.168.1.14:3424789</td><td style=\"text-align: right;\"> 0.0001</td><td style=\"text-align: right;\">     0.01</td></tr>\n",
       "<tr><td>objective_6718c_00001</td><td>PENDING </td><td>                    </td><td style=\"text-align: right;\"> 0.1   </td><td style=\"text-align: right;\">     0.01</td></tr>\n",
       "<tr><td>objective_6718c_00002</td><td>PENDING </td><td>                    </td><td style=\"text-align: right;\"> 1     </td><td style=\"text-align: right;\">     0.01</td></tr>\n",
       "<tr><td>objective_6718c_00003</td><td>PENDING </td><td>                    </td><td style=\"text-align: right;\"> 0.0001</td><td style=\"text-align: right;\">     0.1 </td></tr>\n",
       "<tr><td>objective_6718c_00004</td><td>PENDING </td><td>                    </td><td style=\"text-align: right;\"> 0.1   </td><td style=\"text-align: right;\">     0.1 </td></tr>\n",
       "<tr><td>objective_6718c_00005</td><td>PENDING </td><td>                    </td><td style=\"text-align: right;\"> 1     </td><td style=\"text-align: right;\">     0.1 </td></tr>\n",
       "</tbody>\n",
       "</table><br><br>"
      ],
      "text/plain": [
       "<IPython.core.display.HTML object>"
      ]
     },
     "metadata": {},
     "output_type": "display_data"
    },
    {
     "data": {
      "text/html": [
       "== Status ==<br>Current time: 2022-05-14 14:42:01 (running for 00:01:00.30)<br>Memory usage on this node: 10.0/15.5 GiB<br>Using FIFO scheduling algorithm.<br>Resources requested: 1.0/12 CPUs, 1.0/1 GPUs, 0.0/5.31 GiB heap, 0.0/2.66 GiB objects (0.0/1.0 accelerator_type:G)<br>Result logdir: /home/michael/ray_results/objective_2022-05-14_14-41-01<br>Number of trials: 6/6 (5 PENDING, 1 RUNNING)<br><table>\n",
       "<thead>\n",
       "<tr><th>Trial name           </th><th>status  </th><th>loc                 </th><th style=\"text-align: right;\">  alpha</th><th style=\"text-align: right;\">  epsilon</th></tr>\n",
       "</thead>\n",
       "<tbody>\n",
       "<tr><td>objective_6718c_00000</td><td>RUNNING </td><td>192.168.1.14:3424789</td><td style=\"text-align: right;\"> 0.0001</td><td style=\"text-align: right;\">     0.01</td></tr>\n",
       "<tr><td>objective_6718c_00001</td><td>PENDING </td><td>                    </td><td style=\"text-align: right;\"> 0.1   </td><td style=\"text-align: right;\">     0.01</td></tr>\n",
       "<tr><td>objective_6718c_00002</td><td>PENDING </td><td>                    </td><td style=\"text-align: right;\"> 1     </td><td style=\"text-align: right;\">     0.01</td></tr>\n",
       "<tr><td>objective_6718c_00003</td><td>PENDING </td><td>                    </td><td style=\"text-align: right;\"> 0.0001</td><td style=\"text-align: right;\">     0.1 </td></tr>\n",
       "<tr><td>objective_6718c_00004</td><td>PENDING </td><td>                    </td><td style=\"text-align: right;\"> 0.1   </td><td style=\"text-align: right;\">     0.1 </td></tr>\n",
       "<tr><td>objective_6718c_00005</td><td>PENDING </td><td>                    </td><td style=\"text-align: right;\"> 1     </td><td style=\"text-align: right;\">     0.1 </td></tr>\n",
       "</tbody>\n",
       "</table><br><br>"
      ],
      "text/plain": [
       "<IPython.core.display.HTML object>"
      ]
     },
     "metadata": {},
     "output_type": "display_data"
    },
    {
     "data": {
      "text/html": [
       "== Status ==<br>Current time: 2022-05-14 14:42:06 (running for 00:01:05.31)<br>Memory usage on this node: 10.0/15.5 GiB<br>Using FIFO scheduling algorithm.<br>Resources requested: 1.0/12 CPUs, 1.0/1 GPUs, 0.0/5.31 GiB heap, 0.0/2.66 GiB objects (0.0/1.0 accelerator_type:G)<br>Result logdir: /home/michael/ray_results/objective_2022-05-14_14-41-01<br>Number of trials: 6/6 (5 PENDING, 1 RUNNING)<br><table>\n",
       "<thead>\n",
       "<tr><th>Trial name           </th><th>status  </th><th>loc                 </th><th style=\"text-align: right;\">  alpha</th><th style=\"text-align: right;\">  epsilon</th></tr>\n",
       "</thead>\n",
       "<tbody>\n",
       "<tr><td>objective_6718c_00000</td><td>RUNNING </td><td>192.168.1.14:3424789</td><td style=\"text-align: right;\"> 0.0001</td><td style=\"text-align: right;\">     0.01</td></tr>\n",
       "<tr><td>objective_6718c_00001</td><td>PENDING </td><td>                    </td><td style=\"text-align: right;\"> 0.1   </td><td style=\"text-align: right;\">     0.01</td></tr>\n",
       "<tr><td>objective_6718c_00002</td><td>PENDING </td><td>                    </td><td style=\"text-align: right;\"> 1     </td><td style=\"text-align: right;\">     0.01</td></tr>\n",
       "<tr><td>objective_6718c_00003</td><td>PENDING </td><td>                    </td><td style=\"text-align: right;\"> 0.0001</td><td style=\"text-align: right;\">     0.1 </td></tr>\n",
       "<tr><td>objective_6718c_00004</td><td>PENDING </td><td>                    </td><td style=\"text-align: right;\"> 0.1   </td><td style=\"text-align: right;\">     0.1 </td></tr>\n",
       "<tr><td>objective_6718c_00005</td><td>PENDING </td><td>                    </td><td style=\"text-align: right;\"> 1     </td><td style=\"text-align: right;\">     0.1 </td></tr>\n",
       "</tbody>\n",
       "</table><br><br>"
      ],
      "text/plain": [
       "<IPython.core.display.HTML object>"
      ]
     },
     "metadata": {},
     "output_type": "display_data"
    },
    {
     "data": {
      "text/html": [
       "== Status ==<br>Current time: 2022-05-14 14:42:11 (running for 00:01:10.33)<br>Memory usage on this node: 10.0/15.5 GiB<br>Using FIFO scheduling algorithm.<br>Resources requested: 1.0/12 CPUs, 1.0/1 GPUs, 0.0/5.31 GiB heap, 0.0/2.66 GiB objects (0.0/1.0 accelerator_type:G)<br>Result logdir: /home/michael/ray_results/objective_2022-05-14_14-41-01<br>Number of trials: 6/6 (5 PENDING, 1 RUNNING)<br><table>\n",
       "<thead>\n",
       "<tr><th>Trial name           </th><th>status  </th><th>loc                 </th><th style=\"text-align: right;\">  alpha</th><th style=\"text-align: right;\">  epsilon</th></tr>\n",
       "</thead>\n",
       "<tbody>\n",
       "<tr><td>objective_6718c_00000</td><td>RUNNING </td><td>192.168.1.14:3424789</td><td style=\"text-align: right;\"> 0.0001</td><td style=\"text-align: right;\">     0.01</td></tr>\n",
       "<tr><td>objective_6718c_00001</td><td>PENDING </td><td>                    </td><td style=\"text-align: right;\"> 0.1   </td><td style=\"text-align: right;\">     0.01</td></tr>\n",
       "<tr><td>objective_6718c_00002</td><td>PENDING </td><td>                    </td><td style=\"text-align: right;\"> 1     </td><td style=\"text-align: right;\">     0.01</td></tr>\n",
       "<tr><td>objective_6718c_00003</td><td>PENDING </td><td>                    </td><td style=\"text-align: right;\"> 0.0001</td><td style=\"text-align: right;\">     0.1 </td></tr>\n",
       "<tr><td>objective_6718c_00004</td><td>PENDING </td><td>                    </td><td style=\"text-align: right;\"> 0.1   </td><td style=\"text-align: right;\">     0.1 </td></tr>\n",
       "<tr><td>objective_6718c_00005</td><td>PENDING </td><td>                    </td><td style=\"text-align: right;\"> 1     </td><td style=\"text-align: right;\">     0.1 </td></tr>\n",
       "</tbody>\n",
       "</table><br><br>"
      ],
      "text/plain": [
       "<IPython.core.display.HTML object>"
      ]
     },
     "metadata": {},
     "output_type": "display_data"
    },
    {
     "data": {
      "text/html": [
       "== Status ==<br>Current time: 2022-05-14 14:42:16 (running for 00:01:15.35)<br>Memory usage on this node: 10.0/15.5 GiB<br>Using FIFO scheduling algorithm.<br>Resources requested: 1.0/12 CPUs, 1.0/1 GPUs, 0.0/5.31 GiB heap, 0.0/2.66 GiB objects (0.0/1.0 accelerator_type:G)<br>Result logdir: /home/michael/ray_results/objective_2022-05-14_14-41-01<br>Number of trials: 6/6 (5 PENDING, 1 RUNNING)<br><table>\n",
       "<thead>\n",
       "<tr><th>Trial name           </th><th>status  </th><th>loc                 </th><th style=\"text-align: right;\">  alpha</th><th style=\"text-align: right;\">  epsilon</th></tr>\n",
       "</thead>\n",
       "<tbody>\n",
       "<tr><td>objective_6718c_00000</td><td>RUNNING </td><td>192.168.1.14:3424789</td><td style=\"text-align: right;\"> 0.0001</td><td style=\"text-align: right;\">     0.01</td></tr>\n",
       "<tr><td>objective_6718c_00001</td><td>PENDING </td><td>                    </td><td style=\"text-align: right;\"> 0.1   </td><td style=\"text-align: right;\">     0.01</td></tr>\n",
       "<tr><td>objective_6718c_00002</td><td>PENDING </td><td>                    </td><td style=\"text-align: right;\"> 1     </td><td style=\"text-align: right;\">     0.01</td></tr>\n",
       "<tr><td>objective_6718c_00003</td><td>PENDING </td><td>                    </td><td style=\"text-align: right;\"> 0.0001</td><td style=\"text-align: right;\">     0.1 </td></tr>\n",
       "<tr><td>objective_6718c_00004</td><td>PENDING </td><td>                    </td><td style=\"text-align: right;\"> 0.1   </td><td style=\"text-align: right;\">     0.1 </td></tr>\n",
       "<tr><td>objective_6718c_00005</td><td>PENDING </td><td>                    </td><td style=\"text-align: right;\"> 1     </td><td style=\"text-align: right;\">     0.1 </td></tr>\n",
       "</tbody>\n",
       "</table><br><br>"
      ],
      "text/plain": [
       "<IPython.core.display.HTML object>"
      ]
     },
     "metadata": {},
     "output_type": "display_data"
    },
    {
     "data": {
      "text/html": [
       "== Status ==<br>Current time: 2022-05-14 14:42:21 (running for 00:01:20.36)<br>Memory usage on this node: 10.0/15.5 GiB<br>Using FIFO scheduling algorithm.<br>Resources requested: 1.0/12 CPUs, 1.0/1 GPUs, 0.0/5.31 GiB heap, 0.0/2.66 GiB objects (0.0/1.0 accelerator_type:G)<br>Result logdir: /home/michael/ray_results/objective_2022-05-14_14-41-01<br>Number of trials: 6/6 (5 PENDING, 1 RUNNING)<br><table>\n",
       "<thead>\n",
       "<tr><th>Trial name           </th><th>status  </th><th>loc                 </th><th style=\"text-align: right;\">  alpha</th><th style=\"text-align: right;\">  epsilon</th></tr>\n",
       "</thead>\n",
       "<tbody>\n",
       "<tr><td>objective_6718c_00000</td><td>RUNNING </td><td>192.168.1.14:3424789</td><td style=\"text-align: right;\"> 0.0001</td><td style=\"text-align: right;\">     0.01</td></tr>\n",
       "<tr><td>objective_6718c_00001</td><td>PENDING </td><td>                    </td><td style=\"text-align: right;\"> 0.1   </td><td style=\"text-align: right;\">     0.01</td></tr>\n",
       "<tr><td>objective_6718c_00002</td><td>PENDING </td><td>                    </td><td style=\"text-align: right;\"> 1     </td><td style=\"text-align: right;\">     0.01</td></tr>\n",
       "<tr><td>objective_6718c_00003</td><td>PENDING </td><td>                    </td><td style=\"text-align: right;\"> 0.0001</td><td style=\"text-align: right;\">     0.1 </td></tr>\n",
       "<tr><td>objective_6718c_00004</td><td>PENDING </td><td>                    </td><td style=\"text-align: right;\"> 0.1   </td><td style=\"text-align: right;\">     0.1 </td></tr>\n",
       "<tr><td>objective_6718c_00005</td><td>PENDING </td><td>                    </td><td style=\"text-align: right;\"> 1     </td><td style=\"text-align: right;\">     0.1 </td></tr>\n",
       "</tbody>\n",
       "</table><br><br>"
      ],
      "text/plain": [
       "<IPython.core.display.HTML object>"
      ]
     },
     "metadata": {},
     "output_type": "display_data"
    },
    {
     "data": {
      "text/html": [
       "== Status ==<br>Current time: 2022-05-14 14:42:26 (running for 00:01:25.38)<br>Memory usage on this node: 10.0/15.5 GiB<br>Using FIFO scheduling algorithm.<br>Resources requested: 1.0/12 CPUs, 1.0/1 GPUs, 0.0/5.31 GiB heap, 0.0/2.66 GiB objects (0.0/1.0 accelerator_type:G)<br>Result logdir: /home/michael/ray_results/objective_2022-05-14_14-41-01<br>Number of trials: 6/6 (5 PENDING, 1 RUNNING)<br><table>\n",
       "<thead>\n",
       "<tr><th>Trial name           </th><th>status  </th><th>loc                 </th><th style=\"text-align: right;\">  alpha</th><th style=\"text-align: right;\">  epsilon</th></tr>\n",
       "</thead>\n",
       "<tbody>\n",
       "<tr><td>objective_6718c_00000</td><td>RUNNING </td><td>192.168.1.14:3424789</td><td style=\"text-align: right;\"> 0.0001</td><td style=\"text-align: right;\">     0.01</td></tr>\n",
       "<tr><td>objective_6718c_00001</td><td>PENDING </td><td>                    </td><td style=\"text-align: right;\"> 0.1   </td><td style=\"text-align: right;\">     0.01</td></tr>\n",
       "<tr><td>objective_6718c_00002</td><td>PENDING </td><td>                    </td><td style=\"text-align: right;\"> 1     </td><td style=\"text-align: right;\">     0.01</td></tr>\n",
       "<tr><td>objective_6718c_00003</td><td>PENDING </td><td>                    </td><td style=\"text-align: right;\"> 0.0001</td><td style=\"text-align: right;\">     0.1 </td></tr>\n",
       "<tr><td>objective_6718c_00004</td><td>PENDING </td><td>                    </td><td style=\"text-align: right;\"> 0.1   </td><td style=\"text-align: right;\">     0.1 </td></tr>\n",
       "<tr><td>objective_6718c_00005</td><td>PENDING </td><td>                    </td><td style=\"text-align: right;\"> 1     </td><td style=\"text-align: right;\">     0.1 </td></tr>\n",
       "</tbody>\n",
       "</table><br><br>"
      ],
      "text/plain": [
       "<IPython.core.display.HTML object>"
      ]
     },
     "metadata": {},
     "output_type": "display_data"
    },
    {
     "data": {
      "text/html": [
       "== Status ==<br>Current time: 2022-05-14 14:42:31 (running for 00:01:30.39)<br>Memory usage on this node: 10.0/15.5 GiB<br>Using FIFO scheduling algorithm.<br>Resources requested: 1.0/12 CPUs, 1.0/1 GPUs, 0.0/5.31 GiB heap, 0.0/2.66 GiB objects (0.0/1.0 accelerator_type:G)<br>Result logdir: /home/michael/ray_results/objective_2022-05-14_14-41-01<br>Number of trials: 6/6 (5 PENDING, 1 RUNNING)<br><table>\n",
       "<thead>\n",
       "<tr><th>Trial name           </th><th>status  </th><th>loc                 </th><th style=\"text-align: right;\">  alpha</th><th style=\"text-align: right;\">  epsilon</th></tr>\n",
       "</thead>\n",
       "<tbody>\n",
       "<tr><td>objective_6718c_00000</td><td>RUNNING </td><td>192.168.1.14:3424789</td><td style=\"text-align: right;\"> 0.0001</td><td style=\"text-align: right;\">     0.01</td></tr>\n",
       "<tr><td>objective_6718c_00001</td><td>PENDING </td><td>                    </td><td style=\"text-align: right;\"> 0.1   </td><td style=\"text-align: right;\">     0.01</td></tr>\n",
       "<tr><td>objective_6718c_00002</td><td>PENDING </td><td>                    </td><td style=\"text-align: right;\"> 1     </td><td style=\"text-align: right;\">     0.01</td></tr>\n",
       "<tr><td>objective_6718c_00003</td><td>PENDING </td><td>                    </td><td style=\"text-align: right;\"> 0.0001</td><td style=\"text-align: right;\">     0.1 </td></tr>\n",
       "<tr><td>objective_6718c_00004</td><td>PENDING </td><td>                    </td><td style=\"text-align: right;\"> 0.1   </td><td style=\"text-align: right;\">     0.1 </td></tr>\n",
       "<tr><td>objective_6718c_00005</td><td>PENDING </td><td>                    </td><td style=\"text-align: right;\"> 1     </td><td style=\"text-align: right;\">     0.1 </td></tr>\n",
       "</tbody>\n",
       "</table><br><br>"
      ],
      "text/plain": [
       "<IPython.core.display.HTML object>"
      ]
     },
     "metadata": {},
     "output_type": "display_data"
    },
    {
     "data": {
      "text/html": [
       "== Status ==<br>Current time: 2022-05-14 14:42:36 (running for 00:01:35.41)<br>Memory usage on this node: 10.0/15.5 GiB<br>Using FIFO scheduling algorithm.<br>Resources requested: 1.0/12 CPUs, 1.0/1 GPUs, 0.0/5.31 GiB heap, 0.0/2.66 GiB objects (0.0/1.0 accelerator_type:G)<br>Result logdir: /home/michael/ray_results/objective_2022-05-14_14-41-01<br>Number of trials: 6/6 (5 PENDING, 1 RUNNING)<br><table>\n",
       "<thead>\n",
       "<tr><th>Trial name           </th><th>status  </th><th>loc                 </th><th style=\"text-align: right;\">  alpha</th><th style=\"text-align: right;\">  epsilon</th></tr>\n",
       "</thead>\n",
       "<tbody>\n",
       "<tr><td>objective_6718c_00000</td><td>RUNNING </td><td>192.168.1.14:3424789</td><td style=\"text-align: right;\"> 0.0001</td><td style=\"text-align: right;\">     0.01</td></tr>\n",
       "<tr><td>objective_6718c_00001</td><td>PENDING </td><td>                    </td><td style=\"text-align: right;\"> 0.1   </td><td style=\"text-align: right;\">     0.01</td></tr>\n",
       "<tr><td>objective_6718c_00002</td><td>PENDING </td><td>                    </td><td style=\"text-align: right;\"> 1     </td><td style=\"text-align: right;\">     0.01</td></tr>\n",
       "<tr><td>objective_6718c_00003</td><td>PENDING </td><td>                    </td><td style=\"text-align: right;\"> 0.0001</td><td style=\"text-align: right;\">     0.1 </td></tr>\n",
       "<tr><td>objective_6718c_00004</td><td>PENDING </td><td>                    </td><td style=\"text-align: right;\"> 0.1   </td><td style=\"text-align: right;\">     0.1 </td></tr>\n",
       "<tr><td>objective_6718c_00005</td><td>PENDING </td><td>                    </td><td style=\"text-align: right;\"> 1     </td><td style=\"text-align: right;\">     0.1 </td></tr>\n",
       "</tbody>\n",
       "</table><br><br>"
      ],
      "text/plain": [
       "<IPython.core.display.HTML object>"
      ]
     },
     "metadata": {},
     "output_type": "display_data"
    },
    {
     "data": {
      "text/html": [
       "== Status ==<br>Current time: 2022-05-14 14:42:41 (running for 00:01:40.42)<br>Memory usage on this node: 10.0/15.5 GiB<br>Using FIFO scheduling algorithm.<br>Resources requested: 1.0/12 CPUs, 1.0/1 GPUs, 0.0/5.31 GiB heap, 0.0/2.66 GiB objects (0.0/1.0 accelerator_type:G)<br>Result logdir: /home/michael/ray_results/objective_2022-05-14_14-41-01<br>Number of trials: 6/6 (5 PENDING, 1 RUNNING)<br><table>\n",
       "<thead>\n",
       "<tr><th>Trial name           </th><th>status  </th><th>loc                 </th><th style=\"text-align: right;\">  alpha</th><th style=\"text-align: right;\">  epsilon</th></tr>\n",
       "</thead>\n",
       "<tbody>\n",
       "<tr><td>objective_6718c_00000</td><td>RUNNING </td><td>192.168.1.14:3424789</td><td style=\"text-align: right;\"> 0.0001</td><td style=\"text-align: right;\">     0.01</td></tr>\n",
       "<tr><td>objective_6718c_00001</td><td>PENDING </td><td>                    </td><td style=\"text-align: right;\"> 0.1   </td><td style=\"text-align: right;\">     0.01</td></tr>\n",
       "<tr><td>objective_6718c_00002</td><td>PENDING </td><td>                    </td><td style=\"text-align: right;\"> 1     </td><td style=\"text-align: right;\">     0.01</td></tr>\n",
       "<tr><td>objective_6718c_00003</td><td>PENDING </td><td>                    </td><td style=\"text-align: right;\"> 0.0001</td><td style=\"text-align: right;\">     0.1 </td></tr>\n",
       "<tr><td>objective_6718c_00004</td><td>PENDING </td><td>                    </td><td style=\"text-align: right;\"> 0.1   </td><td style=\"text-align: right;\">     0.1 </td></tr>\n",
       "<tr><td>objective_6718c_00005</td><td>PENDING </td><td>                    </td><td style=\"text-align: right;\"> 1     </td><td style=\"text-align: right;\">     0.1 </td></tr>\n",
       "</tbody>\n",
       "</table><br><br>"
      ],
      "text/plain": [
       "<IPython.core.display.HTML object>"
      ]
     },
     "metadata": {},
     "output_type": "display_data"
    },
    {
     "data": {
      "text/html": [
       "== Status ==<br>Current time: 2022-05-14 14:42:46 (running for 00:01:45.43)<br>Memory usage on this node: 10.0/15.5 GiB<br>Using FIFO scheduling algorithm.<br>Resources requested: 1.0/12 CPUs, 1.0/1 GPUs, 0.0/5.31 GiB heap, 0.0/2.66 GiB objects (0.0/1.0 accelerator_type:G)<br>Result logdir: /home/michael/ray_results/objective_2022-05-14_14-41-01<br>Number of trials: 6/6 (5 PENDING, 1 RUNNING)<br><table>\n",
       "<thead>\n",
       "<tr><th>Trial name           </th><th>status  </th><th>loc                 </th><th style=\"text-align: right;\">  alpha</th><th style=\"text-align: right;\">  epsilon</th></tr>\n",
       "</thead>\n",
       "<tbody>\n",
       "<tr><td>objective_6718c_00000</td><td>RUNNING </td><td>192.168.1.14:3424789</td><td style=\"text-align: right;\"> 0.0001</td><td style=\"text-align: right;\">     0.01</td></tr>\n",
       "<tr><td>objective_6718c_00001</td><td>PENDING </td><td>                    </td><td style=\"text-align: right;\"> 0.1   </td><td style=\"text-align: right;\">     0.01</td></tr>\n",
       "<tr><td>objective_6718c_00002</td><td>PENDING </td><td>                    </td><td style=\"text-align: right;\"> 1     </td><td style=\"text-align: right;\">     0.01</td></tr>\n",
       "<tr><td>objective_6718c_00003</td><td>PENDING </td><td>                    </td><td style=\"text-align: right;\"> 0.0001</td><td style=\"text-align: right;\">     0.1 </td></tr>\n",
       "<tr><td>objective_6718c_00004</td><td>PENDING </td><td>                    </td><td style=\"text-align: right;\"> 0.1   </td><td style=\"text-align: right;\">     0.1 </td></tr>\n",
       "<tr><td>objective_6718c_00005</td><td>PENDING </td><td>                    </td><td style=\"text-align: right;\"> 1     </td><td style=\"text-align: right;\">     0.1 </td></tr>\n",
       "</tbody>\n",
       "</table><br><br>"
      ],
      "text/plain": [
       "<IPython.core.display.HTML object>"
      ]
     },
     "metadata": {},
     "output_type": "display_data"
    },
    {
     "data": {
      "text/html": [
       "== Status ==<br>Current time: 2022-05-14 14:42:51 (running for 00:01:50.45)<br>Memory usage on this node: 10.0/15.5 GiB<br>Using FIFO scheduling algorithm.<br>Resources requested: 1.0/12 CPUs, 1.0/1 GPUs, 0.0/5.31 GiB heap, 0.0/2.66 GiB objects (0.0/1.0 accelerator_type:G)<br>Result logdir: /home/michael/ray_results/objective_2022-05-14_14-41-01<br>Number of trials: 6/6 (5 PENDING, 1 RUNNING)<br><table>\n",
       "<thead>\n",
       "<tr><th>Trial name           </th><th>status  </th><th>loc                 </th><th style=\"text-align: right;\">  alpha</th><th style=\"text-align: right;\">  epsilon</th></tr>\n",
       "</thead>\n",
       "<tbody>\n",
       "<tr><td>objective_6718c_00000</td><td>RUNNING </td><td>192.168.1.14:3424789</td><td style=\"text-align: right;\"> 0.0001</td><td style=\"text-align: right;\">     0.01</td></tr>\n",
       "<tr><td>objective_6718c_00001</td><td>PENDING </td><td>                    </td><td style=\"text-align: right;\"> 0.1   </td><td style=\"text-align: right;\">     0.01</td></tr>\n",
       "<tr><td>objective_6718c_00002</td><td>PENDING </td><td>                    </td><td style=\"text-align: right;\"> 1     </td><td style=\"text-align: right;\">     0.01</td></tr>\n",
       "<tr><td>objective_6718c_00003</td><td>PENDING </td><td>                    </td><td style=\"text-align: right;\"> 0.0001</td><td style=\"text-align: right;\">     0.1 </td></tr>\n",
       "<tr><td>objective_6718c_00004</td><td>PENDING </td><td>                    </td><td style=\"text-align: right;\"> 0.1   </td><td style=\"text-align: right;\">     0.1 </td></tr>\n",
       "<tr><td>objective_6718c_00005</td><td>PENDING </td><td>                    </td><td style=\"text-align: right;\"> 1     </td><td style=\"text-align: right;\">     0.1 </td></tr>\n",
       "</tbody>\n",
       "</table><br><br>"
      ],
      "text/plain": [
       "<IPython.core.display.HTML object>"
      ]
     },
     "metadata": {},
     "output_type": "display_data"
    },
    {
     "name": "stdout",
     "output_type": "stream",
     "text": [
      "Result for objective_6718c_00000:\n",
      "  date: 2022-05-14_14-42-54\n",
      "  done: false\n",
      "  experiment_id: 0dbe4fcab2db46d8b5e8b033035e2190\n",
      "  hostname: 4eyes\n",
      "  iterations_since_restore: 1\n",
      "  node_ip: 192.168.1.14\n",
      "  pid: 3424789\n",
      "  score: 0.852\n",
      "  time_since_restore: 97.65970516204834\n",
      "  time_this_iter_s: 97.65970516204834\n",
      "  time_total_s: 97.65970516204834\n",
      "  timestamp: 1652553774\n",
      "  timesteps_since_restore: 0\n",
      "  training_iteration: 1\n",
      "  trial_id: 6718c_00000\n",
      "  warmup_time: 0.0038194656372070312\n",
      "  \n",
      "Result for objective_6718c_00000:\n",
      "  date: 2022-05-14_14-42-54\n",
      "  done: true\n",
      "  experiment_id: 0dbe4fcab2db46d8b5e8b033035e2190\n",
      "  experiment_tag: 0_alpha=0.0001,epsilon=0.01\n",
      "  hostname: 4eyes\n",
      "  iterations_since_restore: 1\n",
      "  node_ip: 192.168.1.14\n",
      "  pid: 3424789\n",
      "  score: 0.852\n",
      "  time_since_restore: 97.65970516204834\n",
      "  time_this_iter_s: 97.65970516204834\n",
      "  time_total_s: 97.65970516204834\n",
      "  timestamp: 1652553774\n",
      "  timesteps_since_restore: 0\n",
      "  training_iteration: 1\n",
      "  trial_id: 6718c_00000\n",
      "  warmup_time: 0.0038194656372070312\n",
      "  \n"
     ]
    },
    {
     "name": "stderr",
     "output_type": "stream",
     "text": [
      "2022-05-14 14:42:55,169\tINFO trial_runner.py:803 -- starting objective_6718c_00001\n",
      "2022-05-14 14:42:57,692\tWARNING util.py:171 -- The `start_trial` operation took 2.520 s, which may be a performance bottleneck.\n"
     ]
    },
    {
     "data": {
      "text/html": [
       "== Status ==<br>Current time: 2022-05-14 14:43:05 (running for 00:02:04.35)<br>Memory usage on this node: 10.0/15.5 GiB<br>Using FIFO scheduling algorithm.<br>Resources requested: 1.0/12 CPUs, 1.0/1 GPUs, 0.0/5.31 GiB heap, 0.0/2.66 GiB objects (0.0/1.0 accelerator_type:G)<br>Result logdir: /home/michael/ray_results/objective_2022-05-14_14-41-01<br>Number of trials: 6/6 (4 PENDING, 1 RUNNING, 1 TERMINATED)<br><table>\n",
       "<thead>\n",
       "<tr><th>Trial name           </th><th>status    </th><th>loc                 </th><th style=\"text-align: right;\">  alpha</th><th style=\"text-align: right;\">  epsilon</th><th style=\"text-align: right;\">  iter</th><th style=\"text-align: right;\">  total time (s)</th><th style=\"text-align: right;\">  score</th></tr>\n",
       "</thead>\n",
       "<tbody>\n",
       "<tr><td>objective_6718c_00001</td><td>RUNNING   </td><td>192.168.1.14:3424992</td><td style=\"text-align: right;\"> 0.1   </td><td style=\"text-align: right;\">     0.01</td><td style=\"text-align: right;\">      </td><td style=\"text-align: right;\">                </td><td style=\"text-align: right;\">       </td></tr>\n",
       "<tr><td>objective_6718c_00002</td><td>PENDING   </td><td>                    </td><td style=\"text-align: right;\"> 1     </td><td style=\"text-align: right;\">     0.01</td><td style=\"text-align: right;\">      </td><td style=\"text-align: right;\">                </td><td style=\"text-align: right;\">       </td></tr>\n",
       "<tr><td>objective_6718c_00003</td><td>PENDING   </td><td>                    </td><td style=\"text-align: right;\"> 0.0001</td><td style=\"text-align: right;\">     0.1 </td><td style=\"text-align: right;\">      </td><td style=\"text-align: right;\">                </td><td style=\"text-align: right;\">       </td></tr>\n",
       "<tr><td>objective_6718c_00004</td><td>PENDING   </td><td>                    </td><td style=\"text-align: right;\"> 0.1   </td><td style=\"text-align: right;\">     0.1 </td><td style=\"text-align: right;\">      </td><td style=\"text-align: right;\">                </td><td style=\"text-align: right;\">       </td></tr>\n",
       "<tr><td>objective_6718c_00005</td><td>PENDING   </td><td>                    </td><td style=\"text-align: right;\"> 1     </td><td style=\"text-align: right;\">     0.1 </td><td style=\"text-align: right;\">      </td><td style=\"text-align: right;\">                </td><td style=\"text-align: right;\">       </td></tr>\n",
       "<tr><td>objective_6718c_00000</td><td>TERMINATED</td><td>192.168.1.14:3424789</td><td style=\"text-align: right;\"> 0.0001</td><td style=\"text-align: right;\">     0.01</td><td style=\"text-align: right;\">     1</td><td style=\"text-align: right;\">         97.6597</td><td style=\"text-align: right;\">  0.852</td></tr>\n",
       "</tbody>\n",
       "</table><br><br>"
      ],
      "text/plain": [
       "<IPython.core.display.HTML object>"
      ]
     },
     "metadata": {},
     "output_type": "display_data"
    },
    {
     "data": {
      "text/html": [
       "== Status ==<br>Current time: 2022-05-14 14:43:10 (running for 00:02:09.37)<br>Memory usage on this node: 10.0/15.5 GiB<br>Using FIFO scheduling algorithm.<br>Resources requested: 1.0/12 CPUs, 1.0/1 GPUs, 0.0/5.31 GiB heap, 0.0/2.66 GiB objects (0.0/1.0 accelerator_type:G)<br>Result logdir: /home/michael/ray_results/objective_2022-05-14_14-41-01<br>Number of trials: 6/6 (4 PENDING, 1 RUNNING, 1 TERMINATED)<br><table>\n",
       "<thead>\n",
       "<tr><th>Trial name           </th><th>status    </th><th>loc                 </th><th style=\"text-align: right;\">  alpha</th><th style=\"text-align: right;\">  epsilon</th><th style=\"text-align: right;\">  iter</th><th style=\"text-align: right;\">  total time (s)</th><th style=\"text-align: right;\">  score</th></tr>\n",
       "</thead>\n",
       "<tbody>\n",
       "<tr><td>objective_6718c_00001</td><td>RUNNING   </td><td>192.168.1.14:3424992</td><td style=\"text-align: right;\"> 0.1   </td><td style=\"text-align: right;\">     0.01</td><td style=\"text-align: right;\">      </td><td style=\"text-align: right;\">                </td><td style=\"text-align: right;\">       </td></tr>\n",
       "<tr><td>objective_6718c_00002</td><td>PENDING   </td><td>                    </td><td style=\"text-align: right;\"> 1     </td><td style=\"text-align: right;\">     0.01</td><td style=\"text-align: right;\">      </td><td style=\"text-align: right;\">                </td><td style=\"text-align: right;\">       </td></tr>\n",
       "<tr><td>objective_6718c_00003</td><td>PENDING   </td><td>                    </td><td style=\"text-align: right;\"> 0.0001</td><td style=\"text-align: right;\">     0.1 </td><td style=\"text-align: right;\">      </td><td style=\"text-align: right;\">                </td><td style=\"text-align: right;\">       </td></tr>\n",
       "<tr><td>objective_6718c_00004</td><td>PENDING   </td><td>                    </td><td style=\"text-align: right;\"> 0.1   </td><td style=\"text-align: right;\">     0.1 </td><td style=\"text-align: right;\">      </td><td style=\"text-align: right;\">                </td><td style=\"text-align: right;\">       </td></tr>\n",
       "<tr><td>objective_6718c_00005</td><td>PENDING   </td><td>                    </td><td style=\"text-align: right;\"> 1     </td><td style=\"text-align: right;\">     0.1 </td><td style=\"text-align: right;\">      </td><td style=\"text-align: right;\">                </td><td style=\"text-align: right;\">       </td></tr>\n",
       "<tr><td>objective_6718c_00000</td><td>TERMINATED</td><td>192.168.1.14:3424789</td><td style=\"text-align: right;\"> 0.0001</td><td style=\"text-align: right;\">     0.01</td><td style=\"text-align: right;\">     1</td><td style=\"text-align: right;\">         97.6597</td><td style=\"text-align: right;\">  0.852</td></tr>\n",
       "</tbody>\n",
       "</table><br><br>"
      ],
      "text/plain": [
       "<IPython.core.display.HTML object>"
      ]
     },
     "metadata": {},
     "output_type": "display_data"
    },
    {
     "name": "stdout",
     "output_type": "stream",
     "text": [
      "Result for objective_6718c_00001:\n",
      "  date: 2022-05-14_14-43-15\n",
      "  done: false\n",
      "  experiment_id: 32ac1fdff494498a90f4da6829555b84\n",
      "  hostname: 4eyes\n",
      "  iterations_since_restore: 1\n",
      "  node_ip: 192.168.1.14\n",
      "  pid: 3424992\n",
      "  score: 0.872\n",
      "  time_since_restore: 9.822226285934448\n",
      "  time_this_iter_s: 9.822226285934448\n",
      "  time_total_s: 9.822226285934448\n",
      "  timestamp: 1652553795\n",
      "  timesteps_since_restore: 0\n",
      "  training_iteration: 1\n",
      "  trial_id: 6718c_00001\n",
      "  warmup_time: 0.009003400802612305\n",
      "  \n",
      "Result for objective_6718c_00001:\n",
      "  date: 2022-05-14_14-43-15\n",
      "  done: true\n",
      "  experiment_id: 32ac1fdff494498a90f4da6829555b84\n",
      "  experiment_tag: 1_alpha=0.1,epsilon=0.01\n",
      "  hostname: 4eyes\n",
      "  iterations_since_restore: 1\n",
      "  node_ip: 192.168.1.14\n",
      "  pid: 3424992\n",
      "  score: 0.872\n",
      "  time_since_restore: 9.822226285934448\n",
      "  time_this_iter_s: 9.822226285934448\n",
      "  time_total_s: 9.822226285934448\n",
      "  timestamp: 1652553795\n",
      "  timesteps_since_restore: 0\n",
      "  training_iteration: 1\n",
      "  trial_id: 6718c_00001\n",
      "  warmup_time: 0.009003400802612305\n",
      "  \n"
     ]
    },
    {
     "name": "stderr",
     "output_type": "stream",
     "text": [
      "2022-05-14 14:43:16,174\tINFO trial_runner.py:803 -- starting objective_6718c_00002\n",
      "2022-05-14 14:43:18,603\tWARNING util.py:171 -- The `start_trial` operation took 2.427 s, which may be a performance bottleneck.\n"
     ]
    },
    {
     "data": {
      "text/html": [
       "== Status ==<br>Current time: 2022-05-14 14:43:26 (running for 00:02:25.30)<br>Memory usage on this node: 10.0/15.5 GiB<br>Using FIFO scheduling algorithm.<br>Resources requested: 1.0/12 CPUs, 1.0/1 GPUs, 0.0/5.31 GiB heap, 0.0/2.66 GiB objects (0.0/1.0 accelerator_type:G)<br>Result logdir: /home/michael/ray_results/objective_2022-05-14_14-41-01<br>Number of trials: 6/6 (3 PENDING, 1 RUNNING, 2 TERMINATED)<br><table>\n",
       "<thead>\n",
       "<tr><th>Trial name           </th><th>status    </th><th>loc                 </th><th style=\"text-align: right;\">  alpha</th><th style=\"text-align: right;\">  epsilon</th><th style=\"text-align: right;\">  iter</th><th style=\"text-align: right;\">  total time (s)</th><th style=\"text-align: right;\">  score</th></tr>\n",
       "</thead>\n",
       "<tbody>\n",
       "<tr><td>objective_6718c_00002</td><td>RUNNING   </td><td>192.168.1.14:3425027</td><td style=\"text-align: right;\"> 1     </td><td style=\"text-align: right;\">     0.01</td><td style=\"text-align: right;\">      </td><td style=\"text-align: right;\">                </td><td style=\"text-align: right;\">       </td></tr>\n",
       "<tr><td>objective_6718c_00003</td><td>PENDING   </td><td>                    </td><td style=\"text-align: right;\"> 0.0001</td><td style=\"text-align: right;\">     0.1 </td><td style=\"text-align: right;\">      </td><td style=\"text-align: right;\">                </td><td style=\"text-align: right;\">       </td></tr>\n",
       "<tr><td>objective_6718c_00004</td><td>PENDING   </td><td>                    </td><td style=\"text-align: right;\"> 0.1   </td><td style=\"text-align: right;\">     0.1 </td><td style=\"text-align: right;\">      </td><td style=\"text-align: right;\">                </td><td style=\"text-align: right;\">       </td></tr>\n",
       "<tr><td>objective_6718c_00005</td><td>PENDING   </td><td>                    </td><td style=\"text-align: right;\"> 1     </td><td style=\"text-align: right;\">     0.1 </td><td style=\"text-align: right;\">      </td><td style=\"text-align: right;\">                </td><td style=\"text-align: right;\">       </td></tr>\n",
       "<tr><td>objective_6718c_00000</td><td>TERMINATED</td><td>192.168.1.14:3424789</td><td style=\"text-align: right;\"> 0.0001</td><td style=\"text-align: right;\">     0.01</td><td style=\"text-align: right;\">     1</td><td style=\"text-align: right;\">        97.6597 </td><td style=\"text-align: right;\">  0.852</td></tr>\n",
       "<tr><td>objective_6718c_00001</td><td>TERMINATED</td><td>192.168.1.14:3424992</td><td style=\"text-align: right;\"> 0.1   </td><td style=\"text-align: right;\">     0.01</td><td style=\"text-align: right;\">     1</td><td style=\"text-align: right;\">         9.82223</td><td style=\"text-align: right;\">  0.872</td></tr>\n",
       "</tbody>\n",
       "</table><br><br>"
      ],
      "text/plain": [
       "<IPython.core.display.HTML object>"
      ]
     },
     "metadata": {},
     "output_type": "display_data"
    },
    {
     "data": {
      "text/html": [
       "== Status ==<br>Current time: 2022-05-14 14:43:31 (running for 00:02:30.32)<br>Memory usage on this node: 10.0/15.5 GiB<br>Using FIFO scheduling algorithm.<br>Resources requested: 1.0/12 CPUs, 1.0/1 GPUs, 0.0/5.31 GiB heap, 0.0/2.66 GiB objects (0.0/1.0 accelerator_type:G)<br>Result logdir: /home/michael/ray_results/objective_2022-05-14_14-41-01<br>Number of trials: 6/6 (3 PENDING, 1 RUNNING, 2 TERMINATED)<br><table>\n",
       "<thead>\n",
       "<tr><th>Trial name           </th><th>status    </th><th>loc                 </th><th style=\"text-align: right;\">  alpha</th><th style=\"text-align: right;\">  epsilon</th><th style=\"text-align: right;\">  iter</th><th style=\"text-align: right;\">  total time (s)</th><th style=\"text-align: right;\">  score</th></tr>\n",
       "</thead>\n",
       "<tbody>\n",
       "<tr><td>objective_6718c_00002</td><td>RUNNING   </td><td>192.168.1.14:3425027</td><td style=\"text-align: right;\"> 1     </td><td style=\"text-align: right;\">     0.01</td><td style=\"text-align: right;\">      </td><td style=\"text-align: right;\">                </td><td style=\"text-align: right;\">       </td></tr>\n",
       "<tr><td>objective_6718c_00003</td><td>PENDING   </td><td>                    </td><td style=\"text-align: right;\"> 0.0001</td><td style=\"text-align: right;\">     0.1 </td><td style=\"text-align: right;\">      </td><td style=\"text-align: right;\">                </td><td style=\"text-align: right;\">       </td></tr>\n",
       "<tr><td>objective_6718c_00004</td><td>PENDING   </td><td>                    </td><td style=\"text-align: right;\"> 0.1   </td><td style=\"text-align: right;\">     0.1 </td><td style=\"text-align: right;\">      </td><td style=\"text-align: right;\">                </td><td style=\"text-align: right;\">       </td></tr>\n",
       "<tr><td>objective_6718c_00005</td><td>PENDING   </td><td>                    </td><td style=\"text-align: right;\"> 1     </td><td style=\"text-align: right;\">     0.1 </td><td style=\"text-align: right;\">      </td><td style=\"text-align: right;\">                </td><td style=\"text-align: right;\">       </td></tr>\n",
       "<tr><td>objective_6718c_00000</td><td>TERMINATED</td><td>192.168.1.14:3424789</td><td style=\"text-align: right;\"> 0.0001</td><td style=\"text-align: right;\">     0.01</td><td style=\"text-align: right;\">     1</td><td style=\"text-align: right;\">        97.6597 </td><td style=\"text-align: right;\">  0.852</td></tr>\n",
       "<tr><td>objective_6718c_00001</td><td>TERMINATED</td><td>192.168.1.14:3424992</td><td style=\"text-align: right;\"> 0.1   </td><td style=\"text-align: right;\">     0.01</td><td style=\"text-align: right;\">     1</td><td style=\"text-align: right;\">         9.82223</td><td style=\"text-align: right;\">  0.872</td></tr>\n",
       "</tbody>\n",
       "</table><br><br>"
      ],
      "text/plain": [
       "<IPython.core.display.HTML object>"
      ]
     },
     "metadata": {},
     "output_type": "display_data"
    },
    {
     "name": "stdout",
     "output_type": "stream",
     "text": [
      "Result for objective_6718c_00002:\n",
      "  date: 2022-05-14_14-43-33\n",
      "  done: false\n",
      "  experiment_id: c4fe86faa39b445d934f08c0a66c9369\n",
      "  hostname: 4eyes\n",
      "  iterations_since_restore: 1\n",
      "  node_ip: 192.168.1.14\n",
      "  pid: 3425027\n",
      "  score: 0.873\n",
      "  time_since_restore: 6.516465902328491\n",
      "  time_this_iter_s: 6.516465902328491\n",
      "  time_total_s: 6.516465902328491\n",
      "  timestamp: 1652553813\n",
      "  timesteps_since_restore: 0\n",
      "  training_iteration: 1\n",
      "  trial_id: 6718c_00002\n",
      "  warmup_time: 0.00958561897277832\n",
      "  \n",
      "Result for objective_6718c_00002:\n",
      "  date: 2022-05-14_14-43-33\n",
      "  done: true\n",
      "  experiment_id: c4fe86faa39b445d934f08c0a66c9369\n",
      "  experiment_tag: 2_alpha=1,epsilon=0.01\n",
      "  hostname: 4eyes\n",
      "  iterations_since_restore: 1\n",
      "  node_ip: 192.168.1.14\n",
      "  pid: 3425027\n",
      "  score: 0.873\n",
      "  time_since_restore: 6.516465902328491\n",
      "  time_this_iter_s: 6.516465902328491\n",
      "  time_total_s: 6.516465902328491\n",
      "  timestamp: 1652553813\n",
      "  timesteps_since_restore: 0\n",
      "  training_iteration: 1\n",
      "  trial_id: 6718c_00002\n",
      "  warmup_time: 0.00958561897277832\n",
      "  \n"
     ]
    },
    {
     "name": "stderr",
     "output_type": "stream",
     "text": [
      "2022-05-14 14:43:34,184\tINFO trial_runner.py:803 -- starting objective_6718c_00003\n",
      "2022-05-14 14:43:36,649\tWARNING util.py:171 -- The `start_trial` operation took 2.462 s, which may be a performance bottleneck.\n"
     ]
    },
    {
     "data": {
      "text/html": [
       "== Status ==<br>Current time: 2022-05-14 14:43:44 (running for 00:02:43.41)<br>Memory usage on this node: 10.0/15.5 GiB<br>Using FIFO scheduling algorithm.<br>Resources requested: 1.0/12 CPUs, 1.0/1 GPUs, 0.0/5.31 GiB heap, 0.0/2.66 GiB objects (0.0/1.0 accelerator_type:G)<br>Result logdir: /home/michael/ray_results/objective_2022-05-14_14-41-01<br>Number of trials: 6/6 (2 PENDING, 1 RUNNING, 3 TERMINATED)<br><table>\n",
       "<thead>\n",
       "<tr><th>Trial name           </th><th>status    </th><th>loc                 </th><th style=\"text-align: right;\">  alpha</th><th style=\"text-align: right;\">  epsilon</th><th style=\"text-align: right;\">  iter</th><th style=\"text-align: right;\">  total time (s)</th><th style=\"text-align: right;\">  score</th></tr>\n",
       "</thead>\n",
       "<tbody>\n",
       "<tr><td>objective_6718c_00003</td><td>RUNNING   </td><td>192.168.1.14:3425063</td><td style=\"text-align: right;\"> 0.0001</td><td style=\"text-align: right;\">     0.1 </td><td style=\"text-align: right;\">      </td><td style=\"text-align: right;\">                </td><td style=\"text-align: right;\">       </td></tr>\n",
       "<tr><td>objective_6718c_00004</td><td>PENDING   </td><td>                    </td><td style=\"text-align: right;\"> 0.1   </td><td style=\"text-align: right;\">     0.1 </td><td style=\"text-align: right;\">      </td><td style=\"text-align: right;\">                </td><td style=\"text-align: right;\">       </td></tr>\n",
       "<tr><td>objective_6718c_00005</td><td>PENDING   </td><td>                    </td><td style=\"text-align: right;\"> 1     </td><td style=\"text-align: right;\">     0.1 </td><td style=\"text-align: right;\">      </td><td style=\"text-align: right;\">                </td><td style=\"text-align: right;\">       </td></tr>\n",
       "<tr><td>objective_6718c_00000</td><td>TERMINATED</td><td>192.168.1.14:3424789</td><td style=\"text-align: right;\"> 0.0001</td><td style=\"text-align: right;\">     0.01</td><td style=\"text-align: right;\">     1</td><td style=\"text-align: right;\">        97.6597 </td><td style=\"text-align: right;\">  0.852</td></tr>\n",
       "<tr><td>objective_6718c_00001</td><td>TERMINATED</td><td>192.168.1.14:3424992</td><td style=\"text-align: right;\"> 0.1   </td><td style=\"text-align: right;\">     0.01</td><td style=\"text-align: right;\">     1</td><td style=\"text-align: right;\">         9.82223</td><td style=\"text-align: right;\">  0.872</td></tr>\n",
       "<tr><td>objective_6718c_00002</td><td>TERMINATED</td><td>192.168.1.14:3425027</td><td style=\"text-align: right;\"> 1     </td><td style=\"text-align: right;\">     0.01</td><td style=\"text-align: right;\">     1</td><td style=\"text-align: right;\">         6.51647</td><td style=\"text-align: right;\">  0.873</td></tr>\n",
       "</tbody>\n",
       "</table><br><br>"
      ],
      "text/plain": [
       "<IPython.core.display.HTML object>"
      ]
     },
     "metadata": {},
     "output_type": "display_data"
    },
    {
     "data": {
      "text/html": [
       "== Status ==<br>Current time: 2022-05-14 14:43:49 (running for 00:02:48.43)<br>Memory usage on this node: 10.0/15.5 GiB<br>Using FIFO scheduling algorithm.<br>Resources requested: 1.0/12 CPUs, 1.0/1 GPUs, 0.0/5.31 GiB heap, 0.0/2.66 GiB objects (0.0/1.0 accelerator_type:G)<br>Result logdir: /home/michael/ray_results/objective_2022-05-14_14-41-01<br>Number of trials: 6/6 (2 PENDING, 1 RUNNING, 3 TERMINATED)<br><table>\n",
       "<thead>\n",
       "<tr><th>Trial name           </th><th>status    </th><th>loc                 </th><th style=\"text-align: right;\">  alpha</th><th style=\"text-align: right;\">  epsilon</th><th style=\"text-align: right;\">  iter</th><th style=\"text-align: right;\">  total time (s)</th><th style=\"text-align: right;\">  score</th></tr>\n",
       "</thead>\n",
       "<tbody>\n",
       "<tr><td>objective_6718c_00003</td><td>RUNNING   </td><td>192.168.1.14:3425063</td><td style=\"text-align: right;\"> 0.0001</td><td style=\"text-align: right;\">     0.1 </td><td style=\"text-align: right;\">      </td><td style=\"text-align: right;\">                </td><td style=\"text-align: right;\">       </td></tr>\n",
       "<tr><td>objective_6718c_00004</td><td>PENDING   </td><td>                    </td><td style=\"text-align: right;\"> 0.1   </td><td style=\"text-align: right;\">     0.1 </td><td style=\"text-align: right;\">      </td><td style=\"text-align: right;\">                </td><td style=\"text-align: right;\">       </td></tr>\n",
       "<tr><td>objective_6718c_00005</td><td>PENDING   </td><td>                    </td><td style=\"text-align: right;\"> 1     </td><td style=\"text-align: right;\">     0.1 </td><td style=\"text-align: right;\">      </td><td style=\"text-align: right;\">                </td><td style=\"text-align: right;\">       </td></tr>\n",
       "<tr><td>objective_6718c_00000</td><td>TERMINATED</td><td>192.168.1.14:3424789</td><td style=\"text-align: right;\"> 0.0001</td><td style=\"text-align: right;\">     0.01</td><td style=\"text-align: right;\">     1</td><td style=\"text-align: right;\">        97.6597 </td><td style=\"text-align: right;\">  0.852</td></tr>\n",
       "<tr><td>objective_6718c_00001</td><td>TERMINATED</td><td>192.168.1.14:3424992</td><td style=\"text-align: right;\"> 0.1   </td><td style=\"text-align: right;\">     0.01</td><td style=\"text-align: right;\">     1</td><td style=\"text-align: right;\">         9.82223</td><td style=\"text-align: right;\">  0.872</td></tr>\n",
       "<tr><td>objective_6718c_00002</td><td>TERMINATED</td><td>192.168.1.14:3425027</td><td style=\"text-align: right;\"> 1     </td><td style=\"text-align: right;\">     0.01</td><td style=\"text-align: right;\">     1</td><td style=\"text-align: right;\">         6.51647</td><td style=\"text-align: right;\">  0.873</td></tr>\n",
       "</tbody>\n",
       "</table><br><br>"
      ],
      "text/plain": [
       "<IPython.core.display.HTML object>"
      ]
     },
     "metadata": {},
     "output_type": "display_data"
    },
    {
     "data": {
      "text/html": [
       "== Status ==<br>Current time: 2022-05-14 14:43:54 (running for 00:02:53.45)<br>Memory usage on this node: 10.0/15.5 GiB<br>Using FIFO scheduling algorithm.<br>Resources requested: 1.0/12 CPUs, 1.0/1 GPUs, 0.0/5.31 GiB heap, 0.0/2.66 GiB objects (0.0/1.0 accelerator_type:G)<br>Result logdir: /home/michael/ray_results/objective_2022-05-14_14-41-01<br>Number of trials: 6/6 (2 PENDING, 1 RUNNING, 3 TERMINATED)<br><table>\n",
       "<thead>\n",
       "<tr><th>Trial name           </th><th>status    </th><th>loc                 </th><th style=\"text-align: right;\">  alpha</th><th style=\"text-align: right;\">  epsilon</th><th style=\"text-align: right;\">  iter</th><th style=\"text-align: right;\">  total time (s)</th><th style=\"text-align: right;\">  score</th></tr>\n",
       "</thead>\n",
       "<tbody>\n",
       "<tr><td>objective_6718c_00003</td><td>RUNNING   </td><td>192.168.1.14:3425063</td><td style=\"text-align: right;\"> 0.0001</td><td style=\"text-align: right;\">     0.1 </td><td style=\"text-align: right;\">      </td><td style=\"text-align: right;\">                </td><td style=\"text-align: right;\">       </td></tr>\n",
       "<tr><td>objective_6718c_00004</td><td>PENDING   </td><td>                    </td><td style=\"text-align: right;\"> 0.1   </td><td style=\"text-align: right;\">     0.1 </td><td style=\"text-align: right;\">      </td><td style=\"text-align: right;\">                </td><td style=\"text-align: right;\">       </td></tr>\n",
       "<tr><td>objective_6718c_00005</td><td>PENDING   </td><td>                    </td><td style=\"text-align: right;\"> 1     </td><td style=\"text-align: right;\">     0.1 </td><td style=\"text-align: right;\">      </td><td style=\"text-align: right;\">                </td><td style=\"text-align: right;\">       </td></tr>\n",
       "<tr><td>objective_6718c_00000</td><td>TERMINATED</td><td>192.168.1.14:3424789</td><td style=\"text-align: right;\"> 0.0001</td><td style=\"text-align: right;\">     0.01</td><td style=\"text-align: right;\">     1</td><td style=\"text-align: right;\">        97.6597 </td><td style=\"text-align: right;\">  0.852</td></tr>\n",
       "<tr><td>objective_6718c_00001</td><td>TERMINATED</td><td>192.168.1.14:3424992</td><td style=\"text-align: right;\"> 0.1   </td><td style=\"text-align: right;\">     0.01</td><td style=\"text-align: right;\">     1</td><td style=\"text-align: right;\">         9.82223</td><td style=\"text-align: right;\">  0.872</td></tr>\n",
       "<tr><td>objective_6718c_00002</td><td>TERMINATED</td><td>192.168.1.14:3425027</td><td style=\"text-align: right;\"> 1     </td><td style=\"text-align: right;\">     0.01</td><td style=\"text-align: right;\">     1</td><td style=\"text-align: right;\">         6.51647</td><td style=\"text-align: right;\">  0.873</td></tr>\n",
       "</tbody>\n",
       "</table><br><br>"
      ],
      "text/plain": [
       "<IPython.core.display.HTML object>"
      ]
     },
     "metadata": {},
     "output_type": "display_data"
    },
    {
     "data": {
      "text/html": [
       "== Status ==<br>Current time: 2022-05-14 14:43:59 (running for 00:02:58.47)<br>Memory usage on this node: 10.0/15.5 GiB<br>Using FIFO scheduling algorithm.<br>Resources requested: 1.0/12 CPUs, 1.0/1 GPUs, 0.0/5.31 GiB heap, 0.0/2.66 GiB objects (0.0/1.0 accelerator_type:G)<br>Result logdir: /home/michael/ray_results/objective_2022-05-14_14-41-01<br>Number of trials: 6/6 (2 PENDING, 1 RUNNING, 3 TERMINATED)<br><table>\n",
       "<thead>\n",
       "<tr><th>Trial name           </th><th>status    </th><th>loc                 </th><th style=\"text-align: right;\">  alpha</th><th style=\"text-align: right;\">  epsilon</th><th style=\"text-align: right;\">  iter</th><th style=\"text-align: right;\">  total time (s)</th><th style=\"text-align: right;\">  score</th></tr>\n",
       "</thead>\n",
       "<tbody>\n",
       "<tr><td>objective_6718c_00003</td><td>RUNNING   </td><td>192.168.1.14:3425063</td><td style=\"text-align: right;\"> 0.0001</td><td style=\"text-align: right;\">     0.1 </td><td style=\"text-align: right;\">      </td><td style=\"text-align: right;\">                </td><td style=\"text-align: right;\">       </td></tr>\n",
       "<tr><td>objective_6718c_00004</td><td>PENDING   </td><td>                    </td><td style=\"text-align: right;\"> 0.1   </td><td style=\"text-align: right;\">     0.1 </td><td style=\"text-align: right;\">      </td><td style=\"text-align: right;\">                </td><td style=\"text-align: right;\">       </td></tr>\n",
       "<tr><td>objective_6718c_00005</td><td>PENDING   </td><td>                    </td><td style=\"text-align: right;\"> 1     </td><td style=\"text-align: right;\">     0.1 </td><td style=\"text-align: right;\">      </td><td style=\"text-align: right;\">                </td><td style=\"text-align: right;\">       </td></tr>\n",
       "<tr><td>objective_6718c_00000</td><td>TERMINATED</td><td>192.168.1.14:3424789</td><td style=\"text-align: right;\"> 0.0001</td><td style=\"text-align: right;\">     0.01</td><td style=\"text-align: right;\">     1</td><td style=\"text-align: right;\">        97.6597 </td><td style=\"text-align: right;\">  0.852</td></tr>\n",
       "<tr><td>objective_6718c_00001</td><td>TERMINATED</td><td>192.168.1.14:3424992</td><td style=\"text-align: right;\"> 0.1   </td><td style=\"text-align: right;\">     0.01</td><td style=\"text-align: right;\">     1</td><td style=\"text-align: right;\">         9.82223</td><td style=\"text-align: right;\">  0.872</td></tr>\n",
       "<tr><td>objective_6718c_00002</td><td>TERMINATED</td><td>192.168.1.14:3425027</td><td style=\"text-align: right;\"> 1     </td><td style=\"text-align: right;\">     0.01</td><td style=\"text-align: right;\">     1</td><td style=\"text-align: right;\">         6.51647</td><td style=\"text-align: right;\">  0.873</td></tr>\n",
       "</tbody>\n",
       "</table><br><br>"
      ],
      "text/plain": [
       "<IPython.core.display.HTML object>"
      ]
     },
     "metadata": {},
     "output_type": "display_data"
    },
    {
     "data": {
      "text/html": [
       "== Status ==<br>Current time: 2022-05-14 14:44:04 (running for 00:03:03.48)<br>Memory usage on this node: 10.0/15.5 GiB<br>Using FIFO scheduling algorithm.<br>Resources requested: 1.0/12 CPUs, 1.0/1 GPUs, 0.0/5.31 GiB heap, 0.0/2.66 GiB objects (0.0/1.0 accelerator_type:G)<br>Result logdir: /home/michael/ray_results/objective_2022-05-14_14-41-01<br>Number of trials: 6/6 (2 PENDING, 1 RUNNING, 3 TERMINATED)<br><table>\n",
       "<thead>\n",
       "<tr><th>Trial name           </th><th>status    </th><th>loc                 </th><th style=\"text-align: right;\">  alpha</th><th style=\"text-align: right;\">  epsilon</th><th style=\"text-align: right;\">  iter</th><th style=\"text-align: right;\">  total time (s)</th><th style=\"text-align: right;\">  score</th></tr>\n",
       "</thead>\n",
       "<tbody>\n",
       "<tr><td>objective_6718c_00003</td><td>RUNNING   </td><td>192.168.1.14:3425063</td><td style=\"text-align: right;\"> 0.0001</td><td style=\"text-align: right;\">     0.1 </td><td style=\"text-align: right;\">      </td><td style=\"text-align: right;\">                </td><td style=\"text-align: right;\">       </td></tr>\n",
       "<tr><td>objective_6718c_00004</td><td>PENDING   </td><td>                    </td><td style=\"text-align: right;\"> 0.1   </td><td style=\"text-align: right;\">     0.1 </td><td style=\"text-align: right;\">      </td><td style=\"text-align: right;\">                </td><td style=\"text-align: right;\">       </td></tr>\n",
       "<tr><td>objective_6718c_00005</td><td>PENDING   </td><td>                    </td><td style=\"text-align: right;\"> 1     </td><td style=\"text-align: right;\">     0.1 </td><td style=\"text-align: right;\">      </td><td style=\"text-align: right;\">                </td><td style=\"text-align: right;\">       </td></tr>\n",
       "<tr><td>objective_6718c_00000</td><td>TERMINATED</td><td>192.168.1.14:3424789</td><td style=\"text-align: right;\"> 0.0001</td><td style=\"text-align: right;\">     0.01</td><td style=\"text-align: right;\">     1</td><td style=\"text-align: right;\">        97.6597 </td><td style=\"text-align: right;\">  0.852</td></tr>\n",
       "<tr><td>objective_6718c_00001</td><td>TERMINATED</td><td>192.168.1.14:3424992</td><td style=\"text-align: right;\"> 0.1   </td><td style=\"text-align: right;\">     0.01</td><td style=\"text-align: right;\">     1</td><td style=\"text-align: right;\">         9.82223</td><td style=\"text-align: right;\">  0.872</td></tr>\n",
       "<tr><td>objective_6718c_00002</td><td>TERMINATED</td><td>192.168.1.14:3425027</td><td style=\"text-align: right;\"> 1     </td><td style=\"text-align: right;\">     0.01</td><td style=\"text-align: right;\">     1</td><td style=\"text-align: right;\">         6.51647</td><td style=\"text-align: right;\">  0.873</td></tr>\n",
       "</tbody>\n",
       "</table><br><br>"
      ],
      "text/plain": [
       "<IPython.core.display.HTML object>"
      ]
     },
     "metadata": {},
     "output_type": "display_data"
    },
    {
     "data": {
      "text/html": [
       "== Status ==<br>Current time: 2022-05-14 14:44:09 (running for 00:03:08.50)<br>Memory usage on this node: 10.0/15.5 GiB<br>Using FIFO scheduling algorithm.<br>Resources requested: 1.0/12 CPUs, 1.0/1 GPUs, 0.0/5.31 GiB heap, 0.0/2.66 GiB objects (0.0/1.0 accelerator_type:G)<br>Result logdir: /home/michael/ray_results/objective_2022-05-14_14-41-01<br>Number of trials: 6/6 (2 PENDING, 1 RUNNING, 3 TERMINATED)<br><table>\n",
       "<thead>\n",
       "<tr><th>Trial name           </th><th>status    </th><th>loc                 </th><th style=\"text-align: right;\">  alpha</th><th style=\"text-align: right;\">  epsilon</th><th style=\"text-align: right;\">  iter</th><th style=\"text-align: right;\">  total time (s)</th><th style=\"text-align: right;\">  score</th></tr>\n",
       "</thead>\n",
       "<tbody>\n",
       "<tr><td>objective_6718c_00003</td><td>RUNNING   </td><td>192.168.1.14:3425063</td><td style=\"text-align: right;\"> 0.0001</td><td style=\"text-align: right;\">     0.1 </td><td style=\"text-align: right;\">      </td><td style=\"text-align: right;\">                </td><td style=\"text-align: right;\">       </td></tr>\n",
       "<tr><td>objective_6718c_00004</td><td>PENDING   </td><td>                    </td><td style=\"text-align: right;\"> 0.1   </td><td style=\"text-align: right;\">     0.1 </td><td style=\"text-align: right;\">      </td><td style=\"text-align: right;\">                </td><td style=\"text-align: right;\">       </td></tr>\n",
       "<tr><td>objective_6718c_00005</td><td>PENDING   </td><td>                    </td><td style=\"text-align: right;\"> 1     </td><td style=\"text-align: right;\">     0.1 </td><td style=\"text-align: right;\">      </td><td style=\"text-align: right;\">                </td><td style=\"text-align: right;\">       </td></tr>\n",
       "<tr><td>objective_6718c_00000</td><td>TERMINATED</td><td>192.168.1.14:3424789</td><td style=\"text-align: right;\"> 0.0001</td><td style=\"text-align: right;\">     0.01</td><td style=\"text-align: right;\">     1</td><td style=\"text-align: right;\">        97.6597 </td><td style=\"text-align: right;\">  0.852</td></tr>\n",
       "<tr><td>objective_6718c_00001</td><td>TERMINATED</td><td>192.168.1.14:3424992</td><td style=\"text-align: right;\"> 0.1   </td><td style=\"text-align: right;\">     0.01</td><td style=\"text-align: right;\">     1</td><td style=\"text-align: right;\">         9.82223</td><td style=\"text-align: right;\">  0.872</td></tr>\n",
       "<tr><td>objective_6718c_00002</td><td>TERMINATED</td><td>192.168.1.14:3425027</td><td style=\"text-align: right;\"> 1     </td><td style=\"text-align: right;\">     0.01</td><td style=\"text-align: right;\">     1</td><td style=\"text-align: right;\">         6.51647</td><td style=\"text-align: right;\">  0.873</td></tr>\n",
       "</tbody>\n",
       "</table><br><br>"
      ],
      "text/plain": [
       "<IPython.core.display.HTML object>"
      ]
     },
     "metadata": {},
     "output_type": "display_data"
    },
    {
     "data": {
      "text/html": [
       "== Status ==<br>Current time: 2022-05-14 14:44:14 (running for 00:03:13.51)<br>Memory usage on this node: 10.0/15.5 GiB<br>Using FIFO scheduling algorithm.<br>Resources requested: 1.0/12 CPUs, 1.0/1 GPUs, 0.0/5.31 GiB heap, 0.0/2.66 GiB objects (0.0/1.0 accelerator_type:G)<br>Result logdir: /home/michael/ray_results/objective_2022-05-14_14-41-01<br>Number of trials: 6/6 (2 PENDING, 1 RUNNING, 3 TERMINATED)<br><table>\n",
       "<thead>\n",
       "<tr><th>Trial name           </th><th>status    </th><th>loc                 </th><th style=\"text-align: right;\">  alpha</th><th style=\"text-align: right;\">  epsilon</th><th style=\"text-align: right;\">  iter</th><th style=\"text-align: right;\">  total time (s)</th><th style=\"text-align: right;\">  score</th></tr>\n",
       "</thead>\n",
       "<tbody>\n",
       "<tr><td>objective_6718c_00003</td><td>RUNNING   </td><td>192.168.1.14:3425063</td><td style=\"text-align: right;\"> 0.0001</td><td style=\"text-align: right;\">     0.1 </td><td style=\"text-align: right;\">      </td><td style=\"text-align: right;\">                </td><td style=\"text-align: right;\">       </td></tr>\n",
       "<tr><td>objective_6718c_00004</td><td>PENDING   </td><td>                    </td><td style=\"text-align: right;\"> 0.1   </td><td style=\"text-align: right;\">     0.1 </td><td style=\"text-align: right;\">      </td><td style=\"text-align: right;\">                </td><td style=\"text-align: right;\">       </td></tr>\n",
       "<tr><td>objective_6718c_00005</td><td>PENDING   </td><td>                    </td><td style=\"text-align: right;\"> 1     </td><td style=\"text-align: right;\">     0.1 </td><td style=\"text-align: right;\">      </td><td style=\"text-align: right;\">                </td><td style=\"text-align: right;\">       </td></tr>\n",
       "<tr><td>objective_6718c_00000</td><td>TERMINATED</td><td>192.168.1.14:3424789</td><td style=\"text-align: right;\"> 0.0001</td><td style=\"text-align: right;\">     0.01</td><td style=\"text-align: right;\">     1</td><td style=\"text-align: right;\">        97.6597 </td><td style=\"text-align: right;\">  0.852</td></tr>\n",
       "<tr><td>objective_6718c_00001</td><td>TERMINATED</td><td>192.168.1.14:3424992</td><td style=\"text-align: right;\"> 0.1   </td><td style=\"text-align: right;\">     0.01</td><td style=\"text-align: right;\">     1</td><td style=\"text-align: right;\">         9.82223</td><td style=\"text-align: right;\">  0.872</td></tr>\n",
       "<tr><td>objective_6718c_00002</td><td>TERMINATED</td><td>192.168.1.14:3425027</td><td style=\"text-align: right;\"> 1     </td><td style=\"text-align: right;\">     0.01</td><td style=\"text-align: right;\">     1</td><td style=\"text-align: right;\">         6.51647</td><td style=\"text-align: right;\">  0.873</td></tr>\n",
       "</tbody>\n",
       "</table><br><br>"
      ],
      "text/plain": [
       "<IPython.core.display.HTML object>"
      ]
     },
     "metadata": {},
     "output_type": "display_data"
    },
    {
     "data": {
      "text/html": [
       "== Status ==<br>Current time: 2022-05-14 14:44:19 (running for 00:03:18.53)<br>Memory usage on this node: 10.0/15.5 GiB<br>Using FIFO scheduling algorithm.<br>Resources requested: 1.0/12 CPUs, 1.0/1 GPUs, 0.0/5.31 GiB heap, 0.0/2.66 GiB objects (0.0/1.0 accelerator_type:G)<br>Result logdir: /home/michael/ray_results/objective_2022-05-14_14-41-01<br>Number of trials: 6/6 (2 PENDING, 1 RUNNING, 3 TERMINATED)<br><table>\n",
       "<thead>\n",
       "<tr><th>Trial name           </th><th>status    </th><th>loc                 </th><th style=\"text-align: right;\">  alpha</th><th style=\"text-align: right;\">  epsilon</th><th style=\"text-align: right;\">  iter</th><th style=\"text-align: right;\">  total time (s)</th><th style=\"text-align: right;\">  score</th></tr>\n",
       "</thead>\n",
       "<tbody>\n",
       "<tr><td>objective_6718c_00003</td><td>RUNNING   </td><td>192.168.1.14:3425063</td><td style=\"text-align: right;\"> 0.0001</td><td style=\"text-align: right;\">     0.1 </td><td style=\"text-align: right;\">      </td><td style=\"text-align: right;\">                </td><td style=\"text-align: right;\">       </td></tr>\n",
       "<tr><td>objective_6718c_00004</td><td>PENDING   </td><td>                    </td><td style=\"text-align: right;\"> 0.1   </td><td style=\"text-align: right;\">     0.1 </td><td style=\"text-align: right;\">      </td><td style=\"text-align: right;\">                </td><td style=\"text-align: right;\">       </td></tr>\n",
       "<tr><td>objective_6718c_00005</td><td>PENDING   </td><td>                    </td><td style=\"text-align: right;\"> 1     </td><td style=\"text-align: right;\">     0.1 </td><td style=\"text-align: right;\">      </td><td style=\"text-align: right;\">                </td><td style=\"text-align: right;\">       </td></tr>\n",
       "<tr><td>objective_6718c_00000</td><td>TERMINATED</td><td>192.168.1.14:3424789</td><td style=\"text-align: right;\"> 0.0001</td><td style=\"text-align: right;\">     0.01</td><td style=\"text-align: right;\">     1</td><td style=\"text-align: right;\">        97.6597 </td><td style=\"text-align: right;\">  0.852</td></tr>\n",
       "<tr><td>objective_6718c_00001</td><td>TERMINATED</td><td>192.168.1.14:3424992</td><td style=\"text-align: right;\"> 0.1   </td><td style=\"text-align: right;\">     0.01</td><td style=\"text-align: right;\">     1</td><td style=\"text-align: right;\">         9.82223</td><td style=\"text-align: right;\">  0.872</td></tr>\n",
       "<tr><td>objective_6718c_00002</td><td>TERMINATED</td><td>192.168.1.14:3425027</td><td style=\"text-align: right;\"> 1     </td><td style=\"text-align: right;\">     0.01</td><td style=\"text-align: right;\">     1</td><td style=\"text-align: right;\">         6.51647</td><td style=\"text-align: right;\">  0.873</td></tr>\n",
       "</tbody>\n",
       "</table><br><br>"
      ],
      "text/plain": [
       "<IPython.core.display.HTML object>"
      ]
     },
     "metadata": {},
     "output_type": "display_data"
    },
    {
     "data": {
      "text/html": [
       "== Status ==<br>Current time: 2022-05-14 14:44:24 (running for 00:03:23.54)<br>Memory usage on this node: 10.0/15.5 GiB<br>Using FIFO scheduling algorithm.<br>Resources requested: 1.0/12 CPUs, 1.0/1 GPUs, 0.0/5.31 GiB heap, 0.0/2.66 GiB objects (0.0/1.0 accelerator_type:G)<br>Result logdir: /home/michael/ray_results/objective_2022-05-14_14-41-01<br>Number of trials: 6/6 (2 PENDING, 1 RUNNING, 3 TERMINATED)<br><table>\n",
       "<thead>\n",
       "<tr><th>Trial name           </th><th>status    </th><th>loc                 </th><th style=\"text-align: right;\">  alpha</th><th style=\"text-align: right;\">  epsilon</th><th style=\"text-align: right;\">  iter</th><th style=\"text-align: right;\">  total time (s)</th><th style=\"text-align: right;\">  score</th></tr>\n",
       "</thead>\n",
       "<tbody>\n",
       "<tr><td>objective_6718c_00003</td><td>RUNNING   </td><td>192.168.1.14:3425063</td><td style=\"text-align: right;\"> 0.0001</td><td style=\"text-align: right;\">     0.1 </td><td style=\"text-align: right;\">      </td><td style=\"text-align: right;\">                </td><td style=\"text-align: right;\">       </td></tr>\n",
       "<tr><td>objective_6718c_00004</td><td>PENDING   </td><td>                    </td><td style=\"text-align: right;\"> 0.1   </td><td style=\"text-align: right;\">     0.1 </td><td style=\"text-align: right;\">      </td><td style=\"text-align: right;\">                </td><td style=\"text-align: right;\">       </td></tr>\n",
       "<tr><td>objective_6718c_00005</td><td>PENDING   </td><td>                    </td><td style=\"text-align: right;\"> 1     </td><td style=\"text-align: right;\">     0.1 </td><td style=\"text-align: right;\">      </td><td style=\"text-align: right;\">                </td><td style=\"text-align: right;\">       </td></tr>\n",
       "<tr><td>objective_6718c_00000</td><td>TERMINATED</td><td>192.168.1.14:3424789</td><td style=\"text-align: right;\"> 0.0001</td><td style=\"text-align: right;\">     0.01</td><td style=\"text-align: right;\">     1</td><td style=\"text-align: right;\">        97.6597 </td><td style=\"text-align: right;\">  0.852</td></tr>\n",
       "<tr><td>objective_6718c_00001</td><td>TERMINATED</td><td>192.168.1.14:3424992</td><td style=\"text-align: right;\"> 0.1   </td><td style=\"text-align: right;\">     0.01</td><td style=\"text-align: right;\">     1</td><td style=\"text-align: right;\">         9.82223</td><td style=\"text-align: right;\">  0.872</td></tr>\n",
       "<tr><td>objective_6718c_00002</td><td>TERMINATED</td><td>192.168.1.14:3425027</td><td style=\"text-align: right;\"> 1     </td><td style=\"text-align: right;\">     0.01</td><td style=\"text-align: right;\">     1</td><td style=\"text-align: right;\">         6.51647</td><td style=\"text-align: right;\">  0.873</td></tr>\n",
       "</tbody>\n",
       "</table><br><br>"
      ],
      "text/plain": [
       "<IPython.core.display.HTML object>"
      ]
     },
     "metadata": {},
     "output_type": "display_data"
    },
    {
     "data": {
      "text/html": [
       "== Status ==<br>Current time: 2022-05-14 14:44:29 (running for 00:03:28.56)<br>Memory usage on this node: 10.0/15.5 GiB<br>Using FIFO scheduling algorithm.<br>Resources requested: 1.0/12 CPUs, 1.0/1 GPUs, 0.0/5.31 GiB heap, 0.0/2.66 GiB objects (0.0/1.0 accelerator_type:G)<br>Result logdir: /home/michael/ray_results/objective_2022-05-14_14-41-01<br>Number of trials: 6/6 (2 PENDING, 1 RUNNING, 3 TERMINATED)<br><table>\n",
       "<thead>\n",
       "<tr><th>Trial name           </th><th>status    </th><th>loc                 </th><th style=\"text-align: right;\">  alpha</th><th style=\"text-align: right;\">  epsilon</th><th style=\"text-align: right;\">  iter</th><th style=\"text-align: right;\">  total time (s)</th><th style=\"text-align: right;\">  score</th></tr>\n",
       "</thead>\n",
       "<tbody>\n",
       "<tr><td>objective_6718c_00003</td><td>RUNNING   </td><td>192.168.1.14:3425063</td><td style=\"text-align: right;\"> 0.0001</td><td style=\"text-align: right;\">     0.1 </td><td style=\"text-align: right;\">      </td><td style=\"text-align: right;\">                </td><td style=\"text-align: right;\">       </td></tr>\n",
       "<tr><td>objective_6718c_00004</td><td>PENDING   </td><td>                    </td><td style=\"text-align: right;\"> 0.1   </td><td style=\"text-align: right;\">     0.1 </td><td style=\"text-align: right;\">      </td><td style=\"text-align: right;\">                </td><td style=\"text-align: right;\">       </td></tr>\n",
       "<tr><td>objective_6718c_00005</td><td>PENDING   </td><td>                    </td><td style=\"text-align: right;\"> 1     </td><td style=\"text-align: right;\">     0.1 </td><td style=\"text-align: right;\">      </td><td style=\"text-align: right;\">                </td><td style=\"text-align: right;\">       </td></tr>\n",
       "<tr><td>objective_6718c_00000</td><td>TERMINATED</td><td>192.168.1.14:3424789</td><td style=\"text-align: right;\"> 0.0001</td><td style=\"text-align: right;\">     0.01</td><td style=\"text-align: right;\">     1</td><td style=\"text-align: right;\">        97.6597 </td><td style=\"text-align: right;\">  0.852</td></tr>\n",
       "<tr><td>objective_6718c_00001</td><td>TERMINATED</td><td>192.168.1.14:3424992</td><td style=\"text-align: right;\"> 0.1   </td><td style=\"text-align: right;\">     0.01</td><td style=\"text-align: right;\">     1</td><td style=\"text-align: right;\">         9.82223</td><td style=\"text-align: right;\">  0.872</td></tr>\n",
       "<tr><td>objective_6718c_00002</td><td>TERMINATED</td><td>192.168.1.14:3425027</td><td style=\"text-align: right;\"> 1     </td><td style=\"text-align: right;\">     0.01</td><td style=\"text-align: right;\">     1</td><td style=\"text-align: right;\">         6.51647</td><td style=\"text-align: right;\">  0.873</td></tr>\n",
       "</tbody>\n",
       "</table><br><br>"
      ],
      "text/plain": [
       "<IPython.core.display.HTML object>"
      ]
     },
     "metadata": {},
     "output_type": "display_data"
    },
    {
     "data": {
      "text/html": [
       "== Status ==<br>Current time: 2022-05-14 14:44:34 (running for 00:03:33.58)<br>Memory usage on this node: 10.0/15.5 GiB<br>Using FIFO scheduling algorithm.<br>Resources requested: 1.0/12 CPUs, 1.0/1 GPUs, 0.0/5.31 GiB heap, 0.0/2.66 GiB objects (0.0/1.0 accelerator_type:G)<br>Result logdir: /home/michael/ray_results/objective_2022-05-14_14-41-01<br>Number of trials: 6/6 (2 PENDING, 1 RUNNING, 3 TERMINATED)<br><table>\n",
       "<thead>\n",
       "<tr><th>Trial name           </th><th>status    </th><th>loc                 </th><th style=\"text-align: right;\">  alpha</th><th style=\"text-align: right;\">  epsilon</th><th style=\"text-align: right;\">  iter</th><th style=\"text-align: right;\">  total time (s)</th><th style=\"text-align: right;\">  score</th></tr>\n",
       "</thead>\n",
       "<tbody>\n",
       "<tr><td>objective_6718c_00003</td><td>RUNNING   </td><td>192.168.1.14:3425063</td><td style=\"text-align: right;\"> 0.0001</td><td style=\"text-align: right;\">     0.1 </td><td style=\"text-align: right;\">      </td><td style=\"text-align: right;\">                </td><td style=\"text-align: right;\">       </td></tr>\n",
       "<tr><td>objective_6718c_00004</td><td>PENDING   </td><td>                    </td><td style=\"text-align: right;\"> 0.1   </td><td style=\"text-align: right;\">     0.1 </td><td style=\"text-align: right;\">      </td><td style=\"text-align: right;\">                </td><td style=\"text-align: right;\">       </td></tr>\n",
       "<tr><td>objective_6718c_00005</td><td>PENDING   </td><td>                    </td><td style=\"text-align: right;\"> 1     </td><td style=\"text-align: right;\">     0.1 </td><td style=\"text-align: right;\">      </td><td style=\"text-align: right;\">                </td><td style=\"text-align: right;\">       </td></tr>\n",
       "<tr><td>objective_6718c_00000</td><td>TERMINATED</td><td>192.168.1.14:3424789</td><td style=\"text-align: right;\"> 0.0001</td><td style=\"text-align: right;\">     0.01</td><td style=\"text-align: right;\">     1</td><td style=\"text-align: right;\">        97.6597 </td><td style=\"text-align: right;\">  0.852</td></tr>\n",
       "<tr><td>objective_6718c_00001</td><td>TERMINATED</td><td>192.168.1.14:3424992</td><td style=\"text-align: right;\"> 0.1   </td><td style=\"text-align: right;\">     0.01</td><td style=\"text-align: right;\">     1</td><td style=\"text-align: right;\">         9.82223</td><td style=\"text-align: right;\">  0.872</td></tr>\n",
       "<tr><td>objective_6718c_00002</td><td>TERMINATED</td><td>192.168.1.14:3425027</td><td style=\"text-align: right;\"> 1     </td><td style=\"text-align: right;\">     0.01</td><td style=\"text-align: right;\">     1</td><td style=\"text-align: right;\">         6.51647</td><td style=\"text-align: right;\">  0.873</td></tr>\n",
       "</tbody>\n",
       "</table><br><br>"
      ],
      "text/plain": [
       "<IPython.core.display.HTML object>"
      ]
     },
     "metadata": {},
     "output_type": "display_data"
    },
    {
     "data": {
      "text/html": [
       "== Status ==<br>Current time: 2022-05-14 14:44:39 (running for 00:03:38.60)<br>Memory usage on this node: 10.0/15.5 GiB<br>Using FIFO scheduling algorithm.<br>Resources requested: 1.0/12 CPUs, 1.0/1 GPUs, 0.0/5.31 GiB heap, 0.0/2.66 GiB objects (0.0/1.0 accelerator_type:G)<br>Result logdir: /home/michael/ray_results/objective_2022-05-14_14-41-01<br>Number of trials: 6/6 (2 PENDING, 1 RUNNING, 3 TERMINATED)<br><table>\n",
       "<thead>\n",
       "<tr><th>Trial name           </th><th>status    </th><th>loc                 </th><th style=\"text-align: right;\">  alpha</th><th style=\"text-align: right;\">  epsilon</th><th style=\"text-align: right;\">  iter</th><th style=\"text-align: right;\">  total time (s)</th><th style=\"text-align: right;\">  score</th></tr>\n",
       "</thead>\n",
       "<tbody>\n",
       "<tr><td>objective_6718c_00003</td><td>RUNNING   </td><td>192.168.1.14:3425063</td><td style=\"text-align: right;\"> 0.0001</td><td style=\"text-align: right;\">     0.1 </td><td style=\"text-align: right;\">      </td><td style=\"text-align: right;\">                </td><td style=\"text-align: right;\">       </td></tr>\n",
       "<tr><td>objective_6718c_00004</td><td>PENDING   </td><td>                    </td><td style=\"text-align: right;\"> 0.1   </td><td style=\"text-align: right;\">     0.1 </td><td style=\"text-align: right;\">      </td><td style=\"text-align: right;\">                </td><td style=\"text-align: right;\">       </td></tr>\n",
       "<tr><td>objective_6718c_00005</td><td>PENDING   </td><td>                    </td><td style=\"text-align: right;\"> 1     </td><td style=\"text-align: right;\">     0.1 </td><td style=\"text-align: right;\">      </td><td style=\"text-align: right;\">                </td><td style=\"text-align: right;\">       </td></tr>\n",
       "<tr><td>objective_6718c_00000</td><td>TERMINATED</td><td>192.168.1.14:3424789</td><td style=\"text-align: right;\"> 0.0001</td><td style=\"text-align: right;\">     0.01</td><td style=\"text-align: right;\">     1</td><td style=\"text-align: right;\">        97.6597 </td><td style=\"text-align: right;\">  0.852</td></tr>\n",
       "<tr><td>objective_6718c_00001</td><td>TERMINATED</td><td>192.168.1.14:3424992</td><td style=\"text-align: right;\"> 0.1   </td><td style=\"text-align: right;\">     0.01</td><td style=\"text-align: right;\">     1</td><td style=\"text-align: right;\">         9.82223</td><td style=\"text-align: right;\">  0.872</td></tr>\n",
       "<tr><td>objective_6718c_00002</td><td>TERMINATED</td><td>192.168.1.14:3425027</td><td style=\"text-align: right;\"> 1     </td><td style=\"text-align: right;\">     0.01</td><td style=\"text-align: right;\">     1</td><td style=\"text-align: right;\">         6.51647</td><td style=\"text-align: right;\">  0.873</td></tr>\n",
       "</tbody>\n",
       "</table><br><br>"
      ],
      "text/plain": [
       "<IPython.core.display.HTML object>"
      ]
     },
     "metadata": {},
     "output_type": "display_data"
    },
    {
     "data": {
      "text/html": [
       "== Status ==<br>Current time: 2022-05-14 14:44:44 (running for 00:03:43.61)<br>Memory usage on this node: 10.0/15.5 GiB<br>Using FIFO scheduling algorithm.<br>Resources requested: 1.0/12 CPUs, 1.0/1 GPUs, 0.0/5.31 GiB heap, 0.0/2.66 GiB objects (0.0/1.0 accelerator_type:G)<br>Result logdir: /home/michael/ray_results/objective_2022-05-14_14-41-01<br>Number of trials: 6/6 (2 PENDING, 1 RUNNING, 3 TERMINATED)<br><table>\n",
       "<thead>\n",
       "<tr><th>Trial name           </th><th>status    </th><th>loc                 </th><th style=\"text-align: right;\">  alpha</th><th style=\"text-align: right;\">  epsilon</th><th style=\"text-align: right;\">  iter</th><th style=\"text-align: right;\">  total time (s)</th><th style=\"text-align: right;\">  score</th></tr>\n",
       "</thead>\n",
       "<tbody>\n",
       "<tr><td>objective_6718c_00003</td><td>RUNNING   </td><td>192.168.1.14:3425063</td><td style=\"text-align: right;\"> 0.0001</td><td style=\"text-align: right;\">     0.1 </td><td style=\"text-align: right;\">      </td><td style=\"text-align: right;\">                </td><td style=\"text-align: right;\">       </td></tr>\n",
       "<tr><td>objective_6718c_00004</td><td>PENDING   </td><td>                    </td><td style=\"text-align: right;\"> 0.1   </td><td style=\"text-align: right;\">     0.1 </td><td style=\"text-align: right;\">      </td><td style=\"text-align: right;\">                </td><td style=\"text-align: right;\">       </td></tr>\n",
       "<tr><td>objective_6718c_00005</td><td>PENDING   </td><td>                    </td><td style=\"text-align: right;\"> 1     </td><td style=\"text-align: right;\">     0.1 </td><td style=\"text-align: right;\">      </td><td style=\"text-align: right;\">                </td><td style=\"text-align: right;\">       </td></tr>\n",
       "<tr><td>objective_6718c_00000</td><td>TERMINATED</td><td>192.168.1.14:3424789</td><td style=\"text-align: right;\"> 0.0001</td><td style=\"text-align: right;\">     0.01</td><td style=\"text-align: right;\">     1</td><td style=\"text-align: right;\">        97.6597 </td><td style=\"text-align: right;\">  0.852</td></tr>\n",
       "<tr><td>objective_6718c_00001</td><td>TERMINATED</td><td>192.168.1.14:3424992</td><td style=\"text-align: right;\"> 0.1   </td><td style=\"text-align: right;\">     0.01</td><td style=\"text-align: right;\">     1</td><td style=\"text-align: right;\">         9.82223</td><td style=\"text-align: right;\">  0.872</td></tr>\n",
       "<tr><td>objective_6718c_00002</td><td>TERMINATED</td><td>192.168.1.14:3425027</td><td style=\"text-align: right;\"> 1     </td><td style=\"text-align: right;\">     0.01</td><td style=\"text-align: right;\">     1</td><td style=\"text-align: right;\">         6.51647</td><td style=\"text-align: right;\">  0.873</td></tr>\n",
       "</tbody>\n",
       "</table><br><br>"
      ],
      "text/plain": [
       "<IPython.core.display.HTML object>"
      ]
     },
     "metadata": {},
     "output_type": "display_data"
    },
    {
     "data": {
      "text/html": [
       "== Status ==<br>Current time: 2022-05-14 14:44:50 (running for 00:03:48.63)<br>Memory usage on this node: 10.0/15.5 GiB<br>Using FIFO scheduling algorithm.<br>Resources requested: 1.0/12 CPUs, 1.0/1 GPUs, 0.0/5.31 GiB heap, 0.0/2.66 GiB objects (0.0/1.0 accelerator_type:G)<br>Result logdir: /home/michael/ray_results/objective_2022-05-14_14-41-01<br>Number of trials: 6/6 (2 PENDING, 1 RUNNING, 3 TERMINATED)<br><table>\n",
       "<thead>\n",
       "<tr><th>Trial name           </th><th>status    </th><th>loc                 </th><th style=\"text-align: right;\">  alpha</th><th style=\"text-align: right;\">  epsilon</th><th style=\"text-align: right;\">  iter</th><th style=\"text-align: right;\">  total time (s)</th><th style=\"text-align: right;\">  score</th></tr>\n",
       "</thead>\n",
       "<tbody>\n",
       "<tr><td>objective_6718c_00003</td><td>RUNNING   </td><td>192.168.1.14:3425063</td><td style=\"text-align: right;\"> 0.0001</td><td style=\"text-align: right;\">     0.1 </td><td style=\"text-align: right;\">      </td><td style=\"text-align: right;\">                </td><td style=\"text-align: right;\">       </td></tr>\n",
       "<tr><td>objective_6718c_00004</td><td>PENDING   </td><td>                    </td><td style=\"text-align: right;\"> 0.1   </td><td style=\"text-align: right;\">     0.1 </td><td style=\"text-align: right;\">      </td><td style=\"text-align: right;\">                </td><td style=\"text-align: right;\">       </td></tr>\n",
       "<tr><td>objective_6718c_00005</td><td>PENDING   </td><td>                    </td><td style=\"text-align: right;\"> 1     </td><td style=\"text-align: right;\">     0.1 </td><td style=\"text-align: right;\">      </td><td style=\"text-align: right;\">                </td><td style=\"text-align: right;\">       </td></tr>\n",
       "<tr><td>objective_6718c_00000</td><td>TERMINATED</td><td>192.168.1.14:3424789</td><td style=\"text-align: right;\"> 0.0001</td><td style=\"text-align: right;\">     0.01</td><td style=\"text-align: right;\">     1</td><td style=\"text-align: right;\">        97.6597 </td><td style=\"text-align: right;\">  0.852</td></tr>\n",
       "<tr><td>objective_6718c_00001</td><td>TERMINATED</td><td>192.168.1.14:3424992</td><td style=\"text-align: right;\"> 0.1   </td><td style=\"text-align: right;\">     0.01</td><td style=\"text-align: right;\">     1</td><td style=\"text-align: right;\">         9.82223</td><td style=\"text-align: right;\">  0.872</td></tr>\n",
       "<tr><td>objective_6718c_00002</td><td>TERMINATED</td><td>192.168.1.14:3425027</td><td style=\"text-align: right;\"> 1     </td><td style=\"text-align: right;\">     0.01</td><td style=\"text-align: right;\">     1</td><td style=\"text-align: right;\">         6.51647</td><td style=\"text-align: right;\">  0.873</td></tr>\n",
       "</tbody>\n",
       "</table><br><br>"
      ],
      "text/plain": [
       "<IPython.core.display.HTML object>"
      ]
     },
     "metadata": {},
     "output_type": "display_data"
    },
    {
     "data": {
      "text/html": [
       "== Status ==<br>Current time: 2022-05-14 14:44:55 (running for 00:03:53.65)<br>Memory usage on this node: 10.0/15.5 GiB<br>Using FIFO scheduling algorithm.<br>Resources requested: 1.0/12 CPUs, 1.0/1 GPUs, 0.0/5.31 GiB heap, 0.0/2.66 GiB objects (0.0/1.0 accelerator_type:G)<br>Result logdir: /home/michael/ray_results/objective_2022-05-14_14-41-01<br>Number of trials: 6/6 (2 PENDING, 1 RUNNING, 3 TERMINATED)<br><table>\n",
       "<thead>\n",
       "<tr><th>Trial name           </th><th>status    </th><th>loc                 </th><th style=\"text-align: right;\">  alpha</th><th style=\"text-align: right;\">  epsilon</th><th style=\"text-align: right;\">  iter</th><th style=\"text-align: right;\">  total time (s)</th><th style=\"text-align: right;\">  score</th></tr>\n",
       "</thead>\n",
       "<tbody>\n",
       "<tr><td>objective_6718c_00003</td><td>RUNNING   </td><td>192.168.1.14:3425063</td><td style=\"text-align: right;\"> 0.0001</td><td style=\"text-align: right;\">     0.1 </td><td style=\"text-align: right;\">      </td><td style=\"text-align: right;\">                </td><td style=\"text-align: right;\">       </td></tr>\n",
       "<tr><td>objective_6718c_00004</td><td>PENDING   </td><td>                    </td><td style=\"text-align: right;\"> 0.1   </td><td style=\"text-align: right;\">     0.1 </td><td style=\"text-align: right;\">      </td><td style=\"text-align: right;\">                </td><td style=\"text-align: right;\">       </td></tr>\n",
       "<tr><td>objective_6718c_00005</td><td>PENDING   </td><td>                    </td><td style=\"text-align: right;\"> 1     </td><td style=\"text-align: right;\">     0.1 </td><td style=\"text-align: right;\">      </td><td style=\"text-align: right;\">                </td><td style=\"text-align: right;\">       </td></tr>\n",
       "<tr><td>objective_6718c_00000</td><td>TERMINATED</td><td>192.168.1.14:3424789</td><td style=\"text-align: right;\"> 0.0001</td><td style=\"text-align: right;\">     0.01</td><td style=\"text-align: right;\">     1</td><td style=\"text-align: right;\">        97.6597 </td><td style=\"text-align: right;\">  0.852</td></tr>\n",
       "<tr><td>objective_6718c_00001</td><td>TERMINATED</td><td>192.168.1.14:3424992</td><td style=\"text-align: right;\"> 0.1   </td><td style=\"text-align: right;\">     0.01</td><td style=\"text-align: right;\">     1</td><td style=\"text-align: right;\">         9.82223</td><td style=\"text-align: right;\">  0.872</td></tr>\n",
       "<tr><td>objective_6718c_00002</td><td>TERMINATED</td><td>192.168.1.14:3425027</td><td style=\"text-align: right;\"> 1     </td><td style=\"text-align: right;\">     0.01</td><td style=\"text-align: right;\">     1</td><td style=\"text-align: right;\">         6.51647</td><td style=\"text-align: right;\">  0.873</td></tr>\n",
       "</tbody>\n",
       "</table><br><br>"
      ],
      "text/plain": [
       "<IPython.core.display.HTML object>"
      ]
     },
     "metadata": {},
     "output_type": "display_data"
    },
    {
     "data": {
      "text/html": [
       "== Status ==<br>Current time: 2022-05-14 14:45:00 (running for 00:03:58.67)<br>Memory usage on this node: 10.1/15.5 GiB<br>Using FIFO scheduling algorithm.<br>Resources requested: 1.0/12 CPUs, 1.0/1 GPUs, 0.0/5.31 GiB heap, 0.0/2.66 GiB objects (0.0/1.0 accelerator_type:G)<br>Result logdir: /home/michael/ray_results/objective_2022-05-14_14-41-01<br>Number of trials: 6/6 (2 PENDING, 1 RUNNING, 3 TERMINATED)<br><table>\n",
       "<thead>\n",
       "<tr><th>Trial name           </th><th>status    </th><th>loc                 </th><th style=\"text-align: right;\">  alpha</th><th style=\"text-align: right;\">  epsilon</th><th style=\"text-align: right;\">  iter</th><th style=\"text-align: right;\">  total time (s)</th><th style=\"text-align: right;\">  score</th></tr>\n",
       "</thead>\n",
       "<tbody>\n",
       "<tr><td>objective_6718c_00003</td><td>RUNNING   </td><td>192.168.1.14:3425063</td><td style=\"text-align: right;\"> 0.0001</td><td style=\"text-align: right;\">     0.1 </td><td style=\"text-align: right;\">      </td><td style=\"text-align: right;\">                </td><td style=\"text-align: right;\">       </td></tr>\n",
       "<tr><td>objective_6718c_00004</td><td>PENDING   </td><td>                    </td><td style=\"text-align: right;\"> 0.1   </td><td style=\"text-align: right;\">     0.1 </td><td style=\"text-align: right;\">      </td><td style=\"text-align: right;\">                </td><td style=\"text-align: right;\">       </td></tr>\n",
       "<tr><td>objective_6718c_00005</td><td>PENDING   </td><td>                    </td><td style=\"text-align: right;\"> 1     </td><td style=\"text-align: right;\">     0.1 </td><td style=\"text-align: right;\">      </td><td style=\"text-align: right;\">                </td><td style=\"text-align: right;\">       </td></tr>\n",
       "<tr><td>objective_6718c_00000</td><td>TERMINATED</td><td>192.168.1.14:3424789</td><td style=\"text-align: right;\"> 0.0001</td><td style=\"text-align: right;\">     0.01</td><td style=\"text-align: right;\">     1</td><td style=\"text-align: right;\">        97.6597 </td><td style=\"text-align: right;\">  0.852</td></tr>\n",
       "<tr><td>objective_6718c_00001</td><td>TERMINATED</td><td>192.168.1.14:3424992</td><td style=\"text-align: right;\"> 0.1   </td><td style=\"text-align: right;\">     0.01</td><td style=\"text-align: right;\">     1</td><td style=\"text-align: right;\">         9.82223</td><td style=\"text-align: right;\">  0.872</td></tr>\n",
       "<tr><td>objective_6718c_00002</td><td>TERMINATED</td><td>192.168.1.14:3425027</td><td style=\"text-align: right;\"> 1     </td><td style=\"text-align: right;\">     0.01</td><td style=\"text-align: right;\">     1</td><td style=\"text-align: right;\">         6.51647</td><td style=\"text-align: right;\">  0.873</td></tr>\n",
       "</tbody>\n",
       "</table><br><br>"
      ],
      "text/plain": [
       "<IPython.core.display.HTML object>"
      ]
     },
     "metadata": {},
     "output_type": "display_data"
    },
    {
     "data": {
      "text/html": [
       "== Status ==<br>Current time: 2022-05-14 14:45:05 (running for 00:04:03.69)<br>Memory usage on this node: 10.1/15.5 GiB<br>Using FIFO scheduling algorithm.<br>Resources requested: 1.0/12 CPUs, 1.0/1 GPUs, 0.0/5.31 GiB heap, 0.0/2.66 GiB objects (0.0/1.0 accelerator_type:G)<br>Result logdir: /home/michael/ray_results/objective_2022-05-14_14-41-01<br>Number of trials: 6/6 (2 PENDING, 1 RUNNING, 3 TERMINATED)<br><table>\n",
       "<thead>\n",
       "<tr><th>Trial name           </th><th>status    </th><th>loc                 </th><th style=\"text-align: right;\">  alpha</th><th style=\"text-align: right;\">  epsilon</th><th style=\"text-align: right;\">  iter</th><th style=\"text-align: right;\">  total time (s)</th><th style=\"text-align: right;\">  score</th></tr>\n",
       "</thead>\n",
       "<tbody>\n",
       "<tr><td>objective_6718c_00003</td><td>RUNNING   </td><td>192.168.1.14:3425063</td><td style=\"text-align: right;\"> 0.0001</td><td style=\"text-align: right;\">     0.1 </td><td style=\"text-align: right;\">      </td><td style=\"text-align: right;\">                </td><td style=\"text-align: right;\">       </td></tr>\n",
       "<tr><td>objective_6718c_00004</td><td>PENDING   </td><td>                    </td><td style=\"text-align: right;\"> 0.1   </td><td style=\"text-align: right;\">     0.1 </td><td style=\"text-align: right;\">      </td><td style=\"text-align: right;\">                </td><td style=\"text-align: right;\">       </td></tr>\n",
       "<tr><td>objective_6718c_00005</td><td>PENDING   </td><td>                    </td><td style=\"text-align: right;\"> 1     </td><td style=\"text-align: right;\">     0.1 </td><td style=\"text-align: right;\">      </td><td style=\"text-align: right;\">                </td><td style=\"text-align: right;\">       </td></tr>\n",
       "<tr><td>objective_6718c_00000</td><td>TERMINATED</td><td>192.168.1.14:3424789</td><td style=\"text-align: right;\"> 0.0001</td><td style=\"text-align: right;\">     0.01</td><td style=\"text-align: right;\">     1</td><td style=\"text-align: right;\">        97.6597 </td><td style=\"text-align: right;\">  0.852</td></tr>\n",
       "<tr><td>objective_6718c_00001</td><td>TERMINATED</td><td>192.168.1.14:3424992</td><td style=\"text-align: right;\"> 0.1   </td><td style=\"text-align: right;\">     0.01</td><td style=\"text-align: right;\">     1</td><td style=\"text-align: right;\">         9.82223</td><td style=\"text-align: right;\">  0.872</td></tr>\n",
       "<tr><td>objective_6718c_00002</td><td>TERMINATED</td><td>192.168.1.14:3425027</td><td style=\"text-align: right;\"> 1     </td><td style=\"text-align: right;\">     0.01</td><td style=\"text-align: right;\">     1</td><td style=\"text-align: right;\">         6.51647</td><td style=\"text-align: right;\">  0.873</td></tr>\n",
       "</tbody>\n",
       "</table><br><br>"
      ],
      "text/plain": [
       "<IPython.core.display.HTML object>"
      ]
     },
     "metadata": {},
     "output_type": "display_data"
    },
    {
     "data": {
      "text/html": [
       "== Status ==<br>Current time: 2022-05-14 14:45:10 (running for 00:04:08.71)<br>Memory usage on this node: 10.0/15.5 GiB<br>Using FIFO scheduling algorithm.<br>Resources requested: 1.0/12 CPUs, 1.0/1 GPUs, 0.0/5.31 GiB heap, 0.0/2.66 GiB objects (0.0/1.0 accelerator_type:G)<br>Result logdir: /home/michael/ray_results/objective_2022-05-14_14-41-01<br>Number of trials: 6/6 (2 PENDING, 1 RUNNING, 3 TERMINATED)<br><table>\n",
       "<thead>\n",
       "<tr><th>Trial name           </th><th>status    </th><th>loc                 </th><th style=\"text-align: right;\">  alpha</th><th style=\"text-align: right;\">  epsilon</th><th style=\"text-align: right;\">  iter</th><th style=\"text-align: right;\">  total time (s)</th><th style=\"text-align: right;\">  score</th></tr>\n",
       "</thead>\n",
       "<tbody>\n",
       "<tr><td>objective_6718c_00003</td><td>RUNNING   </td><td>192.168.1.14:3425063</td><td style=\"text-align: right;\"> 0.0001</td><td style=\"text-align: right;\">     0.1 </td><td style=\"text-align: right;\">      </td><td style=\"text-align: right;\">                </td><td style=\"text-align: right;\">       </td></tr>\n",
       "<tr><td>objective_6718c_00004</td><td>PENDING   </td><td>                    </td><td style=\"text-align: right;\"> 0.1   </td><td style=\"text-align: right;\">     0.1 </td><td style=\"text-align: right;\">      </td><td style=\"text-align: right;\">                </td><td style=\"text-align: right;\">       </td></tr>\n",
       "<tr><td>objective_6718c_00005</td><td>PENDING   </td><td>                    </td><td style=\"text-align: right;\"> 1     </td><td style=\"text-align: right;\">     0.1 </td><td style=\"text-align: right;\">      </td><td style=\"text-align: right;\">                </td><td style=\"text-align: right;\">       </td></tr>\n",
       "<tr><td>objective_6718c_00000</td><td>TERMINATED</td><td>192.168.1.14:3424789</td><td style=\"text-align: right;\"> 0.0001</td><td style=\"text-align: right;\">     0.01</td><td style=\"text-align: right;\">     1</td><td style=\"text-align: right;\">        97.6597 </td><td style=\"text-align: right;\">  0.852</td></tr>\n",
       "<tr><td>objective_6718c_00001</td><td>TERMINATED</td><td>192.168.1.14:3424992</td><td style=\"text-align: right;\"> 0.1   </td><td style=\"text-align: right;\">     0.01</td><td style=\"text-align: right;\">     1</td><td style=\"text-align: right;\">         9.82223</td><td style=\"text-align: right;\">  0.872</td></tr>\n",
       "<tr><td>objective_6718c_00002</td><td>TERMINATED</td><td>192.168.1.14:3425027</td><td style=\"text-align: right;\"> 1     </td><td style=\"text-align: right;\">     0.01</td><td style=\"text-align: right;\">     1</td><td style=\"text-align: right;\">         6.51647</td><td style=\"text-align: right;\">  0.873</td></tr>\n",
       "</tbody>\n",
       "</table><br><br>"
      ],
      "text/plain": [
       "<IPython.core.display.HTML object>"
      ]
     },
     "metadata": {},
     "output_type": "display_data"
    },
    {
     "data": {
      "text/html": [
       "== Status ==<br>Current time: 2022-05-14 14:45:15 (running for 00:04:13.72)<br>Memory usage on this node: 10.0/15.5 GiB<br>Using FIFO scheduling algorithm.<br>Resources requested: 1.0/12 CPUs, 1.0/1 GPUs, 0.0/5.31 GiB heap, 0.0/2.66 GiB objects (0.0/1.0 accelerator_type:G)<br>Result logdir: /home/michael/ray_results/objective_2022-05-14_14-41-01<br>Number of trials: 6/6 (2 PENDING, 1 RUNNING, 3 TERMINATED)<br><table>\n",
       "<thead>\n",
       "<tr><th>Trial name           </th><th>status    </th><th>loc                 </th><th style=\"text-align: right;\">  alpha</th><th style=\"text-align: right;\">  epsilon</th><th style=\"text-align: right;\">  iter</th><th style=\"text-align: right;\">  total time (s)</th><th style=\"text-align: right;\">  score</th></tr>\n",
       "</thead>\n",
       "<tbody>\n",
       "<tr><td>objective_6718c_00003</td><td>RUNNING   </td><td>192.168.1.14:3425063</td><td style=\"text-align: right;\"> 0.0001</td><td style=\"text-align: right;\">     0.1 </td><td style=\"text-align: right;\">      </td><td style=\"text-align: right;\">                </td><td style=\"text-align: right;\">       </td></tr>\n",
       "<tr><td>objective_6718c_00004</td><td>PENDING   </td><td>                    </td><td style=\"text-align: right;\"> 0.1   </td><td style=\"text-align: right;\">     0.1 </td><td style=\"text-align: right;\">      </td><td style=\"text-align: right;\">                </td><td style=\"text-align: right;\">       </td></tr>\n",
       "<tr><td>objective_6718c_00005</td><td>PENDING   </td><td>                    </td><td style=\"text-align: right;\"> 1     </td><td style=\"text-align: right;\">     0.1 </td><td style=\"text-align: right;\">      </td><td style=\"text-align: right;\">                </td><td style=\"text-align: right;\">       </td></tr>\n",
       "<tr><td>objective_6718c_00000</td><td>TERMINATED</td><td>192.168.1.14:3424789</td><td style=\"text-align: right;\"> 0.0001</td><td style=\"text-align: right;\">     0.01</td><td style=\"text-align: right;\">     1</td><td style=\"text-align: right;\">        97.6597 </td><td style=\"text-align: right;\">  0.852</td></tr>\n",
       "<tr><td>objective_6718c_00001</td><td>TERMINATED</td><td>192.168.1.14:3424992</td><td style=\"text-align: right;\"> 0.1   </td><td style=\"text-align: right;\">     0.01</td><td style=\"text-align: right;\">     1</td><td style=\"text-align: right;\">         9.82223</td><td style=\"text-align: right;\">  0.872</td></tr>\n",
       "<tr><td>objective_6718c_00002</td><td>TERMINATED</td><td>192.168.1.14:3425027</td><td style=\"text-align: right;\"> 1     </td><td style=\"text-align: right;\">     0.01</td><td style=\"text-align: right;\">     1</td><td style=\"text-align: right;\">         6.51647</td><td style=\"text-align: right;\">  0.873</td></tr>\n",
       "</tbody>\n",
       "</table><br><br>"
      ],
      "text/plain": [
       "<IPython.core.display.HTML object>"
      ]
     },
     "metadata": {},
     "output_type": "display_data"
    },
    {
     "data": {
      "text/html": [
       "== Status ==<br>Current time: 2022-05-14 14:45:20 (running for 00:04:18.75)<br>Memory usage on this node: 10.0/15.5 GiB<br>Using FIFO scheduling algorithm.<br>Resources requested: 1.0/12 CPUs, 1.0/1 GPUs, 0.0/5.31 GiB heap, 0.0/2.66 GiB objects (0.0/1.0 accelerator_type:G)<br>Result logdir: /home/michael/ray_results/objective_2022-05-14_14-41-01<br>Number of trials: 6/6 (2 PENDING, 1 RUNNING, 3 TERMINATED)<br><table>\n",
       "<thead>\n",
       "<tr><th>Trial name           </th><th>status    </th><th>loc                 </th><th style=\"text-align: right;\">  alpha</th><th style=\"text-align: right;\">  epsilon</th><th style=\"text-align: right;\">  iter</th><th style=\"text-align: right;\">  total time (s)</th><th style=\"text-align: right;\">  score</th></tr>\n",
       "</thead>\n",
       "<tbody>\n",
       "<tr><td>objective_6718c_00003</td><td>RUNNING   </td><td>192.168.1.14:3425063</td><td style=\"text-align: right;\"> 0.0001</td><td style=\"text-align: right;\">     0.1 </td><td style=\"text-align: right;\">      </td><td style=\"text-align: right;\">                </td><td style=\"text-align: right;\">       </td></tr>\n",
       "<tr><td>objective_6718c_00004</td><td>PENDING   </td><td>                    </td><td style=\"text-align: right;\"> 0.1   </td><td style=\"text-align: right;\">     0.1 </td><td style=\"text-align: right;\">      </td><td style=\"text-align: right;\">                </td><td style=\"text-align: right;\">       </td></tr>\n",
       "<tr><td>objective_6718c_00005</td><td>PENDING   </td><td>                    </td><td style=\"text-align: right;\"> 1     </td><td style=\"text-align: right;\">     0.1 </td><td style=\"text-align: right;\">      </td><td style=\"text-align: right;\">                </td><td style=\"text-align: right;\">       </td></tr>\n",
       "<tr><td>objective_6718c_00000</td><td>TERMINATED</td><td>192.168.1.14:3424789</td><td style=\"text-align: right;\"> 0.0001</td><td style=\"text-align: right;\">     0.01</td><td style=\"text-align: right;\">     1</td><td style=\"text-align: right;\">        97.6597 </td><td style=\"text-align: right;\">  0.852</td></tr>\n",
       "<tr><td>objective_6718c_00001</td><td>TERMINATED</td><td>192.168.1.14:3424992</td><td style=\"text-align: right;\"> 0.1   </td><td style=\"text-align: right;\">     0.01</td><td style=\"text-align: right;\">     1</td><td style=\"text-align: right;\">         9.82223</td><td style=\"text-align: right;\">  0.872</td></tr>\n",
       "<tr><td>objective_6718c_00002</td><td>TERMINATED</td><td>192.168.1.14:3425027</td><td style=\"text-align: right;\"> 1     </td><td style=\"text-align: right;\">     0.01</td><td style=\"text-align: right;\">     1</td><td style=\"text-align: right;\">         6.51647</td><td style=\"text-align: right;\">  0.873</td></tr>\n",
       "</tbody>\n",
       "</table><br><br>"
      ],
      "text/plain": [
       "<IPython.core.display.HTML object>"
      ]
     },
     "metadata": {},
     "output_type": "display_data"
    },
    {
     "data": {
      "text/html": [
       "== Status ==<br>Current time: 2022-05-14 14:45:25 (running for 00:04:23.76)<br>Memory usage on this node: 10.0/15.5 GiB<br>Using FIFO scheduling algorithm.<br>Resources requested: 1.0/12 CPUs, 1.0/1 GPUs, 0.0/5.31 GiB heap, 0.0/2.66 GiB objects (0.0/1.0 accelerator_type:G)<br>Result logdir: /home/michael/ray_results/objective_2022-05-14_14-41-01<br>Number of trials: 6/6 (2 PENDING, 1 RUNNING, 3 TERMINATED)<br><table>\n",
       "<thead>\n",
       "<tr><th>Trial name           </th><th>status    </th><th>loc                 </th><th style=\"text-align: right;\">  alpha</th><th style=\"text-align: right;\">  epsilon</th><th style=\"text-align: right;\">  iter</th><th style=\"text-align: right;\">  total time (s)</th><th style=\"text-align: right;\">  score</th></tr>\n",
       "</thead>\n",
       "<tbody>\n",
       "<tr><td>objective_6718c_00003</td><td>RUNNING   </td><td>192.168.1.14:3425063</td><td style=\"text-align: right;\"> 0.0001</td><td style=\"text-align: right;\">     0.1 </td><td style=\"text-align: right;\">      </td><td style=\"text-align: right;\">                </td><td style=\"text-align: right;\">       </td></tr>\n",
       "<tr><td>objective_6718c_00004</td><td>PENDING   </td><td>                    </td><td style=\"text-align: right;\"> 0.1   </td><td style=\"text-align: right;\">     0.1 </td><td style=\"text-align: right;\">      </td><td style=\"text-align: right;\">                </td><td style=\"text-align: right;\">       </td></tr>\n",
       "<tr><td>objective_6718c_00005</td><td>PENDING   </td><td>                    </td><td style=\"text-align: right;\"> 1     </td><td style=\"text-align: right;\">     0.1 </td><td style=\"text-align: right;\">      </td><td style=\"text-align: right;\">                </td><td style=\"text-align: right;\">       </td></tr>\n",
       "<tr><td>objective_6718c_00000</td><td>TERMINATED</td><td>192.168.1.14:3424789</td><td style=\"text-align: right;\"> 0.0001</td><td style=\"text-align: right;\">     0.01</td><td style=\"text-align: right;\">     1</td><td style=\"text-align: right;\">        97.6597 </td><td style=\"text-align: right;\">  0.852</td></tr>\n",
       "<tr><td>objective_6718c_00001</td><td>TERMINATED</td><td>192.168.1.14:3424992</td><td style=\"text-align: right;\"> 0.1   </td><td style=\"text-align: right;\">     0.01</td><td style=\"text-align: right;\">     1</td><td style=\"text-align: right;\">         9.82223</td><td style=\"text-align: right;\">  0.872</td></tr>\n",
       "<tr><td>objective_6718c_00002</td><td>TERMINATED</td><td>192.168.1.14:3425027</td><td style=\"text-align: right;\"> 1     </td><td style=\"text-align: right;\">     0.01</td><td style=\"text-align: right;\">     1</td><td style=\"text-align: right;\">         6.51647</td><td style=\"text-align: right;\">  0.873</td></tr>\n",
       "</tbody>\n",
       "</table><br><br>"
      ],
      "text/plain": [
       "<IPython.core.display.HTML object>"
      ]
     },
     "metadata": {},
     "output_type": "display_data"
    },
    {
     "data": {
      "text/html": [
       "== Status ==<br>Current time: 2022-05-14 14:45:30 (running for 00:04:28.78)<br>Memory usage on this node: 10.0/15.5 GiB<br>Using FIFO scheduling algorithm.<br>Resources requested: 1.0/12 CPUs, 1.0/1 GPUs, 0.0/5.31 GiB heap, 0.0/2.66 GiB objects (0.0/1.0 accelerator_type:G)<br>Result logdir: /home/michael/ray_results/objective_2022-05-14_14-41-01<br>Number of trials: 6/6 (2 PENDING, 1 RUNNING, 3 TERMINATED)<br><table>\n",
       "<thead>\n",
       "<tr><th>Trial name           </th><th>status    </th><th>loc                 </th><th style=\"text-align: right;\">  alpha</th><th style=\"text-align: right;\">  epsilon</th><th style=\"text-align: right;\">  iter</th><th style=\"text-align: right;\">  total time (s)</th><th style=\"text-align: right;\">  score</th></tr>\n",
       "</thead>\n",
       "<tbody>\n",
       "<tr><td>objective_6718c_00003</td><td>RUNNING   </td><td>192.168.1.14:3425063</td><td style=\"text-align: right;\"> 0.0001</td><td style=\"text-align: right;\">     0.1 </td><td style=\"text-align: right;\">      </td><td style=\"text-align: right;\">                </td><td style=\"text-align: right;\">       </td></tr>\n",
       "<tr><td>objective_6718c_00004</td><td>PENDING   </td><td>                    </td><td style=\"text-align: right;\"> 0.1   </td><td style=\"text-align: right;\">     0.1 </td><td style=\"text-align: right;\">      </td><td style=\"text-align: right;\">                </td><td style=\"text-align: right;\">       </td></tr>\n",
       "<tr><td>objective_6718c_00005</td><td>PENDING   </td><td>                    </td><td style=\"text-align: right;\"> 1     </td><td style=\"text-align: right;\">     0.1 </td><td style=\"text-align: right;\">      </td><td style=\"text-align: right;\">                </td><td style=\"text-align: right;\">       </td></tr>\n",
       "<tr><td>objective_6718c_00000</td><td>TERMINATED</td><td>192.168.1.14:3424789</td><td style=\"text-align: right;\"> 0.0001</td><td style=\"text-align: right;\">     0.01</td><td style=\"text-align: right;\">     1</td><td style=\"text-align: right;\">        97.6597 </td><td style=\"text-align: right;\">  0.852</td></tr>\n",
       "<tr><td>objective_6718c_00001</td><td>TERMINATED</td><td>192.168.1.14:3424992</td><td style=\"text-align: right;\"> 0.1   </td><td style=\"text-align: right;\">     0.01</td><td style=\"text-align: right;\">     1</td><td style=\"text-align: right;\">         9.82223</td><td style=\"text-align: right;\">  0.872</td></tr>\n",
       "<tr><td>objective_6718c_00002</td><td>TERMINATED</td><td>192.168.1.14:3425027</td><td style=\"text-align: right;\"> 1     </td><td style=\"text-align: right;\">     0.01</td><td style=\"text-align: right;\">     1</td><td style=\"text-align: right;\">         6.51647</td><td style=\"text-align: right;\">  0.873</td></tr>\n",
       "</tbody>\n",
       "</table><br><br>"
      ],
      "text/plain": [
       "<IPython.core.display.HTML object>"
      ]
     },
     "metadata": {},
     "output_type": "display_data"
    },
    {
     "data": {
      "text/html": [
       "== Status ==<br>Current time: 2022-05-14 14:45:35 (running for 00:04:33.79)<br>Memory usage on this node: 10.0/15.5 GiB<br>Using FIFO scheduling algorithm.<br>Resources requested: 1.0/12 CPUs, 1.0/1 GPUs, 0.0/5.31 GiB heap, 0.0/2.66 GiB objects (0.0/1.0 accelerator_type:G)<br>Result logdir: /home/michael/ray_results/objective_2022-05-14_14-41-01<br>Number of trials: 6/6 (2 PENDING, 1 RUNNING, 3 TERMINATED)<br><table>\n",
       "<thead>\n",
       "<tr><th>Trial name           </th><th>status    </th><th>loc                 </th><th style=\"text-align: right;\">  alpha</th><th style=\"text-align: right;\">  epsilon</th><th style=\"text-align: right;\">  iter</th><th style=\"text-align: right;\">  total time (s)</th><th style=\"text-align: right;\">  score</th></tr>\n",
       "</thead>\n",
       "<tbody>\n",
       "<tr><td>objective_6718c_00003</td><td>RUNNING   </td><td>192.168.1.14:3425063</td><td style=\"text-align: right;\"> 0.0001</td><td style=\"text-align: right;\">     0.1 </td><td style=\"text-align: right;\">      </td><td style=\"text-align: right;\">                </td><td style=\"text-align: right;\">       </td></tr>\n",
       "<tr><td>objective_6718c_00004</td><td>PENDING   </td><td>                    </td><td style=\"text-align: right;\"> 0.1   </td><td style=\"text-align: right;\">     0.1 </td><td style=\"text-align: right;\">      </td><td style=\"text-align: right;\">                </td><td style=\"text-align: right;\">       </td></tr>\n",
       "<tr><td>objective_6718c_00005</td><td>PENDING   </td><td>                    </td><td style=\"text-align: right;\"> 1     </td><td style=\"text-align: right;\">     0.1 </td><td style=\"text-align: right;\">      </td><td style=\"text-align: right;\">                </td><td style=\"text-align: right;\">       </td></tr>\n",
       "<tr><td>objective_6718c_00000</td><td>TERMINATED</td><td>192.168.1.14:3424789</td><td style=\"text-align: right;\"> 0.0001</td><td style=\"text-align: right;\">     0.01</td><td style=\"text-align: right;\">     1</td><td style=\"text-align: right;\">        97.6597 </td><td style=\"text-align: right;\">  0.852</td></tr>\n",
       "<tr><td>objective_6718c_00001</td><td>TERMINATED</td><td>192.168.1.14:3424992</td><td style=\"text-align: right;\"> 0.1   </td><td style=\"text-align: right;\">     0.01</td><td style=\"text-align: right;\">     1</td><td style=\"text-align: right;\">         9.82223</td><td style=\"text-align: right;\">  0.872</td></tr>\n",
       "<tr><td>objective_6718c_00002</td><td>TERMINATED</td><td>192.168.1.14:3425027</td><td style=\"text-align: right;\"> 1     </td><td style=\"text-align: right;\">     0.01</td><td style=\"text-align: right;\">     1</td><td style=\"text-align: right;\">         6.51647</td><td style=\"text-align: right;\">  0.873</td></tr>\n",
       "</tbody>\n",
       "</table><br><br>"
      ],
      "text/plain": [
       "<IPython.core.display.HTML object>"
      ]
     },
     "metadata": {},
     "output_type": "display_data"
    },
    {
     "data": {
      "text/html": [
       "== Status ==<br>Current time: 2022-05-14 14:45:40 (running for 00:04:38.81)<br>Memory usage on this node: 10.0/15.5 GiB<br>Using FIFO scheduling algorithm.<br>Resources requested: 1.0/12 CPUs, 1.0/1 GPUs, 0.0/5.31 GiB heap, 0.0/2.66 GiB objects (0.0/1.0 accelerator_type:G)<br>Result logdir: /home/michael/ray_results/objective_2022-05-14_14-41-01<br>Number of trials: 6/6 (2 PENDING, 1 RUNNING, 3 TERMINATED)<br><table>\n",
       "<thead>\n",
       "<tr><th>Trial name           </th><th>status    </th><th>loc                 </th><th style=\"text-align: right;\">  alpha</th><th style=\"text-align: right;\">  epsilon</th><th style=\"text-align: right;\">  iter</th><th style=\"text-align: right;\">  total time (s)</th><th style=\"text-align: right;\">  score</th></tr>\n",
       "</thead>\n",
       "<tbody>\n",
       "<tr><td>objective_6718c_00003</td><td>RUNNING   </td><td>192.168.1.14:3425063</td><td style=\"text-align: right;\"> 0.0001</td><td style=\"text-align: right;\">     0.1 </td><td style=\"text-align: right;\">      </td><td style=\"text-align: right;\">                </td><td style=\"text-align: right;\">       </td></tr>\n",
       "<tr><td>objective_6718c_00004</td><td>PENDING   </td><td>                    </td><td style=\"text-align: right;\"> 0.1   </td><td style=\"text-align: right;\">     0.1 </td><td style=\"text-align: right;\">      </td><td style=\"text-align: right;\">                </td><td style=\"text-align: right;\">       </td></tr>\n",
       "<tr><td>objective_6718c_00005</td><td>PENDING   </td><td>                    </td><td style=\"text-align: right;\"> 1     </td><td style=\"text-align: right;\">     0.1 </td><td style=\"text-align: right;\">      </td><td style=\"text-align: right;\">                </td><td style=\"text-align: right;\">       </td></tr>\n",
       "<tr><td>objective_6718c_00000</td><td>TERMINATED</td><td>192.168.1.14:3424789</td><td style=\"text-align: right;\"> 0.0001</td><td style=\"text-align: right;\">     0.01</td><td style=\"text-align: right;\">     1</td><td style=\"text-align: right;\">        97.6597 </td><td style=\"text-align: right;\">  0.852</td></tr>\n",
       "<tr><td>objective_6718c_00001</td><td>TERMINATED</td><td>192.168.1.14:3424992</td><td style=\"text-align: right;\"> 0.1   </td><td style=\"text-align: right;\">     0.01</td><td style=\"text-align: right;\">     1</td><td style=\"text-align: right;\">         9.82223</td><td style=\"text-align: right;\">  0.872</td></tr>\n",
       "<tr><td>objective_6718c_00002</td><td>TERMINATED</td><td>192.168.1.14:3425027</td><td style=\"text-align: right;\"> 1     </td><td style=\"text-align: right;\">     0.01</td><td style=\"text-align: right;\">     1</td><td style=\"text-align: right;\">         6.51647</td><td style=\"text-align: right;\">  0.873</td></tr>\n",
       "</tbody>\n",
       "</table><br><br>"
      ],
      "text/plain": [
       "<IPython.core.display.HTML object>"
      ]
     },
     "metadata": {},
     "output_type": "display_data"
    },
    {
     "data": {
      "text/html": [
       "== Status ==<br>Current time: 2022-05-14 14:45:45 (running for 00:04:43.82)<br>Memory usage on this node: 10.0/15.5 GiB<br>Using FIFO scheduling algorithm.<br>Resources requested: 1.0/12 CPUs, 1.0/1 GPUs, 0.0/5.31 GiB heap, 0.0/2.66 GiB objects (0.0/1.0 accelerator_type:G)<br>Result logdir: /home/michael/ray_results/objective_2022-05-14_14-41-01<br>Number of trials: 6/6 (2 PENDING, 1 RUNNING, 3 TERMINATED)<br><table>\n",
       "<thead>\n",
       "<tr><th>Trial name           </th><th>status    </th><th>loc                 </th><th style=\"text-align: right;\">  alpha</th><th style=\"text-align: right;\">  epsilon</th><th style=\"text-align: right;\">  iter</th><th style=\"text-align: right;\">  total time (s)</th><th style=\"text-align: right;\">  score</th></tr>\n",
       "</thead>\n",
       "<tbody>\n",
       "<tr><td>objective_6718c_00003</td><td>RUNNING   </td><td>192.168.1.14:3425063</td><td style=\"text-align: right;\"> 0.0001</td><td style=\"text-align: right;\">     0.1 </td><td style=\"text-align: right;\">      </td><td style=\"text-align: right;\">                </td><td style=\"text-align: right;\">       </td></tr>\n",
       "<tr><td>objective_6718c_00004</td><td>PENDING   </td><td>                    </td><td style=\"text-align: right;\"> 0.1   </td><td style=\"text-align: right;\">     0.1 </td><td style=\"text-align: right;\">      </td><td style=\"text-align: right;\">                </td><td style=\"text-align: right;\">       </td></tr>\n",
       "<tr><td>objective_6718c_00005</td><td>PENDING   </td><td>                    </td><td style=\"text-align: right;\"> 1     </td><td style=\"text-align: right;\">     0.1 </td><td style=\"text-align: right;\">      </td><td style=\"text-align: right;\">                </td><td style=\"text-align: right;\">       </td></tr>\n",
       "<tr><td>objective_6718c_00000</td><td>TERMINATED</td><td>192.168.1.14:3424789</td><td style=\"text-align: right;\"> 0.0001</td><td style=\"text-align: right;\">     0.01</td><td style=\"text-align: right;\">     1</td><td style=\"text-align: right;\">        97.6597 </td><td style=\"text-align: right;\">  0.852</td></tr>\n",
       "<tr><td>objective_6718c_00001</td><td>TERMINATED</td><td>192.168.1.14:3424992</td><td style=\"text-align: right;\"> 0.1   </td><td style=\"text-align: right;\">     0.01</td><td style=\"text-align: right;\">     1</td><td style=\"text-align: right;\">         9.82223</td><td style=\"text-align: right;\">  0.872</td></tr>\n",
       "<tr><td>objective_6718c_00002</td><td>TERMINATED</td><td>192.168.1.14:3425027</td><td style=\"text-align: right;\"> 1     </td><td style=\"text-align: right;\">     0.01</td><td style=\"text-align: right;\">     1</td><td style=\"text-align: right;\">         6.51647</td><td style=\"text-align: right;\">  0.873</td></tr>\n",
       "</tbody>\n",
       "</table><br><br>"
      ],
      "text/plain": [
       "<IPython.core.display.HTML object>"
      ]
     },
     "metadata": {},
     "output_type": "display_data"
    },
    {
     "data": {
      "text/html": [
       "== Status ==<br>Current time: 2022-05-14 14:45:50 (running for 00:04:48.84)<br>Memory usage on this node: 10.0/15.5 GiB<br>Using FIFO scheduling algorithm.<br>Resources requested: 1.0/12 CPUs, 1.0/1 GPUs, 0.0/5.31 GiB heap, 0.0/2.66 GiB objects (0.0/1.0 accelerator_type:G)<br>Result logdir: /home/michael/ray_results/objective_2022-05-14_14-41-01<br>Number of trials: 6/6 (2 PENDING, 1 RUNNING, 3 TERMINATED)<br><table>\n",
       "<thead>\n",
       "<tr><th>Trial name           </th><th>status    </th><th>loc                 </th><th style=\"text-align: right;\">  alpha</th><th style=\"text-align: right;\">  epsilon</th><th style=\"text-align: right;\">  iter</th><th style=\"text-align: right;\">  total time (s)</th><th style=\"text-align: right;\">  score</th></tr>\n",
       "</thead>\n",
       "<tbody>\n",
       "<tr><td>objective_6718c_00003</td><td>RUNNING   </td><td>192.168.1.14:3425063</td><td style=\"text-align: right;\"> 0.0001</td><td style=\"text-align: right;\">     0.1 </td><td style=\"text-align: right;\">      </td><td style=\"text-align: right;\">                </td><td style=\"text-align: right;\">       </td></tr>\n",
       "<tr><td>objective_6718c_00004</td><td>PENDING   </td><td>                    </td><td style=\"text-align: right;\"> 0.1   </td><td style=\"text-align: right;\">     0.1 </td><td style=\"text-align: right;\">      </td><td style=\"text-align: right;\">                </td><td style=\"text-align: right;\">       </td></tr>\n",
       "<tr><td>objective_6718c_00005</td><td>PENDING   </td><td>                    </td><td style=\"text-align: right;\"> 1     </td><td style=\"text-align: right;\">     0.1 </td><td style=\"text-align: right;\">      </td><td style=\"text-align: right;\">                </td><td style=\"text-align: right;\">       </td></tr>\n",
       "<tr><td>objective_6718c_00000</td><td>TERMINATED</td><td>192.168.1.14:3424789</td><td style=\"text-align: right;\"> 0.0001</td><td style=\"text-align: right;\">     0.01</td><td style=\"text-align: right;\">     1</td><td style=\"text-align: right;\">        97.6597 </td><td style=\"text-align: right;\">  0.852</td></tr>\n",
       "<tr><td>objective_6718c_00001</td><td>TERMINATED</td><td>192.168.1.14:3424992</td><td style=\"text-align: right;\"> 0.1   </td><td style=\"text-align: right;\">     0.01</td><td style=\"text-align: right;\">     1</td><td style=\"text-align: right;\">         9.82223</td><td style=\"text-align: right;\">  0.872</td></tr>\n",
       "<tr><td>objective_6718c_00002</td><td>TERMINATED</td><td>192.168.1.14:3425027</td><td style=\"text-align: right;\"> 1     </td><td style=\"text-align: right;\">     0.01</td><td style=\"text-align: right;\">     1</td><td style=\"text-align: right;\">         6.51647</td><td style=\"text-align: right;\">  0.873</td></tr>\n",
       "</tbody>\n",
       "</table><br><br>"
      ],
      "text/plain": [
       "<IPython.core.display.HTML object>"
      ]
     },
     "metadata": {},
     "output_type": "display_data"
    },
    {
     "data": {
      "text/html": [
       "== Status ==<br>Current time: 2022-05-14 14:45:55 (running for 00:04:53.85)<br>Memory usage on this node: 10.0/15.5 GiB<br>Using FIFO scheduling algorithm.<br>Resources requested: 1.0/12 CPUs, 1.0/1 GPUs, 0.0/5.31 GiB heap, 0.0/2.66 GiB objects (0.0/1.0 accelerator_type:G)<br>Result logdir: /home/michael/ray_results/objective_2022-05-14_14-41-01<br>Number of trials: 6/6 (2 PENDING, 1 RUNNING, 3 TERMINATED)<br><table>\n",
       "<thead>\n",
       "<tr><th>Trial name           </th><th>status    </th><th>loc                 </th><th style=\"text-align: right;\">  alpha</th><th style=\"text-align: right;\">  epsilon</th><th style=\"text-align: right;\">  iter</th><th style=\"text-align: right;\">  total time (s)</th><th style=\"text-align: right;\">  score</th></tr>\n",
       "</thead>\n",
       "<tbody>\n",
       "<tr><td>objective_6718c_00003</td><td>RUNNING   </td><td>192.168.1.14:3425063</td><td style=\"text-align: right;\"> 0.0001</td><td style=\"text-align: right;\">     0.1 </td><td style=\"text-align: right;\">      </td><td style=\"text-align: right;\">                </td><td style=\"text-align: right;\">       </td></tr>\n",
       "<tr><td>objective_6718c_00004</td><td>PENDING   </td><td>                    </td><td style=\"text-align: right;\"> 0.1   </td><td style=\"text-align: right;\">     0.1 </td><td style=\"text-align: right;\">      </td><td style=\"text-align: right;\">                </td><td style=\"text-align: right;\">       </td></tr>\n",
       "<tr><td>objective_6718c_00005</td><td>PENDING   </td><td>                    </td><td style=\"text-align: right;\"> 1     </td><td style=\"text-align: right;\">     0.1 </td><td style=\"text-align: right;\">      </td><td style=\"text-align: right;\">                </td><td style=\"text-align: right;\">       </td></tr>\n",
       "<tr><td>objective_6718c_00000</td><td>TERMINATED</td><td>192.168.1.14:3424789</td><td style=\"text-align: right;\"> 0.0001</td><td style=\"text-align: right;\">     0.01</td><td style=\"text-align: right;\">     1</td><td style=\"text-align: right;\">        97.6597 </td><td style=\"text-align: right;\">  0.852</td></tr>\n",
       "<tr><td>objective_6718c_00001</td><td>TERMINATED</td><td>192.168.1.14:3424992</td><td style=\"text-align: right;\"> 0.1   </td><td style=\"text-align: right;\">     0.01</td><td style=\"text-align: right;\">     1</td><td style=\"text-align: right;\">         9.82223</td><td style=\"text-align: right;\">  0.872</td></tr>\n",
       "<tr><td>objective_6718c_00002</td><td>TERMINATED</td><td>192.168.1.14:3425027</td><td style=\"text-align: right;\"> 1     </td><td style=\"text-align: right;\">     0.01</td><td style=\"text-align: right;\">     1</td><td style=\"text-align: right;\">         6.51647</td><td style=\"text-align: right;\">  0.873</td></tr>\n",
       "</tbody>\n",
       "</table><br><br>"
      ],
      "text/plain": [
       "<IPython.core.display.HTML object>"
      ]
     },
     "metadata": {},
     "output_type": "display_data"
    },
    {
     "data": {
      "text/html": [
       "== Status ==<br>Current time: 2022-05-14 14:46:00 (running for 00:04:58.88)<br>Memory usage on this node: 10.0/15.5 GiB<br>Using FIFO scheduling algorithm.<br>Resources requested: 1.0/12 CPUs, 1.0/1 GPUs, 0.0/5.31 GiB heap, 0.0/2.66 GiB objects (0.0/1.0 accelerator_type:G)<br>Result logdir: /home/michael/ray_results/objective_2022-05-14_14-41-01<br>Number of trials: 6/6 (2 PENDING, 1 RUNNING, 3 TERMINATED)<br><table>\n",
       "<thead>\n",
       "<tr><th>Trial name           </th><th>status    </th><th>loc                 </th><th style=\"text-align: right;\">  alpha</th><th style=\"text-align: right;\">  epsilon</th><th style=\"text-align: right;\">  iter</th><th style=\"text-align: right;\">  total time (s)</th><th style=\"text-align: right;\">  score</th></tr>\n",
       "</thead>\n",
       "<tbody>\n",
       "<tr><td>objective_6718c_00003</td><td>RUNNING   </td><td>192.168.1.14:3425063</td><td style=\"text-align: right;\"> 0.0001</td><td style=\"text-align: right;\">     0.1 </td><td style=\"text-align: right;\">      </td><td style=\"text-align: right;\">                </td><td style=\"text-align: right;\">       </td></tr>\n",
       "<tr><td>objective_6718c_00004</td><td>PENDING   </td><td>                    </td><td style=\"text-align: right;\"> 0.1   </td><td style=\"text-align: right;\">     0.1 </td><td style=\"text-align: right;\">      </td><td style=\"text-align: right;\">                </td><td style=\"text-align: right;\">       </td></tr>\n",
       "<tr><td>objective_6718c_00005</td><td>PENDING   </td><td>                    </td><td style=\"text-align: right;\"> 1     </td><td style=\"text-align: right;\">     0.1 </td><td style=\"text-align: right;\">      </td><td style=\"text-align: right;\">                </td><td style=\"text-align: right;\">       </td></tr>\n",
       "<tr><td>objective_6718c_00000</td><td>TERMINATED</td><td>192.168.1.14:3424789</td><td style=\"text-align: right;\"> 0.0001</td><td style=\"text-align: right;\">     0.01</td><td style=\"text-align: right;\">     1</td><td style=\"text-align: right;\">        97.6597 </td><td style=\"text-align: right;\">  0.852</td></tr>\n",
       "<tr><td>objective_6718c_00001</td><td>TERMINATED</td><td>192.168.1.14:3424992</td><td style=\"text-align: right;\"> 0.1   </td><td style=\"text-align: right;\">     0.01</td><td style=\"text-align: right;\">     1</td><td style=\"text-align: right;\">         9.82223</td><td style=\"text-align: right;\">  0.872</td></tr>\n",
       "<tr><td>objective_6718c_00002</td><td>TERMINATED</td><td>192.168.1.14:3425027</td><td style=\"text-align: right;\"> 1     </td><td style=\"text-align: right;\">     0.01</td><td style=\"text-align: right;\">     1</td><td style=\"text-align: right;\">         6.51647</td><td style=\"text-align: right;\">  0.873</td></tr>\n",
       "</tbody>\n",
       "</table><br><br>"
      ],
      "text/plain": [
       "<IPython.core.display.HTML object>"
      ]
     },
     "metadata": {},
     "output_type": "display_data"
    },
    {
     "name": "stdout",
     "output_type": "stream",
     "text": [
      "Result for objective_6718c_00003:\n",
      "  date: 2022-05-14_14-46-05\n",
      "  done: false\n",
      "  experiment_id: 55f1f50fe49e4013b8e9f7752f8576a6\n",
      "  hostname: 4eyes\n",
      "  iterations_since_restore: 1\n",
      "  node_ip: 192.168.1.14\n",
      "  pid: 3425063\n",
      "  score: 0.852\n",
      "  time_since_restore: 140.46794056892395\n",
      "  time_this_iter_s: 140.46794056892395\n",
      "  time_total_s: 140.46794056892395\n",
      "  timestamp: 1652553965\n",
      "  timesteps_since_restore: 0\n",
      "  training_iteration: 1\n",
      "  trial_id: 6718c_00003\n",
      "  warmup_time: 0.008799076080322266\n",
      "  \n"
     ]
    },
    {
     "data": {
      "text/html": [
       "== Status ==<br>Current time: 2022-05-14 14:46:05 (running for 00:05:03.89)<br>Memory usage on this node: 10.0/15.5 GiB<br>Using FIFO scheduling algorithm.<br>Resources requested: 1.0/12 CPUs, 1.0/1 GPUs, 0.0/5.31 GiB heap, 0.0/2.66 GiB objects (0.0/1.0 accelerator_type:G)<br>Result logdir: /home/michael/ray_results/objective_2022-05-14_14-41-01<br>Number of trials: 6/6 (2 PENDING, 1 RUNNING, 3 TERMINATED)<br><table>\n",
       "<thead>\n",
       "<tr><th>Trial name           </th><th>status    </th><th>loc                 </th><th style=\"text-align: right;\">  alpha</th><th style=\"text-align: right;\">  epsilon</th><th style=\"text-align: right;\">  iter</th><th style=\"text-align: right;\">  total time (s)</th><th style=\"text-align: right;\">  score</th></tr>\n",
       "</thead>\n",
       "<tbody>\n",
       "<tr><td>objective_6718c_00003</td><td>RUNNING   </td><td>192.168.1.14:3425063</td><td style=\"text-align: right;\"> 0.0001</td><td style=\"text-align: right;\">     0.1 </td><td style=\"text-align: right;\">     1</td><td style=\"text-align: right;\">       140.468  </td><td style=\"text-align: right;\">  0.852</td></tr>\n",
       "<tr><td>objective_6718c_00004</td><td>PENDING   </td><td>                    </td><td style=\"text-align: right;\"> 0.1   </td><td style=\"text-align: right;\">     0.1 </td><td style=\"text-align: right;\">      </td><td style=\"text-align: right;\">                </td><td style=\"text-align: right;\">       </td></tr>\n",
       "<tr><td>objective_6718c_00005</td><td>PENDING   </td><td>                    </td><td style=\"text-align: right;\"> 1     </td><td style=\"text-align: right;\">     0.1 </td><td style=\"text-align: right;\">      </td><td style=\"text-align: right;\">                </td><td style=\"text-align: right;\">       </td></tr>\n",
       "<tr><td>objective_6718c_00000</td><td>TERMINATED</td><td>192.168.1.14:3424789</td><td style=\"text-align: right;\"> 0.0001</td><td style=\"text-align: right;\">     0.01</td><td style=\"text-align: right;\">     1</td><td style=\"text-align: right;\">        97.6597 </td><td style=\"text-align: right;\">  0.852</td></tr>\n",
       "<tr><td>objective_6718c_00001</td><td>TERMINATED</td><td>192.168.1.14:3424992</td><td style=\"text-align: right;\"> 0.1   </td><td style=\"text-align: right;\">     0.01</td><td style=\"text-align: right;\">     1</td><td style=\"text-align: right;\">         9.82223</td><td style=\"text-align: right;\">  0.872</td></tr>\n",
       "<tr><td>objective_6718c_00002</td><td>TERMINATED</td><td>192.168.1.14:3425027</td><td style=\"text-align: right;\"> 1     </td><td style=\"text-align: right;\">     0.01</td><td style=\"text-align: right;\">     1</td><td style=\"text-align: right;\">         6.51647</td><td style=\"text-align: right;\">  0.873</td></tr>\n",
       "</tbody>\n",
       "</table><br><br>"
      ],
      "text/plain": [
       "<IPython.core.display.HTML object>"
      ]
     },
     "metadata": {},
     "output_type": "display_data"
    },
    {
     "name": "stdout",
     "output_type": "stream",
     "text": [
      "Result for objective_6718c_00003:\n",
      "  date: 2022-05-14_14-46-05\n",
      "  done: true\n",
      "  experiment_id: 55f1f50fe49e4013b8e9f7752f8576a6\n",
      "  experiment_tag: 3_alpha=0.0001,epsilon=0.1\n",
      "  hostname: 4eyes\n",
      "  iterations_since_restore: 1\n",
      "  node_ip: 192.168.1.14\n",
      "  pid: 3425063\n",
      "  score: 0.852\n",
      "  time_since_restore: 140.46794056892395\n",
      "  time_this_iter_s: 140.46794056892395\n",
      "  time_total_s: 140.46794056892395\n",
      "  timestamp: 1652553965\n",
      "  timesteps_since_restore: 0\n",
      "  training_iteration: 1\n",
      "  trial_id: 6718c_00003\n",
      "  warmup_time: 0.008799076080322266\n",
      "  \n"
     ]
    },
    {
     "name": "stderr",
     "output_type": "stream",
     "text": [
      "2022-05-14 14:46:06,214\tINFO trial_runner.py:803 -- starting objective_6718c_00004\n",
      "2022-05-14 14:46:08,577\tWARNING util.py:171 -- The `start_trial` operation took 2.361 s, which may be a performance bottleneck.\n"
     ]
    },
    {
     "data": {
      "text/html": [
       "== Status ==<br>Current time: 2022-05-14 14:46:16 (running for 00:05:14.75)<br>Memory usage on this node: 10.0/15.5 GiB<br>Using FIFO scheduling algorithm.<br>Resources requested: 1.0/12 CPUs, 1.0/1 GPUs, 0.0/5.31 GiB heap, 0.0/2.66 GiB objects (0.0/1.0 accelerator_type:G)<br>Result logdir: /home/michael/ray_results/objective_2022-05-14_14-41-01<br>Number of trials: 6/6 (1 PENDING, 1 RUNNING, 4 TERMINATED)<br><table>\n",
       "<thead>\n",
       "<tr><th>Trial name           </th><th>status    </th><th>loc                 </th><th style=\"text-align: right;\">  alpha</th><th style=\"text-align: right;\">  epsilon</th><th style=\"text-align: right;\">  iter</th><th style=\"text-align: right;\">  total time (s)</th><th style=\"text-align: right;\">  score</th></tr>\n",
       "</thead>\n",
       "<tbody>\n",
       "<tr><td>objective_6718c_00004</td><td>RUNNING   </td><td>192.168.1.14:3425338</td><td style=\"text-align: right;\"> 0.1   </td><td style=\"text-align: right;\">     0.1 </td><td style=\"text-align: right;\">      </td><td style=\"text-align: right;\">                </td><td style=\"text-align: right;\">       </td></tr>\n",
       "<tr><td>objective_6718c_00005</td><td>PENDING   </td><td>                    </td><td style=\"text-align: right;\"> 1     </td><td style=\"text-align: right;\">     0.1 </td><td style=\"text-align: right;\">      </td><td style=\"text-align: right;\">                </td><td style=\"text-align: right;\">       </td></tr>\n",
       "<tr><td>objective_6718c_00000</td><td>TERMINATED</td><td>192.168.1.14:3424789</td><td style=\"text-align: right;\"> 0.0001</td><td style=\"text-align: right;\">     0.01</td><td style=\"text-align: right;\">     1</td><td style=\"text-align: right;\">        97.6597 </td><td style=\"text-align: right;\">  0.852</td></tr>\n",
       "<tr><td>objective_6718c_00001</td><td>TERMINATED</td><td>192.168.1.14:3424992</td><td style=\"text-align: right;\"> 0.1   </td><td style=\"text-align: right;\">     0.01</td><td style=\"text-align: right;\">     1</td><td style=\"text-align: right;\">         9.82223</td><td style=\"text-align: right;\">  0.872</td></tr>\n",
       "<tr><td>objective_6718c_00002</td><td>TERMINATED</td><td>192.168.1.14:3425027</td><td style=\"text-align: right;\"> 1     </td><td style=\"text-align: right;\">     0.01</td><td style=\"text-align: right;\">     1</td><td style=\"text-align: right;\">         6.51647</td><td style=\"text-align: right;\">  0.873</td></tr>\n",
       "<tr><td>objective_6718c_00003</td><td>TERMINATED</td><td>192.168.1.14:3425063</td><td style=\"text-align: right;\"> 0.0001</td><td style=\"text-align: right;\">     0.1 </td><td style=\"text-align: right;\">     1</td><td style=\"text-align: right;\">       140.468  </td><td style=\"text-align: right;\">  0.852</td></tr>\n",
       "</tbody>\n",
       "</table><br><br>"
      ],
      "text/plain": [
       "<IPython.core.display.HTML object>"
      ]
     },
     "metadata": {},
     "output_type": "display_data"
    },
    {
     "data": {
      "text/html": [
       "== Status ==<br>Current time: 2022-05-14 14:46:21 (running for 00:05:19.77)<br>Memory usage on this node: 10.0/15.5 GiB<br>Using FIFO scheduling algorithm.<br>Resources requested: 1.0/12 CPUs, 1.0/1 GPUs, 0.0/5.31 GiB heap, 0.0/2.66 GiB objects (0.0/1.0 accelerator_type:G)<br>Result logdir: /home/michael/ray_results/objective_2022-05-14_14-41-01<br>Number of trials: 6/6 (1 PENDING, 1 RUNNING, 4 TERMINATED)<br><table>\n",
       "<thead>\n",
       "<tr><th>Trial name           </th><th>status    </th><th>loc                 </th><th style=\"text-align: right;\">  alpha</th><th style=\"text-align: right;\">  epsilon</th><th style=\"text-align: right;\">  iter</th><th style=\"text-align: right;\">  total time (s)</th><th style=\"text-align: right;\">  score</th></tr>\n",
       "</thead>\n",
       "<tbody>\n",
       "<tr><td>objective_6718c_00004</td><td>RUNNING   </td><td>192.168.1.14:3425338</td><td style=\"text-align: right;\"> 0.1   </td><td style=\"text-align: right;\">     0.1 </td><td style=\"text-align: right;\">      </td><td style=\"text-align: right;\">                </td><td style=\"text-align: right;\">       </td></tr>\n",
       "<tr><td>objective_6718c_00005</td><td>PENDING   </td><td>                    </td><td style=\"text-align: right;\"> 1     </td><td style=\"text-align: right;\">     0.1 </td><td style=\"text-align: right;\">      </td><td style=\"text-align: right;\">                </td><td style=\"text-align: right;\">       </td></tr>\n",
       "<tr><td>objective_6718c_00000</td><td>TERMINATED</td><td>192.168.1.14:3424789</td><td style=\"text-align: right;\"> 0.0001</td><td style=\"text-align: right;\">     0.01</td><td style=\"text-align: right;\">     1</td><td style=\"text-align: right;\">        97.6597 </td><td style=\"text-align: right;\">  0.852</td></tr>\n",
       "<tr><td>objective_6718c_00001</td><td>TERMINATED</td><td>192.168.1.14:3424992</td><td style=\"text-align: right;\"> 0.1   </td><td style=\"text-align: right;\">     0.01</td><td style=\"text-align: right;\">     1</td><td style=\"text-align: right;\">         9.82223</td><td style=\"text-align: right;\">  0.872</td></tr>\n",
       "<tr><td>objective_6718c_00002</td><td>TERMINATED</td><td>192.168.1.14:3425027</td><td style=\"text-align: right;\"> 1     </td><td style=\"text-align: right;\">     0.01</td><td style=\"text-align: right;\">     1</td><td style=\"text-align: right;\">         6.51647</td><td style=\"text-align: right;\">  0.873</td></tr>\n",
       "<tr><td>objective_6718c_00003</td><td>TERMINATED</td><td>192.168.1.14:3425063</td><td style=\"text-align: right;\"> 0.0001</td><td style=\"text-align: right;\">     0.1 </td><td style=\"text-align: right;\">     1</td><td style=\"text-align: right;\">       140.468  </td><td style=\"text-align: right;\">  0.852</td></tr>\n",
       "</tbody>\n",
       "</table><br><br>"
      ],
      "text/plain": [
       "<IPython.core.display.HTML object>"
      ]
     },
     "metadata": {},
     "output_type": "display_data"
    },
    {
     "name": "stdout",
     "output_type": "stream",
     "text": [
      "Result for objective_6718c_00004:\n",
      "  date: 2022-05-14_14-46-25\n",
      "  done: false\n",
      "  experiment_id: dd3612b0095540e8983dc378de4e8bd0\n",
      "  hostname: 4eyes\n",
      "  iterations_since_restore: 1\n",
      "  node_ip: 192.168.1.14\n",
      "  pid: 3425338\n",
      "  score: 0.882\n",
      "  time_since_restore: 9.5211763381958\n",
      "  time_this_iter_s: 9.5211763381958\n",
      "  time_total_s: 9.5211763381958\n",
      "  timestamp: 1652553985\n",
      "  timesteps_since_restore: 0\n",
      "  training_iteration: 1\n",
      "  trial_id: 6718c_00004\n",
      "  warmup_time: 0.008629322052001953\n",
      "  \n",
      "Result for objective_6718c_00004:\n",
      "  date: 2022-05-14_14-46-25\n",
      "  done: true\n",
      "  experiment_id: dd3612b0095540e8983dc378de4e8bd0\n",
      "  experiment_tag: 4_alpha=0.1,epsilon=0.1\n",
      "  hostname: 4eyes\n",
      "  iterations_since_restore: 1\n",
      "  node_ip: 192.168.1.14\n",
      "  pid: 3425338\n",
      "  score: 0.882\n",
      "  time_since_restore: 9.5211763381958\n",
      "  time_this_iter_s: 9.5211763381958\n",
      "  time_total_s: 9.5211763381958\n",
      "  timestamp: 1652553985\n",
      "  timesteps_since_restore: 0\n",
      "  training_iteration: 1\n",
      "  trial_id: 6718c_00004\n",
      "  warmup_time: 0.008629322052001953\n",
      "  \n"
     ]
    },
    {
     "name": "stderr",
     "output_type": "stream",
     "text": [
      "2022-05-14 14:46:26,218\tINFO trial_runner.py:803 -- starting objective_6718c_00005\n",
      "2022-05-14 14:46:28,562\tWARNING util.py:171 -- The `start_trial` operation took 2.342 s, which may be a performance bottleneck.\n"
     ]
    },
    {
     "data": {
      "text/html": [
       "== Status ==<br>Current time: 2022-05-14 14:46:36 (running for 00:05:34.80)<br>Memory usage on this node: 10.0/15.5 GiB<br>Using FIFO scheduling algorithm.<br>Resources requested: 1.0/12 CPUs, 1.0/1 GPUs, 0.0/5.31 GiB heap, 0.0/2.66 GiB objects (0.0/1.0 accelerator_type:G)<br>Result logdir: /home/michael/ray_results/objective_2022-05-14_14-41-01<br>Number of trials: 6/6 (1 RUNNING, 5 TERMINATED)<br><table>\n",
       "<thead>\n",
       "<tr><th>Trial name           </th><th>status    </th><th>loc                 </th><th style=\"text-align: right;\">  alpha</th><th style=\"text-align: right;\">  epsilon</th><th style=\"text-align: right;\">  iter</th><th style=\"text-align: right;\">  total time (s)</th><th style=\"text-align: right;\">  score</th></tr>\n",
       "</thead>\n",
       "<tbody>\n",
       "<tr><td>objective_6718c_00005</td><td>RUNNING   </td><td>192.168.1.14:3425376</td><td style=\"text-align: right;\"> 1     </td><td style=\"text-align: right;\">     0.1 </td><td style=\"text-align: right;\">      </td><td style=\"text-align: right;\">                </td><td style=\"text-align: right;\">       </td></tr>\n",
       "<tr><td>objective_6718c_00000</td><td>TERMINATED</td><td>192.168.1.14:3424789</td><td style=\"text-align: right;\"> 0.0001</td><td style=\"text-align: right;\">     0.01</td><td style=\"text-align: right;\">     1</td><td style=\"text-align: right;\">        97.6597 </td><td style=\"text-align: right;\">  0.852</td></tr>\n",
       "<tr><td>objective_6718c_00001</td><td>TERMINATED</td><td>192.168.1.14:3424992</td><td style=\"text-align: right;\"> 0.1   </td><td style=\"text-align: right;\">     0.01</td><td style=\"text-align: right;\">     1</td><td style=\"text-align: right;\">         9.82223</td><td style=\"text-align: right;\">  0.872</td></tr>\n",
       "<tr><td>objective_6718c_00002</td><td>TERMINATED</td><td>192.168.1.14:3425027</td><td style=\"text-align: right;\"> 1     </td><td style=\"text-align: right;\">     0.01</td><td style=\"text-align: right;\">     1</td><td style=\"text-align: right;\">         6.51647</td><td style=\"text-align: right;\">  0.873</td></tr>\n",
       "<tr><td>objective_6718c_00003</td><td>TERMINATED</td><td>192.168.1.14:3425063</td><td style=\"text-align: right;\"> 0.0001</td><td style=\"text-align: right;\">     0.1 </td><td style=\"text-align: right;\">     1</td><td style=\"text-align: right;\">       140.468  </td><td style=\"text-align: right;\">  0.852</td></tr>\n",
       "<tr><td>objective_6718c_00004</td><td>TERMINATED</td><td>192.168.1.14:3425338</td><td style=\"text-align: right;\"> 0.1   </td><td style=\"text-align: right;\">     0.1 </td><td style=\"text-align: right;\">     1</td><td style=\"text-align: right;\">         9.52118</td><td style=\"text-align: right;\">  0.882</td></tr>\n",
       "</tbody>\n",
       "</table><br><br>"
      ],
      "text/plain": [
       "<IPython.core.display.HTML object>"
      ]
     },
     "metadata": {},
     "output_type": "display_data"
    },
    {
     "data": {
      "text/html": [
       "== Status ==<br>Current time: 2022-05-14 14:46:41 (running for 00:05:39.84)<br>Memory usage on this node: 10.0/15.5 GiB<br>Using FIFO scheduling algorithm.<br>Resources requested: 1.0/12 CPUs, 1.0/1 GPUs, 0.0/5.31 GiB heap, 0.0/2.66 GiB objects (0.0/1.0 accelerator_type:G)<br>Result logdir: /home/michael/ray_results/objective_2022-05-14_14-41-01<br>Number of trials: 6/6 (1 RUNNING, 5 TERMINATED)<br><table>\n",
       "<thead>\n",
       "<tr><th>Trial name           </th><th>status    </th><th>loc                 </th><th style=\"text-align: right;\">  alpha</th><th style=\"text-align: right;\">  epsilon</th><th style=\"text-align: right;\">  iter</th><th style=\"text-align: right;\">  total time (s)</th><th style=\"text-align: right;\">  score</th></tr>\n",
       "</thead>\n",
       "<tbody>\n",
       "<tr><td>objective_6718c_00005</td><td>RUNNING   </td><td>192.168.1.14:3425376</td><td style=\"text-align: right;\"> 1     </td><td style=\"text-align: right;\">     0.1 </td><td style=\"text-align: right;\">      </td><td style=\"text-align: right;\">                </td><td style=\"text-align: right;\">       </td></tr>\n",
       "<tr><td>objective_6718c_00000</td><td>TERMINATED</td><td>192.168.1.14:3424789</td><td style=\"text-align: right;\"> 0.0001</td><td style=\"text-align: right;\">     0.01</td><td style=\"text-align: right;\">     1</td><td style=\"text-align: right;\">        97.6597 </td><td style=\"text-align: right;\">  0.852</td></tr>\n",
       "<tr><td>objective_6718c_00001</td><td>TERMINATED</td><td>192.168.1.14:3424992</td><td style=\"text-align: right;\"> 0.1   </td><td style=\"text-align: right;\">     0.01</td><td style=\"text-align: right;\">     1</td><td style=\"text-align: right;\">         9.82223</td><td style=\"text-align: right;\">  0.872</td></tr>\n",
       "<tr><td>objective_6718c_00002</td><td>TERMINATED</td><td>192.168.1.14:3425027</td><td style=\"text-align: right;\"> 1     </td><td style=\"text-align: right;\">     0.01</td><td style=\"text-align: right;\">     1</td><td style=\"text-align: right;\">         6.51647</td><td style=\"text-align: right;\">  0.873</td></tr>\n",
       "<tr><td>objective_6718c_00003</td><td>TERMINATED</td><td>192.168.1.14:3425063</td><td style=\"text-align: right;\"> 0.0001</td><td style=\"text-align: right;\">     0.1 </td><td style=\"text-align: right;\">     1</td><td style=\"text-align: right;\">       140.468  </td><td style=\"text-align: right;\">  0.852</td></tr>\n",
       "<tr><td>objective_6718c_00004</td><td>TERMINATED</td><td>192.168.1.14:3425338</td><td style=\"text-align: right;\"> 0.1   </td><td style=\"text-align: right;\">     0.1 </td><td style=\"text-align: right;\">     1</td><td style=\"text-align: right;\">         9.52118</td><td style=\"text-align: right;\">  0.882</td></tr>\n",
       "</tbody>\n",
       "</table><br><br>"
      ],
      "text/plain": [
       "<IPython.core.display.HTML object>"
      ]
     },
     "metadata": {},
     "output_type": "display_data"
    },
    {
     "name": "stdout",
     "output_type": "stream",
     "text": [
      "Result for objective_6718c_00005:\n",
      "  date: 2022-05-14_14-46-42\n",
      "  done: false\n",
      "  experiment_id: d53cdb00901d4e748a66e521e23ff46e\n",
      "  hostname: 4eyes\n",
      "  iterations_since_restore: 1\n",
      "  node_ip: 192.168.1.14\n",
      "  pid: 3425376\n",
      "  score: 0.878\n",
      "  time_since_restore: 6.345096588134766\n",
      "  time_this_iter_s: 6.345096588134766\n",
      "  time_total_s: 6.345096588134766\n",
      "  timestamp: 1652554002\n",
      "  timesteps_since_restore: 0\n",
      "  training_iteration: 1\n",
      "  trial_id: 6718c_00005\n",
      "  warmup_time: 0.008330821990966797\n",
      "  \n",
      "Result for objective_6718c_00005:\n",
      "  date: 2022-05-14_14-46-42\n",
      "  done: true\n",
      "  experiment_id: d53cdb00901d4e748a66e521e23ff46e\n",
      "  experiment_tag: 5_alpha=1,epsilon=0.1\n",
      "  hostname: 4eyes\n",
      "  iterations_since_restore: 1\n",
      "  node_ip: 192.168.1.14\n",
      "  pid: 3425376\n",
      "  score: 0.878\n",
      "  time_since_restore: 6.345096588134766\n",
      "  time_this_iter_s: 6.345096588134766\n",
      "  time_total_s: 6.345096588134766\n",
      "  timestamp: 1652554002\n",
      "  timesteps_since_restore: 0\n",
      "  training_iteration: 1\n",
      "  trial_id: 6718c_00005\n",
      "  warmup_time: 0.008330821990966797\n",
      "  \n"
     ]
    },
    {
     "data": {
      "text/html": [
       "== Status ==<br>Current time: 2022-05-14 14:46:42 (running for 00:05:41.20)<br>Memory usage on this node: 10.0/15.5 GiB<br>Using FIFO scheduling algorithm.<br>Resources requested: 0/12 CPUs, 0/1 GPUs, 0.0/5.31 GiB heap, 0.0/2.66 GiB objects (0.0/1.0 accelerator_type:G)<br>Result logdir: /home/michael/ray_results/objective_2022-05-14_14-41-01<br>Number of trials: 6/6 (6 TERMINATED)<br><table>\n",
       "<thead>\n",
       "<tr><th>Trial name           </th><th>status    </th><th>loc                 </th><th style=\"text-align: right;\">  alpha</th><th style=\"text-align: right;\">  epsilon</th><th style=\"text-align: right;\">  iter</th><th style=\"text-align: right;\">  total time (s)</th><th style=\"text-align: right;\">  score</th></tr>\n",
       "</thead>\n",
       "<tbody>\n",
       "<tr><td>objective_6718c_00000</td><td>TERMINATED</td><td>192.168.1.14:3424789</td><td style=\"text-align: right;\"> 0.0001</td><td style=\"text-align: right;\">     0.01</td><td style=\"text-align: right;\">     1</td><td style=\"text-align: right;\">        97.6597 </td><td style=\"text-align: right;\">  0.852</td></tr>\n",
       "<tr><td>objective_6718c_00001</td><td>TERMINATED</td><td>192.168.1.14:3424992</td><td style=\"text-align: right;\"> 0.1   </td><td style=\"text-align: right;\">     0.01</td><td style=\"text-align: right;\">     1</td><td style=\"text-align: right;\">         9.82223</td><td style=\"text-align: right;\">  0.872</td></tr>\n",
       "<tr><td>objective_6718c_00002</td><td>TERMINATED</td><td>192.168.1.14:3425027</td><td style=\"text-align: right;\"> 1     </td><td style=\"text-align: right;\">     0.01</td><td style=\"text-align: right;\">     1</td><td style=\"text-align: right;\">         6.51647</td><td style=\"text-align: right;\">  0.873</td></tr>\n",
       "<tr><td>objective_6718c_00003</td><td>TERMINATED</td><td>192.168.1.14:3425063</td><td style=\"text-align: right;\"> 0.0001</td><td style=\"text-align: right;\">     0.1 </td><td style=\"text-align: right;\">     1</td><td style=\"text-align: right;\">       140.468  </td><td style=\"text-align: right;\">  0.852</td></tr>\n",
       "<tr><td>objective_6718c_00004</td><td>TERMINATED</td><td>192.168.1.14:3425338</td><td style=\"text-align: right;\"> 0.1   </td><td style=\"text-align: right;\">     0.1 </td><td style=\"text-align: right;\">     1</td><td style=\"text-align: right;\">         9.52118</td><td style=\"text-align: right;\">  0.882</td></tr>\n",
       "<tr><td>objective_6718c_00005</td><td>TERMINATED</td><td>192.168.1.14:3425376</td><td style=\"text-align: right;\"> 1     </td><td style=\"text-align: right;\">     0.1 </td><td style=\"text-align: right;\">     1</td><td style=\"text-align: right;\">         6.3451 </td><td style=\"text-align: right;\">  0.878</td></tr>\n",
       "</tbody>\n",
       "</table><br><br>"
      ],
      "text/plain": [
       "<IPython.core.display.HTML object>"
      ]
     },
     "metadata": {},
     "output_type": "display_data"
    },
    {
     "name": "stderr",
     "output_type": "stream",
     "text": [
      "2022-05-14 14:46:42,706\tINFO tune.py:701 -- Total run time: 343.31 seconds (341.18 seconds for the tuning loop).\n"
     ]
    },
    {
     "name": "stdout",
     "output_type": "stream",
     "text": [
      "{'alpha': 0.1, 'epsilon': 0.1}\n"
     ]
    }
   ],
   "source": [
    "analysis = tune.run(objective, config=search_space,resources_per_trial={'gpu': 1})\n",
    "print(analysis.get_best_config(metric=\"score\", mode=\"max\"))"
   ]
  },
  {
   "cell_type": "code",
   "execution_count": 14,
   "metadata": {},
   "outputs": [
    {
     "name": "stdout",
     "output_type": "stream",
     "text": [
      "Sklearn Fit Time: 136.21137166023254\n"
     ]
    },
    {
     "ename": "",
     "evalue": "",
     "output_type": "error",
     "traceback": [
      "\u001b[1;31mThe Kernel crashed while executing code in the the current cell or a previous cell. Please review the code in the cell(s) to identify a possible cause of the failure. Click <a href='https://aka.ms/vscodeJupyterKernelCrash'>here</a> for more info. View Jupyter <a href='command:jupyter.viewOutput'>log</a> for further details."
     ]
    }
   ],
   "source": [
    "# Example parameters to tune from SGDClassifier\n",
    "parameter_grid = {\"alpha\": [1e-4, 1e-1, 1], \"epsilon\": [0.01, 0.1]}\n",
    "\n",
    "# n_jobs=-1 enables use of all cores like Tune does\n",
    "sklearn_search = GridSearchCV(SGDClassifier(), parameter_grid, n_jobs=-1)\n",
    "\n",
    "start = time.time()\n",
    "sklearn_search.fit(x_train, y_train)\n",
    "end = time.time()\n",
    "print(\"Sklearn Fit Time:\", end - start)"
   ]
  },
  {
   "cell_type": "markdown",
   "metadata": {},
   "source": [
    "#### Note: This is actually using a different method of using ray tune "
   ]
  },
  {
   "cell_type": "code",
   "execution_count": null,
   "metadata": {},
   "outputs": [
    {
     "name": "stderr",
     "output_type": "stream",
     "text": [
      "2022-05-14 08:02:40,152\tINFO trial_runner.py:803 -- starting _Trainable_c0c48_00000\n",
      "2022-05-14 08:02:40,207\tINFO trial_runner.py:803 -- starting _Trainable_c0c48_00001\n",
      "2022-05-14 08:02:40,222\tINFO trial_runner.py:803 -- starting _Trainable_c0c48_00002\n",
      "2022-05-14 08:02:40,236\tINFO trial_runner.py:803 -- starting _Trainable_c0c48_00003\n",
      "2022-05-14 08:02:40,252\tINFO trial_runner.py:803 -- starting _Trainable_c0c48_00004\n",
      "2022-05-14 08:02:40,269\tINFO trial_runner.py:803 -- starting _Trainable_c0c48_00005\n"
     ]
    },
    {
     "name": "stdout",
     "output_type": "stream",
     "text": [
      "Tune GridSearch Fit Time: 24.87522006034851\n"
     ]
    }
   ],
   "source": [
    "tune_search = TuneGridSearchCV(\n",
    "    SGDClassifier(), parameter_grid, early_stopping=True, max_iters=10\n",
    ")\n",
    "\n",
    "start = time.time()\n",
    "tune_search.fit(x_train, y_train)\n",
    "end = time.time()\n",
    "print(\"Tune GridSearch Fit Time:\", end - start)\n",
    "# Tune GridSearch Fit Time: 15.436315774917603 (for an 8 core laptop)"
   ]
  },
  {
   "cell_type": "code",
   "execution_count": null,
   "metadata": {},
   "outputs": [
    {
     "name": "stdout",
     "output_type": "stream",
     "text": [
      "Sklearn Fit Time: 112.77760314941406\n"
     ]
    }
   ],
   "source": [
    "# n_jobs=-1 enables use of all cores like Tune does\n",
    "sklearn_search = GridSearchCV(SGDClassifier(), parameter_grid, n_jobs=-1)\n",
    "\n",
    "start = time.time()\n",
    "sklearn_search.fit(x_train, y_train)\n",
    "end = time.time()\n",
    "print(\"Sklearn Fit Time:\", end - start)\n"
   ]
  },
  {
   "cell_type": "code",
   "execution_count": null,
   "metadata": {},
   "outputs": [],
   "source": []
  }
 ],
 "metadata": {
  "interpreter": {
   "hash": "9f84c71cbcdb3670a55eff3fb12688f55a79d99bd48edb8ff31a3b211dbcd488"
  },
  "kernelspec": {
   "display_name": "Python 3.8.13 ('ray')",
   "language": "python",
   "name": "python3"
  },
  "language_info": {
   "codemirror_mode": {
    "name": "ipython",
    "version": 3
   },
   "file_extension": ".py",
   "mimetype": "text/x-python",
   "name": "python",
   "nbconvert_exporter": "python",
   "pygments_lexer": "ipython3",
   "version": "3.8.13"
  },
  "orig_nbformat": 4
 },
 "nbformat": 4,
 "nbformat_minor": 2
}
