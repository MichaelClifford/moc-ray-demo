{
 "cells": [
  {
   "cell_type": "code",
   "execution_count": null,
   "metadata": {
    "ExecuteTime": {
     "end_time": "2020-10-02T23:21:57.014168Z",
     "start_time": "2020-10-02T23:21:57.010808Z"
    }
   },
   "outputs": [],
   "source": [
    "import os\n",
    "os.environ['RAY_CLUSTER']"
   ]
  },
  {
   "cell_type": "code",
   "execution_count": null,
   "metadata": {
    "ExecuteTime": {
     "end_time": "2020-10-02T23:22:16.575345Z",
     "start_time": "2020-10-02T23:22:00.048016Z"
    }
   },
   "outputs": [],
   "source": [
    "%pip install ray"
   ]
  },
  {
   "cell_type": "code",
   "execution_count": null,
   "metadata": {
    "ExecuteTime": {
     "end_time": "2020-10-02T23:22:21.781727Z",
     "start_time": "2020-10-02T23:22:21.565090Z"
    }
   },
   "outputs": [],
   "source": [
    "from collections import Counter\n",
    "import platform\n",
    "import time\n",
    "import ray"
   ]
  },
  {
   "cell_type": "code",
   "execution_count": 1,
   "metadata": {
    "ExecuteTime": {
     "end_time": "2020-10-02T23:28:40.205868Z",
     "start_time": "2020-10-02T23:28:40.015862Z"
    }
   },
   "outputs": [],
   "source": [
    "ray.init(address=\"ray-head-user1:6379\")"
   ]
  },
  {
   "cell_type": "code",
   "execution_count": null,
   "metadata": {
    "ExecuteTime": {
     "end_time": "2020-10-02T23:27:50.491502Z",
     "start_time": "2020-10-02T23:27:50.488401Z"
    }
   },
   "outputs": [],
   "source": [
    "@ray.remote\n",
    "def f(x):\n",
    "    time.sleep(0.01)\n",
    "    return x + (platform.node(), )"
   ]
  },
  {
   "cell_type": "code",
   "execution_count": null,
   "metadata": {},
   "outputs": [],
   "source": [
    "%time Counter(ray.get([f.remote(f.remote(())) for _ in range(100)]))"
   ]
  }
 ],
 "metadata": {
  "kernelspec": {
   "display_name": "Python 3",
   "language": "python",
   "name": "python3"
  },
  "language_info": {
   "codemirror_mode": {
    "name": "ipython",
    "version": 3
   },
   "file_extension": ".py",
   "mimetype": "text/x-python",
   "name": "python",
   "nbconvert_exporter": "python",
   "pygments_lexer": "ipython3",
   "version": "3.6.8"
  },
  "toc": {
   "base_numbering": 1,
   "nav_menu": {},
   "number_sections": true,
   "sideBar": true,
   "skip_h1_title": false,
   "title_cell": "Table of Contents",
   "title_sidebar": "Contents",
   "toc_cell": false,
   "toc_position": {},
   "toc_section_display": true,
   "toc_window_display": false
  }
 },
 "nbformat": 4,
 "nbformat_minor": 4
}
