{
 "cells": [
  {
   "cell_type": "code",
   "execution_count": null,
   "metadata": {
    "ExecuteTime": {
     "end_time": "2021-02-26T00:06:27.148070Z",
     "start_time": "2021-02-26T00:06:27.051941Z"
    }
   },
   "outputs": [],
   "source": [
    "import os\n",
    "import ray\n",
    "import ray.util\n",
    "from collections import Counter\n",
    "import platform\n",
    "import time"
   ]
  },
  {
   "cell_type": "code",
   "execution_count": null,
   "metadata": {
    "ExecuteTime": {
     "end_time": "2021-02-26T00:06:30.503835Z",
     "start_time": "2021-02-26T00:06:30.167967Z"
    }
   },
   "outputs": [],
   "source": [
    "from ray.util.client import ray as rayclient\n",
    "if rayclient.is_connected():\n",
    "    ray.util.disconnect()\n",
    "\n",
    "ray.util.connect('{ray_head}:10001'.format(ray_head=os.environ['RAY_CLUSTER']))"
   ]
  },
  {
   "cell_type": "code",
   "execution_count": null,
   "metadata": {
    "ExecuteTime": {
     "end_time": "2021-02-26T00:06:32.446524Z",
     "start_time": "2021-02-26T00:06:32.442841Z"
    }
   },
   "outputs": [],
   "source": [
    "@ray.remote\n",
    "def f(x):\n",
    "    t = sum(list(range(100000)))\n",
    "    return x + (platform.node(), )"
   ]
  },
  {
   "cell_type": "code",
   "execution_count": null,
   "metadata": {
    "ExecuteTime": {
     "end_time": "2021-02-26T00:06:41.780011Z",
     "start_time": "2021-02-26T00:06:33.169921Z"
    }
   },
   "outputs": [],
   "source": [
    "%time Counter(ray.get([f.remote(()) for _ in range(1000)]))"
   ]
  }
 ],
 "metadata": {
  "kernelspec": {
   "display_name": "Python 3",
   "language": "python",
   "name": "python3"
  },
  "language_info": {
   "codemirror_mode": {
    "name": "ipython",
    "version": 3
   },
   "file_extension": ".py",
   "mimetype": "text/x-python",
   "name": "python",
   "nbconvert_exporter": "python",
   "pygments_lexer": "ipython3",
   "version": "3.6.8"
  },
  "toc": {
   "base_numbering": 1,
   "nav_menu": {},
   "number_sections": true,
   "sideBar": true,
   "skip_h1_title": false,
   "title_cell": "Table of Contents",
   "title_sidebar": "Contents",
   "toc_cell": false,
   "toc_position": {},
   "toc_section_display": true,
   "toc_window_display": false
  }
 },
 "nbformat": 4,
 "nbformat_minor": 4
}
