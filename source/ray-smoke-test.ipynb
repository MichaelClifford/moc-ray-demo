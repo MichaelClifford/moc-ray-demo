{
 "cells": [
  {
   "cell_type": "code",
   "execution_count": null,
   "metadata": {
    "ExecuteTime": {
     "end_time": "2021-02-11T00:06:44.538502Z",
     "start_time": "2021-02-11T00:06:35.079990Z"
    }
   },
   "outputs": [],
   "source": [
    "# currently installing ray 2.0.0 nightly wheel\n",
    "%pip install -U https://s3-us-west-2.amazonaws.com/ray-wheels/latest/ray-2.0.0.dev0-cp36-cp36m-manylinux2014_x86_64.whl"
   ]
  },
  {
   "cell_type": "code",
   "execution_count": null,
   "metadata": {
    "ExecuteTime": {
     "end_time": "2021-02-11T00:06:46.292521Z",
     "start_time": "2021-02-11T00:06:44.540267Z"
    }
   },
   "outputs": [],
   "source": [
    "%pip install cloudpickle"
   ]
  },
  {
   "cell_type": "code",
   "execution_count": null,
   "metadata": {
    "ExecuteTime": {
     "end_time": "2021-02-11T00:06:46.382478Z",
     "start_time": "2021-02-11T00:06:46.294613Z"
    }
   },
   "outputs": [],
   "source": [
    "import os\n",
    "import ray\n",
    "import ray.util\n",
    "from collections import Counter\n",
    "import platform\n",
    "import time"
   ]
  },
  {
   "cell_type": "code",
   "execution_count": null,
   "metadata": {
    "ExecuteTime": {
     "end_time": "2021-02-11T00:06:46.636230Z",
     "start_time": "2021-02-11T00:06:46.383877Z"
    }
   },
   "outputs": [],
   "source": [
    "from ray.util.client import ray as rayclient\n",
    "if rayclient.is_connected():\n",
    "    ray.util.disconnect()\n",
    "\n",
    "#ray.util.connect('{ray_head}:50051'.format(ray_head=os.environ['RAY_CLUSTER']))\n",
    "ray.util.connect('{ray_head}:50051'.format(ray_head='10.131.0.31'))"
   ]
  },
  {
   "cell_type": "code",
   "execution_count": null,
   "metadata": {
    "ExecuteTime": {
     "end_time": "2021-02-11T00:07:09.348264Z",
     "start_time": "2021-02-11T00:07:09.345157Z"
    }
   },
   "outputs": [],
   "source": [
    "@ray.remote\n",
    "def f(x):\n",
    "    t = sum(list(range(100000)))\n",
    "    return x + (platform.node(), )"
   ]
  },
  {
   "cell_type": "code",
   "execution_count": null,
   "metadata": {
    "ExecuteTime": {
     "end_time": "2021-02-11T00:09:30.615375Z",
     "start_time": "2021-02-11T00:07:10.722312Z"
    }
   },
   "outputs": [],
   "source": [
    "%time Counter(ray.get([f.remote(()) for _ in range(50000)]))"
   ]
  }
 ],
 "metadata": {
  "kernelspec": {
   "display_name": "Python 3",
   "language": "python",
   "name": "python3"
  },
  "language_info": {
   "codemirror_mode": {
    "name": "ipython",
    "version": 3
   },
   "file_extension": ".py",
   "mimetype": "text/x-python",
   "name": "python",
   "nbconvert_exporter": "python",
   "pygments_lexer": "ipython3",
   "version": "3.6.8"
  },
  "toc": {
   "base_numbering": 1,
   "nav_menu": {},
   "number_sections": true,
   "sideBar": true,
   "skip_h1_title": false,
   "title_cell": "Table of Contents",
   "title_sidebar": "Contents",
   "toc_cell": false,
   "toc_position": {},
   "toc_section_display": true,
   "toc_window_display": false
  }
 },
 "nbformat": 4,
 "nbformat_minor": 4
}
