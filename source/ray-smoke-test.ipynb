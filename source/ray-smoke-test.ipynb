{
 "cells": [
  {
   "cell_type": "code",
   "execution_count": 2,
   "metadata": {
    "ExecuteTime": {
     "end_time": "2021-02-03T23:27:48.274248Z",
     "start_time": "2021-02-03T23:27:30.098335Z"
    }
   },
   "outputs": [
    {
     "name": "stdout",
     "output_type": "stream",
     "text": [
      "Collecting ray==2.0.0.dev0\n",
      "  Downloading https://s3-us-west-2.amazonaws.com/ray-wheels/latest/ray-2.0.0.dev0-cp36-cp36m-manylinux2014_x86_64.whl (48.8 MB)\n",
      "\u001b[K     |████████████████████████████████| 48.8 MB 4.1 MB/s eta 0:00:01\n",
      "\u001b[?25hRequirement already satisfied, skipping upgrade: aiohttp in /opt/app-root/lib/python3.6/site-packages (from ray==2.0.0.dev0) (3.6.2)\n",
      "Requirement already satisfied, skipping upgrade: requests in /opt/app-root/lib/python3.6/site-packages (from ray==2.0.0.dev0) (2.23.0)\n",
      "Collecting colorama\n",
      "  Downloading colorama-0.4.4-py2.py3-none-any.whl (16 kB)\n",
      "Requirement already satisfied, skipping upgrade: jsonschema in /opt/app-root/lib/python3.6/site-packages (from ray==2.0.0.dev0) (3.2.0)\n",
      "Collecting gpustat\n",
      "  Downloading gpustat-0.6.0.tar.gz (78 kB)\n",
      "\u001b[K     |████████████████████████████████| 78 kB 23.8 MB/s eta 0:00:01\n",
      "\u001b[?25hCollecting cloudpickle\n",
      "  Downloading cloudpickle-1.6.0-py3-none-any.whl (23 kB)\n",
      "Requirement already satisfied, skipping upgrade: pyyaml in /opt/app-root/lib/python3.6/site-packages (from ray==2.0.0.dev0) (3.13)\n",
      "Collecting colorful\n",
      "  Downloading colorful-0.5.4-py2.py3-none-any.whl (201 kB)\n",
      "\u001b[K     |████████████████████████████████| 201 kB 50.1 MB/s eta 0:00:01\n",
      "\u001b[?25hCollecting opencensus\n",
      "  Downloading opencensus-0.7.12-py2.py3-none-any.whl (127 kB)\n",
      "\u001b[K     |████████████████████████████████| 127 kB 86.1 MB/s eta 0:00:01\n",
      "\u001b[?25hRequirement already satisfied, skipping upgrade: filelock in /opt/app-root/lib/python3.6/site-packages (from ray==2.0.0.dev0) (3.0.12)\n",
      "Collecting msgpack<2.0.0,>=1.0.0\n",
      "  Downloading msgpack-1.0.2-cp36-cp36m-manylinux1_x86_64.whl (272 kB)\n",
      "\u001b[K     |████████████████████████████████| 272 kB 81.9 MB/s eta 0:00:01\n",
      "\u001b[?25hCollecting redis>=3.5.0\n",
      "  Downloading redis-3.5.3-py2.py3-none-any.whl (72 kB)\n",
      "\u001b[K     |████████████████████████████████| 72 kB 34.6 MB/s eta 0:00:01\n",
      "\u001b[?25hRequirement already satisfied, skipping upgrade: prometheus-client>=0.7.1 in /opt/app-root/lib/python3.6/site-packages (from ray==2.0.0.dev0) (0.7.1)\n",
      "Requirement already satisfied, skipping upgrade: click>=7.0 in /opt/app-root/lib/python3.6/site-packages (from ray==2.0.0.dev0) (7.1.2)\n",
      "Collecting py-spy>=0.2.0\n",
      "  Downloading py_spy-0.3.4-py2.py3-none-manylinux1_x86_64.whl (3.2 MB)\n",
      "\u001b[K     |████████████████████████████████| 3.2 MB 19.1 MB/s eta 0:00:01\n",
      "\u001b[?25hCollecting protobuf>=3.8.0\n",
      "  Downloading protobuf-3.14.0-cp36-cp36m-manylinux1_x86_64.whl (1.0 MB)\n",
      "\u001b[K     |████████████████████████████████| 1.0 MB 96.1 MB/s eta 0:00:01\n",
      "\u001b[?25hCollecting grpcio>=1.28.1\n",
      "  Downloading grpcio-1.35.0-cp36-cp36m-manylinux2014_x86_64.whl (4.1 MB)\n",
      "\u001b[K     |████████████████████████████████| 4.1 MB 93.9 MB/s eta 0:00:01\n",
      "\u001b[?25hCollecting aioredis\n",
      "  Downloading aioredis-1.3.1-py3-none-any.whl (65 kB)\n",
      "\u001b[K     |████████████████████████████████| 65 kB 76.8 MB/s eta 0:00:01\n",
      "\u001b[?25hCollecting numpy>=1.16\n",
      "  Downloading numpy-1.19.5-cp36-cp36m-manylinux2010_x86_64.whl (14.8 MB)\n",
      "\u001b[K     |████████████████████████████████| 14.8 MB 98.9 MB/s eta 0:00:01\n",
      "\u001b[?25hCollecting aiohttp-cors\n",
      "  Downloading aiohttp_cors-0.7.0-py3-none-any.whl (27 kB)\n",
      "Requirement already satisfied, skipping upgrade: idna-ssl>=1.0; python_version < \"3.7\" in /opt/app-root/lib/python3.6/site-packages (from aiohttp->ray==2.0.0.dev0) (1.1.0)\n",
      "Requirement already satisfied, skipping upgrade: typing-extensions>=3.6.5; python_version < \"3.7\" in /opt/app-root/lib/python3.6/site-packages (from aiohttp->ray==2.0.0.dev0) (3.7.4.2)\n",
      "Requirement already satisfied, skipping upgrade: yarl<2.0,>=1.0 in /opt/app-root/lib/python3.6/site-packages (from aiohttp->ray==2.0.0.dev0) (1.4.2)\n",
      "Requirement already satisfied, skipping upgrade: chardet<4.0,>=2.0 in /opt/app-root/lib/python3.6/site-packages (from aiohttp->ray==2.0.0.dev0) (3.0.4)\n",
      "Requirement already satisfied, skipping upgrade: async-timeout<4.0,>=3.0 in /opt/app-root/lib/python3.6/site-packages (from aiohttp->ray==2.0.0.dev0) (3.0.1)\n",
      "Requirement already satisfied, skipping upgrade: multidict<5.0,>=4.5 in /opt/app-root/lib/python3.6/site-packages (from aiohttp->ray==2.0.0.dev0) (4.7.5)\n",
      "Requirement already satisfied, skipping upgrade: attrs>=17.3.0 in /opt/app-root/lib/python3.6/site-packages (from aiohttp->ray==2.0.0.dev0) (19.3.0)\n",
      "Requirement already satisfied, skipping upgrade: certifi>=2017.4.17 in /opt/app-root/lib/python3.6/site-packages (from requests->ray==2.0.0.dev0) (2020.4.5.1)\n",
      "Requirement already satisfied, skipping upgrade: urllib3!=1.25.0,!=1.25.1,<1.26,>=1.21.1 in /opt/app-root/lib/python3.6/site-packages (from requests->ray==2.0.0.dev0) (1.25.9)\n",
      "Requirement already satisfied, skipping upgrade: idna<3,>=2.5 in /opt/app-root/lib/python3.6/site-packages (from requests->ray==2.0.0.dev0) (2.9)\n",
      "Requirement already satisfied, skipping upgrade: setuptools in /opt/app-root/lib/python3.6/site-packages (from jsonschema->ray==2.0.0.dev0) (49.2.0)\n",
      "Requirement already satisfied, skipping upgrade: pyrsistent>=0.14.0 in /opt/app-root/lib/python3.6/site-packages (from jsonschema->ray==2.0.0.dev0) (0.16.0)\n",
      "Requirement already satisfied, skipping upgrade: importlib-metadata; python_version < \"3.8\" in /opt/app-root/lib/python3.6/site-packages (from jsonschema->ray==2.0.0.dev0) (1.6.0)\n",
      "Requirement already satisfied, skipping upgrade: six>=1.11.0 in /opt/app-root/lib/python3.6/site-packages (from jsonschema->ray==2.0.0.dev0) (1.14.0)\n",
      "Collecting nvidia-ml-py3>=7.352.0\n",
      "  Downloading nvidia-ml-py3-7.352.0.tar.gz (19 kB)\n",
      "Collecting psutil\n",
      "  Downloading psutil-5.8.0-cp36-cp36m-manylinux2010_x86_64.whl (291 kB)\n",
      "\u001b[K     |████████████████████████████████| 291 kB 95.4 MB/s eta 0:00:01\n",
      "\u001b[?25hCollecting blessings>=1.6\n",
      "  Downloading blessings-1.7-py3-none-any.whl (18 kB)\n",
      "Collecting opencensus-context==0.1.2\n",
      "  Downloading opencensus_context-0.1.2-py2.py3-none-any.whl (4.4 kB)\n",
      "Collecting google-api-core<2.0.0,>=1.0.0\n",
      "  Downloading google_api_core-1.25.1-py2.py3-none-any.whl (92 kB)\n",
      "\u001b[K     |████████████████████████████████| 92 kB 17.6 MB/s eta 0:00:01\n",
      "\u001b[?25hCollecting hiredis\n",
      "  Downloading hiredis-1.1.0-cp36-cp36m-manylinux2010_x86_64.whl (61 kB)\n",
      "\u001b[K     |████████████████████████████████| 61 kB 81.9 MB/s eta 0:00:01\n",
      "\u001b[?25hRequirement already satisfied, skipping upgrade: zipp>=0.5 in /opt/app-root/lib/python3.6/site-packages (from importlib-metadata; python_version < \"3.8\"->jsonschema->ray==2.0.0.dev0) (3.1.0)\n",
      "Collecting contextvars; python_version >= \"3.6\" and python_version < \"3.7\"\n",
      "  Downloading contextvars-2.4.tar.gz (9.6 kB)\n",
      "Collecting googleapis-common-protos<2.0dev,>=1.6.0\n",
      "  Downloading googleapis_common_protos-1.52.0-py2.py3-none-any.whl (100 kB)\n",
      "\u001b[K     |████████████████████████████████| 100 kB 94.0 MB/s ta 0:00:01\n",
      "\u001b[?25hRequirement already satisfied, skipping upgrade: pytz in /opt/app-root/lib/python3.6/site-packages (from google-api-core<2.0.0,>=1.0.0->opencensus->ray==2.0.0.dev0) (2020.1)\n",
      "Collecting google-auth<2.0dev,>=1.21.1\n",
      "  Downloading google_auth-1.24.0-py2.py3-none-any.whl (114 kB)\n",
      "\u001b[K     |████████████████████████████████| 114 kB 92.8 MB/s eta 0:00:01\n",
      "\u001b[?25hCollecting immutables>=0.9\n",
      "  Downloading immutables-0.14-cp36-cp36m-manylinux1_x86_64.whl (98 kB)\n",
      "\u001b[K     |████████████████████████████████| 98 kB 92.2 MB/s eta 0:00:01\n",
      "\u001b[?25hRequirement already satisfied, skipping upgrade: pyasn1-modules>=0.2.1 in /opt/app-root/lib/python3.6/site-packages (from google-auth<2.0dev,>=1.21.1->google-api-core<2.0.0,>=1.0.0->opencensus->ray==2.0.0.dev0) (0.2.8)\n",
      "Requirement already satisfied, skipping upgrade: cachetools<5.0,>=2.0.0 in /opt/app-root/lib/python3.6/site-packages (from google-auth<2.0dev,>=1.21.1->google-api-core<2.0.0,>=1.0.0->opencensus->ray==2.0.0.dev0) (4.1.0)\n",
      "Requirement already satisfied, skipping upgrade: rsa<5,>=3.1.4; python_version >= \"3.6\" in /opt/app-root/lib/python3.6/site-packages (from google-auth<2.0dev,>=1.21.1->google-api-core<2.0.0,>=1.0.0->opencensus->ray==2.0.0.dev0) (4.0)\n",
      "Requirement already satisfied, skipping upgrade: pyasn1<0.5.0,>=0.4.6 in /opt/app-root/lib/python3.6/site-packages (from pyasn1-modules>=0.2.1->google-auth<2.0dev,>=1.21.1->google-api-core<2.0.0,>=1.0.0->opencensus->ray==2.0.0.dev0) (0.4.8)\n",
      "Building wheels for collected packages: gpustat, nvidia-ml-py3, contextvars\n",
      "  Building wheel for gpustat (setup.py) ... \u001b[?25ldone\n",
      "\u001b[?25h  Created wheel for gpustat: filename=gpustat-0.6.0-py3-none-any.whl size=12617 sha256=d7aacb45e04081e9ea113b43f5cd36891ec3a9e2ad775da1de44402ac6d5e0e9\n",
      "  Stored in directory: /tmp/pip-ephem-wheel-cache-1hjpowtx/wheels/50/da/35/fe2cfb3bc47822299f5e124a599d56f00b30ec0b328db16b9f\n",
      "  Building wheel for nvidia-ml-py3 (setup.py) ... \u001b[?25ldone\n",
      "\u001b[?25h  Created wheel for nvidia-ml-py3: filename=nvidia_ml_py3-7.352.0-py3-none-any.whl size=19189 sha256=5a8e34d97e143b9c54af26c58a2d720e43c7106adac54929d78c56a638102b34\n",
      "  Stored in directory: /tmp/pip-ephem-wheel-cache-1hjpowtx/wheels/7f/26/a3/33f2079871e2bebb3f53a2b21c3ec64129b8efdd18a6263a52\n",
      "  Building wheel for contextvars (setup.py) ... \u001b[?25ldone\n",
      "\u001b[?25h  Created wheel for contextvars: filename=contextvars-2.4-py3-none-any.whl size=7664 sha256=1916df17662a16a95ebad039bb790779a4db53c07d402f68dff6b76e93482778\n",
      "  Stored in directory: /tmp/pip-ephem-wheel-cache-1hjpowtx/wheels/41/11/53/911724983aa48deb94792432e14e518447212dd6c5477d49d3\n",
      "Successfully built gpustat nvidia-ml-py3 contextvars\n",
      "Installing collected packages: colorama, nvidia-ml-py3, psutil, blessings, gpustat, cloudpickle, colorful, immutables, contextvars, opencensus-context, protobuf, googleapis-common-protos, google-auth, google-api-core, opencensus, msgpack, redis, py-spy, grpcio, hiredis, aioredis, numpy, aiohttp-cors, ray\n",
      "  Attempting uninstall: google-auth\n",
      "    Found existing installation: google-auth 1.14.3\n",
      "    Uninstalling google-auth-1.14.3:\n",
      "      Successfully uninstalled google-auth-1.14.3\n",
      "Successfully installed aiohttp-cors-0.7.0 aioredis-1.3.1 blessings-1.7 cloudpickle-1.6.0 colorama-0.4.4 colorful-0.5.4 contextvars-2.4 google-api-core-1.25.1 google-auth-1.24.0 googleapis-common-protos-1.52.0 gpustat-0.6.0 grpcio-1.35.0 hiredis-1.1.0 immutables-0.14 msgpack-1.0.2 numpy-1.19.5 nvidia-ml-py3-7.352.0 opencensus-0.7.12 opencensus-context-0.1.2 protobuf-3.14.0 psutil-5.8.0 py-spy-0.3.4 ray-2.0.0.dev0 redis-3.5.3\n",
      "\u001b[33mWARNING: You are using pip version 20.1.1; however, version 21.0.1 is available.\n",
      "You should consider upgrading via the '/opt/app-root/bin/python3.6 -m pip install --upgrade pip' command.\u001b[0m\n",
      "Note: you may need to restart the kernel to use updated packages.\n"
     ]
    }
   ],
   "source": [
    "# currently installing ray 2.0.0 nightly wheel\n",
    "%pip install -U https://s3-us-west-2.amazonaws.com/ray-wheels/latest/ray-2.0.0.dev0-cp36-cp36m-manylinux2014_x86_64.whl"
   ]
  },
  {
   "cell_type": "code",
   "execution_count": 3,
   "metadata": {
    "ExecuteTime": {
     "end_time": "2021-02-03T23:27:50.116744Z",
     "start_time": "2021-02-03T23:27:48.276107Z"
    }
   },
   "outputs": [
    {
     "name": "stdout",
     "output_type": "stream",
     "text": [
      "Requirement already satisfied: cloudpickle in /opt/app-root/lib/python3.6/site-packages (1.6.0)\n",
      "\u001b[33mWARNING: You are using pip version 20.1.1; however, version 21.0.1 is available.\n",
      "You should consider upgrading via the '/opt/app-root/bin/python3.6 -m pip install --upgrade pip' command.\u001b[0m\n",
      "Note: you may need to restart the kernel to use updated packages.\n"
     ]
    }
   ],
   "source": [
    "%pip install cloudpickle"
   ]
  },
  {
   "cell_type": "code",
   "execution_count": 4,
   "metadata": {
    "ExecuteTime": {
     "end_time": "2021-02-03T23:27:52.714652Z",
     "start_time": "2021-02-03T23:27:52.564828Z"
    }
   },
   "outputs": [],
   "source": [
    "import os\n",
    "import ray\n",
    "import ray.util\n",
    "from collections import Counter\n",
    "import platform\n",
    "import time"
   ]
  },
  {
   "cell_type": "code",
   "execution_count": 5,
   "metadata": {
    "ExecuteTime": {
     "end_time": "2021-02-03T23:27:54.457584Z",
     "start_time": "2021-02-03T23:27:54.205035Z"
    }
   },
   "outputs": [
    {
     "data": {
      "text/plain": [
       "{'num_clients': 1,\n",
       " 'python_version': '3.6.12',\n",
       " 'ray_version': '2.0.0.dev0',\n",
       " 'ray_commit': 'a6138ca31f5e9b54d9ee30fda2fc34325a320760',\n",
       " 'protocol_version': '2020-02-01'}"
      ]
     },
     "execution_count": 5,
     "metadata": {},
     "output_type": "execute_result"
    }
   ],
   "source": [
    "ray.util.connect('{ray_head}:50051'.format(ray_head=os.environ['RAY_CLUSTER']))"
   ]
  },
  {
   "cell_type": "code",
   "execution_count": 6,
   "metadata": {
    "ExecuteTime": {
     "end_time": "2021-02-03T23:27:56.827668Z",
     "start_time": "2021-02-03T23:27:56.824658Z"
    }
   },
   "outputs": [],
   "source": [
    "@ray.remote\n",
    "def f(x):\n",
    "    time.sleep(0.01)\n",
    "    return x + (platform.node(), )"
   ]
  },
  {
   "cell_type": "code",
   "execution_count": 7,
   "metadata": {
    "ExecuteTime": {
     "end_time": "2021-02-03T23:28:04.159131Z",
     "start_time": "2021-02-03T23:27:59.968147Z"
    }
   },
   "outputs": [
    {
     "name": "stdout",
     "output_type": "stream",
     "text": [
      "CPU times: user 532 ms, sys: 203 ms, total: 735 ms\n",
      "Wall time: 4.19 s\n"
     ]
    },
    {
     "data": {
      "text/plain": [
       "Counter({('ray-head-opentlc-2dmgr-7869c5d64d-62vb4',): 290,\n",
       "         ('ray-worker-opentlc-2dmgr-595fd7f7c5-phkjp',): 271,\n",
       "         ('ray-worker-opentlc-2dmgr-595fd7f7c5-q6k9n',): 233,\n",
       "         ('ray-worker-opentlc-2dmgr-595fd7f7c5-pq2vk',): 206})"
      ]
     },
     "execution_count": 7,
     "metadata": {},
     "output_type": "execute_result"
    }
   ],
   "source": [
    "%time Counter(ray.get([f.remote(()) for _ in range(1000)]))"
   ]
  },
  {
   "cell_type": "code",
   "execution_count": null,
   "metadata": {},
   "outputs": [],
   "source": []
  }
 ],
 "metadata": {
  "kernelspec": {
   "display_name": "Python 3",
   "language": "python",
   "name": "python3"
  },
  "language_info": {
   "codemirror_mode": {
    "name": "ipython",
    "version": 3
   },
   "file_extension": ".py",
   "mimetype": "text/x-python",
   "name": "python",
   "nbconvert_exporter": "python",
   "pygments_lexer": "ipython3",
   "version": "3.6.8"
  },
  "toc": {
   "base_numbering": 1,
   "nav_menu": {},
   "number_sections": true,
   "sideBar": true,
   "skip_h1_title": false,
   "title_cell": "Table of Contents",
   "title_sidebar": "Contents",
   "toc_cell": false,
   "toc_position": {},
   "toc_section_display": true,
   "toc_window_display": false
  }
 },
 "nbformat": 4,
 "nbformat_minor": 4
}
