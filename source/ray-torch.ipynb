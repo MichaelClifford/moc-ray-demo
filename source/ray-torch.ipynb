{
 "cells": [
  {
   "cell_type": "markdown",
   "metadata": {},
   "source": [
    "# Ray with Pytorch Test Notebook\n",
    "\n",
    "The purpose of this notebook is to confirm that Ray Train with pytorch works in ODH.\n",
    "\n",
    "This notebook primarily consists of an implementation of the pytorch example from the Ray docs on [Ray Train](https://docs.ray.io/en/latest/train/train.html). \n",
    "\n",
    "However, it has been modified to test that the Ray Train features for pytorch work in an Open Data Hub environment. We have also increased the number of samples and epochs run so that the speed up from Ray's distribution can be seen clearly.   "
   ]
  },
  {
   "cell_type": "code",
   "execution_count": 1,
   "metadata": {},
   "outputs": [],
   "source": [
    "import os\n",
    "import random\n",
    "import numpy as np\n",
    "\n",
    "import torch\n",
    "import torch.nn as nn\n",
    "import torch.optim as optim\n",
    "\n",
    "from ray import train\n",
    "import ray.train.torch\n",
    "from ray.train import Trainer\n",
    "\n",
    "from ray.util import connect as ray_connect\n",
    "from ray.util import disconnect as ray_disconnect\n",
    "from ray.util.client import ray as rayclient\n"
   ]
  },
  {
   "cell_type": "markdown",
   "metadata": {},
   "source": [
    "## Setup\n",
    "We're going to connect to our Ray Cluster that was spun up for us as part of the [ray notebook image](https://github.com/thoth-station/ray-ml-notebook) we selected through the ODH spawner page. \n",
    "\n",
    "This cell should also run locally without a Ray cluster as it checks for the relevant environment variable \"RAY_CLUSTER\"  "
   ]
  },
  {
   "cell_type": "code",
   "execution_count": 2,
   "metadata": {},
   "outputs": [],
   "source": [
    "if os.environ.get('RAY_CLUSTER') is not None:\n",
    "    if rayclient.is_connected():\n",
    "        ray_disconnect()\n",
    "\n",
    "    ray_connect('{ray_head}:10001'.format(ray_head=os.environ['RAY_CLUSTER']))"
   ]
  },
  {
   "cell_type": "markdown",
   "metadata": {},
   "source": [
    "For this example we are interested in the speed of training, not the accuracy. So, let's make our lives easy and just generate some random dataset. We are going to construct a simple feed forward neural network with an feature size of 10 and an output size of 5. We will construct our dummy dataset accordingly. \n",
    "\n",
    "We also want to show the benefits of Ray so we will create a somewhat large dataset with 200,000 examples."
   ]
  },
  {
   "cell_type": "code",
   "execution_count": 15,
   "metadata": {},
   "outputs": [],
   "source": [
    "num_samples = 200000\n",
    "input_size = 10\n",
    "output_size = 5\n",
    "\n",
    "input = torch.randn(num_samples, input_size)\n",
    "labels = torch.randn(num_samples, output_size)"
   ]
  },
  {
   "cell_type": "markdown",
   "metadata": {},
   "source": [
    "Here we define our simple pytorch Neural Network with a simple forward pass function.  "
   ]
  },
  {
   "cell_type": "code",
   "execution_count": 4,
   "metadata": {},
   "outputs": [],
   "source": [
    "layer_size = 15\n",
    "\n",
    "class NeuralNetwork(nn.Module):\n",
    "    def __init__(self):\n",
    "        super(NeuralNetwork, self).__init__()\n",
    "        self.layer1 = nn.Linear(input_size, layer_size)\n",
    "        self.relu = nn.ReLU()\n",
    "        self.layer2 = nn.Linear(layer_size, output_size)\n",
    "\n",
    "    def forward(self, input):\n",
    "        y_pred = self.layer1(input)\n",
    "        y_pred = self.relu(y_pred)\n",
    "        y_pred = self.layer2(y_pred)\n",
    "        \n",
    "        return y_pred \n",
    "\n"
   ]
  },
  {
   "cell_type": "markdown",
   "metadata": {},
   "source": [
    "## Simple Train\n",
    "Now we will define our non-Ray training function for a baseline we will use for timing comparisons later on. "
   ]
  },
  {
   "cell_type": "code",
   "execution_count": 5,
   "metadata": {},
   "outputs": [],
   "source": [
    "def train_func():\n",
    "    num_epochs = 500\n",
    "    model = NeuralNetwork()\n",
    "    loss_fn = nn.MSELoss()\n",
    "    optimizer = optim.SGD(model.parameters(), lr=0.1)\n",
    "\n",
    "    for epoch in range(num_epochs):\n",
    "        output = model(input)\n",
    "        loss = loss_fn(output, labels)\n",
    "        optimizer.zero_grad()\n",
    "        loss.backward()\n",
    "        optimizer.step()\n",
    "        if epoch % 100 == 0:\n",
    "            print(f\"epoch: {epoch}, loss: {loss.item()}\")"
   ]
  },
  {
   "cell_type": "markdown",
   "metadata": {},
   "source": [
    "Great! Now let's run our training function and see how long it takes without using any of the Ray Train's distribution functionality. "
   ]
  },
  {
   "cell_type": "code",
   "execution_count": 16,
   "metadata": {},
   "outputs": [
    {
     "name": "stdout",
     "output_type": "stream",
     "text": [
      "epoch: 0, loss: 1.0608739852905273\n",
      "epoch: 100, loss: 1.008135437965393\n",
      "epoch: 200, loss: 1.0043003559112549\n",
      "epoch: 300, loss: 1.0030159950256348\n",
      "epoch: 400, loss: 1.0023831129074097\n",
      "CPU times: user 1min 21s, sys: 3.66 s, total: 1min 24s\n",
      "Wall time: 18.1 s\n"
     ]
    },
    {
     "ename": "",
     "evalue": "",
     "output_type": "error",
     "traceback": [
      "\u001b[1;31mThe Kernel crashed while executing code in the the current cell or a previous cell. Please review the code in the cell(s) to identify a possible cause of the failure. Click <a href='https://aka.ms/vscodeJupyterKernelCrash'>here</a> for more info. View Jupyter <a href='command:jupyter.viewOutput'>log</a> for further details."
     ]
    }
   ],
   "source": [
    "%%time\n",
    "train_func()"
   ]
  },
  {
   "cell_type": "markdown",
   "metadata": {},
   "source": [
    "## Ray Train\n",
    "Above we can see how long it took our non-distributed training function to iterate through all its epochs. \n",
    "\n",
    "Below we define our Ray Train distributed training function, which in this case requires only that we add the line: \n",
    "```\n",
    "model = train.torch.prepare_model(model)\n",
    "```\n",
    "\n",
    "_Note:_ The initial training function was written knowing it would later be distributed with Ray. We make no claim that converting existing pytorch code to Ray Train compatible pytorch is always as simple as adding a single line of code.   "
   ]
  },
  {
   "cell_type": "code",
   "execution_count": 7,
   "metadata": {},
   "outputs": [],
   "source": [
    "def train_func_distributed():\n",
    "    num_epochs = 500\n",
    "    model = NeuralNetwork()\n",
    "    model = train.torch.prepare_model(model)\n",
    "    loss_fn = nn.MSELoss()\n",
    "    optimizer = optim.SGD(model.parameters(), lr=0.1)\n",
    "\n",
    "    for epoch in range(num_epochs):\n",
    "        output = model(input)\n",
    "        loss = loss_fn(output, labels)\n",
    "        optimizer.zero_grad()\n",
    "        loss.backward()\n",
    "        optimizer.step()\n",
    "        if epoch % 100 == 0:\n",
    "            print(f\"epoch: {epoch}, loss: {loss.item()}\")\n",
    "    \n",
    "    return model"
   ]
  },
  {
   "cell_type": "markdown",
   "metadata": {},
   "source": [
    "Here we instantiate our Ray `Trainer` that we use to manage which backend we want (pytorch, tensorflow or horovod) and the number of workers we will want to use. Below we will use 4 workers if we are connected to a Ray cluster, otherwise we will just use 1. Here we can also define whether or not we want to use a gpu for training. "
   ]
  },
  {
   "cell_type": "code",
   "execution_count": 8,
   "metadata": {},
   "outputs": [
    {
     "name": "stderr",
     "output_type": "stream",
     "text": [
      "2022-05-26 11:18:51,006\tINFO trainer.py:223 -- Trainer logs will be logged in: /home/mcliffor/ray_results/train_2022-05-26_11-18-51\n"
     ]
    },
    {
     "name": "stdout",
     "output_type": "stream",
     "text": [
      "CPU times: user 151 ms, sys: 78.9 ms, total: 230 ms\n",
      "Wall time: 3.74 s\n"
     ]
    }
   ],
   "source": [
    "%%time\n",
    "if os.environ.get('RAY_CLUSTER') is not None:\n",
    "    num_workers = 4\n",
    "else:\n",
    "    num_workers = 1\n",
    "\n",
    "trainer = Trainer(backend=\"torch\", num_workers=num_workers, use_gpu=False)"
   ]
  },
  {
   "cell_type": "markdown",
   "metadata": {},
   "source": [
    "Alright! Let's run our training function and see how long it takes with Ray Train's distribution functionality. Please note, there is an overhead cost associated with starting the Trainer that seems to take around ~4 seconds. So let's time that separately from our actual training function. "
   ]
  },
  {
   "cell_type": "code",
   "execution_count": 9,
   "metadata": {},
   "outputs": [
    {
     "name": "stdout",
     "output_type": "stream",
     "text": [
      "CPU times: user 21.5 ms, sys: 8.64 ms, total: 30.1 ms\n",
      "Wall time: 3.45 s\n"
     ]
    },
    {
     "name": "stderr",
     "output_type": "stream",
     "text": [
      "\u001b[2m\u001b[36m(BaseWorkerMixin pid=666185)\u001b[0m 2022-05-26 11:18:54,587\tINFO torch.py:335 -- Setting up process group for: env:// [rank=0, world_size=1]\n",
      "\u001b[2m\u001b[36m(BaseWorkerMixin pid=666185)\u001b[0m [W socket.cpp:401] [c10d] The server socket cannot be initialized on [::]:58269 (errno: 97 - Address family not supported by protocol).\n",
      "\u001b[2m\u001b[36m(BaseWorkerMixin pid=666185)\u001b[0m [W socket.cpp:558] [c10d] The client socket cannot be initialized to connect to [::ffff:192.168.1.57]:58269 (errno: 97 - Address family not supported by protocol).\n",
      "\u001b[2m\u001b[36m(BaseWorkerMixin pid=666185)\u001b[0m [W socket.cpp:558] [c10d] The client socket cannot be initialized to connect to [::ffff:192.168.1.57]:58269 (errno: 97 - Address family not supported by protocol).\n"
     ]
    }
   ],
   "source": [
    "%%time\n",
    "trainer.start()"
   ]
  },
  {
   "cell_type": "code",
   "execution_count": 10,
   "metadata": {},
   "outputs": [
    {
     "name": "stderr",
     "output_type": "stream",
     "text": [
      "2022-05-26 11:18:54,657\tINFO trainer.py:229 -- Run results will be logged in: /home/mcliffor/ray_results/train_2022-05-26_11-18-51/run_001\n",
      "\u001b[2m\u001b[36m(BaseWorkerMixin pid=666185)\u001b[0m 2022-05-26 11:18:54,739\tINFO torch.py:92 -- Moving model to device: cpu\n"
     ]
    },
    {
     "name": "stdout",
     "output_type": "stream",
     "text": [
      "\u001b[2m\u001b[36m(BaseWorkerMixin pid=666185)\u001b[0m epoch: 0, loss: 1.0563119649887085\n",
      "\u001b[2m\u001b[36m(BaseWorkerMixin pid=666185)\u001b[0m epoch: 100, loss: 1.0061821937561035\n",
      "\u001b[2m\u001b[36m(BaseWorkerMixin pid=666185)\u001b[0m epoch: 200, loss: 1.0025410652160645\n",
      "\u001b[2m\u001b[36m(BaseWorkerMixin pid=666185)\u001b[0m epoch: 300, loss: 1.0011948347091675\n",
      "\u001b[2m\u001b[36m(BaseWorkerMixin pid=666185)\u001b[0m epoch: 400, loss: 1.0004525184631348\n",
      "CPU times: user 119 ms, sys: 27.8 ms, total: 146 ms\n",
      "Wall time: 17.9 s\n"
     ]
    }
   ],
   "source": [
    "%%time\n",
    "results = trainer.run(train_func_distributed)"
   ]
  },
  {
   "cell_type": "code",
   "execution_count": 11,
   "metadata": {},
   "outputs": [
    {
     "name": "stdout",
     "output_type": "stream",
     "text": [
      "CPU times: user 5.41 ms, sys: 5.84 ms, total: 11.3 ms\n",
      "Wall time: 952 ms\n"
     ]
    }
   ],
   "source": [
    "%%time\n",
    "trainer.shutdown()"
   ]
  },
  {
   "cell_type": "markdown",
   "metadata": {},
   "source": [
    "Times will vary depending on where you are running this notebook, the sample size you selected above, the number of epochs and the number of workers, but if everything worked correctly and you are using a distributed ray cluster, the Wall time for the 'train.run()` function above should be significantly less than that for the non-distributed training run. "
   ]
  },
  {
   "cell_type": "markdown",
   "metadata": {},
   "source": [
    "## Evaluate\n",
    "\n",
    "We've trained a model! Now we need to make sure we can use it for inference. Below we'll perform to quick examples of using the trained model. First, we'll generate a brand new data set the same way we did above, and use MSE to evaluate the model's performance. Second we will perform inference on a single new input and print out the result.  \n",
    "\n",
    "\n",
    "In both cases, since the data is random for this example we don't really care what the MSE or inference values are, we are simply illustrating that we can perform inference with our newly trained model. "
   ]
  },
  {
   "cell_type": "code",
   "execution_count": 12,
   "metadata": {},
   "outputs": [
    {
     "name": "stdout",
     "output_type": "stream",
     "text": [
      "MSE for predictions on new data: 1.0010573863983154\n"
     ]
    }
   ],
   "source": [
    "input = torch.randn(num_samples, input_size)\n",
    "labels = torch.randn(num_samples, output_size)\n",
    "\n",
    "model = results[0]\n",
    "model.eval()\n",
    "y_pred = model(input)\n",
    "\n",
    "MSE = nn.MSELoss()\n",
    "mse = MSE(labels,y_pred)\n",
    "print(f'MSE for predictions on new data: {mse.data.numpy()}')"
   ]
  },
  {
   "cell_type": "code",
   "execution_count": 13,
   "metadata": {},
   "outputs": [
    {
     "data": {
      "text/plain": [
       "array([[-0.06040192, -0.01437957, -0.07994152,  0.04162318, -0.00674879]],\n",
       "      dtype=float32)"
      ]
     },
     "execution_count": 13,
     "metadata": {},
     "output_type": "execute_result"
    }
   ],
   "source": [
    "input_sample = torch.randn(1, input_size)\n",
    "model(input_sample).data.numpy()"
   ]
  },
  {
   "cell_type": "markdown",
   "metadata": {},
   "source": [
    "If you are reading this cell and there are no errors above, then you have successfully run a Ray Train Pytorch notebook in a distributed environment with Open Data Hub!  Yeahh!! :) "
   ]
  }
 ],
 "metadata": {
  "interpreter": {
   "hash": "e34450d332bd313b8f818cb5ed04e25933b13de9c0d7b662ddcaf48d79a536f1"
  },
  "kernelspec": {
   "display_name": "Python 3.7.13 ('ray')",
   "language": "python",
   "name": "python3"
  },
  "language_info": {
   "codemirror_mode": {
    "name": "ipython",
    "version": 3
   },
   "file_extension": ".py",
   "mimetype": "text/x-python",
   "name": "python",
   "nbconvert_exporter": "python",
   "pygments_lexer": "ipython3",
   "version": "3.7.13"
  },
  "orig_nbformat": 4
 },
 "nbformat": 4,
 "nbformat_minor": 2
}
