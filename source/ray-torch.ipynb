{
 "cells": [
  {
   "cell_type": "markdown",
   "metadata": {},
   "source": [
    "implementing pytorch example from https://docs.ray.io/en/latest/train/train.html"
   ]
  },
  {
   "cell_type": "code",
   "execution_count": 1,
   "metadata": {},
   "outputs": [],
   "source": [
    "import os\n",
    "\n",
    "import torch\n",
    "import torch.nn as nn\n",
    "import torch.optim as optim\n",
    "\n",
    "from ray import train\n",
    "import ray.train.torch\n",
    "from ray.train import Trainer\n",
    "\n",
    "from ray.util import connect as ray_connect\n",
    "from ray.util import disconnect as ray_disconnect\n",
    "from ray.util.client import ray as rayclient"
   ]
  },
  {
   "cell_type": "code",
   "execution_count": null,
   "metadata": {},
   "outputs": [],
   "source": [
    "REMOTE = False\n",
    "if REMOTE:\n",
    "    if rayclient.is_connected():\n",
    "        ray_disconnect()\n",
    "\n",
    "    ray_connect('{ray_head}:10001'.format(ray_head=os.environ['RAY_CLUSTER']))"
   ]
  },
  {
   "cell_type": "code",
   "execution_count": 2,
   "metadata": {},
   "outputs": [],
   "source": [
    "num_samples = 20\n",
    "input_size = 10\n",
    "layer_size = 15\n",
    "output_size = 5\n",
    "\n",
    "class NeuralNetwork(nn.Module):\n",
    "    def __init__(self):\n",
    "        super(NeuralNetwork, self).__init__()\n",
    "        self.layer1 = nn.Linear(input_size, layer_size)\n",
    "        self.relu = nn.ReLU()\n",
    "        self.layer2 = nn.Linear(layer_size, output_size)\n",
    "\n",
    "    def forward(self, input):\n",
    "        return self.layer2(self.relu(self.layer1(input)))\n",
    "\n",
    "# In this example we use a randomly generated dataset.\n",
    "input = torch.randn(num_samples, input_size)\n",
    "labels = torch.randn(num_samples, output_size)"
   ]
  },
  {
   "cell_type": "code",
   "execution_count": 3,
   "metadata": {},
   "outputs": [],
   "source": [
    "def train_func():\n",
    "    num_epochs = 3\n",
    "    model = NeuralNetwork()\n",
    "    loss_fn = nn.MSELoss()\n",
    "    optimizer = optim.SGD(model.parameters(), lr=0.1)\n",
    "\n",
    "    for epoch in range(num_epochs):\n",
    "        output = model(input)\n",
    "        loss = loss_fn(output, labels)\n",
    "        optimizer.zero_grad()\n",
    "        loss.backward()\n",
    "        optimizer.step()\n",
    "        print(f\"epoch: {epoch}, loss: {loss.item()}\")"
   ]
  },
  {
   "cell_type": "code",
   "execution_count": 4,
   "metadata": {},
   "outputs": [
    {
     "name": "stdout",
     "output_type": "stream",
     "text": [
      "epoch: 0, loss: 1.1057108640670776\n",
      "epoch: 1, loss: 1.0742485523223877\n",
      "epoch: 2, loss: 1.0476206541061401\n"
     ]
    }
   ],
   "source": [
    "train_func()"
   ]
  },
  {
   "cell_type": "code",
   "execution_count": 5,
   "metadata": {},
   "outputs": [],
   "source": [
    "def train_func_distributed():\n",
    "    num_epochs = 3\n",
    "    model = NeuralNetwork()\n",
    "    model = train.torch.prepare_model(model)\n",
    "    loss_fn = nn.MSELoss()\n",
    "    optimizer = optim.SGD(model.parameters(), lr=0.1)\n",
    "\n",
    "    for epoch in range(num_epochs):\n",
    "        output = model(input)\n",
    "        loss = loss_fn(output, labels)\n",
    "        optimizer.zero_grad()\n",
    "        loss.backward()\n",
    "        optimizer.step()\n",
    "        print(f\"epoch: {epoch}, loss: {loss.item()}\")"
   ]
  },
  {
   "cell_type": "code",
   "execution_count": 6,
   "metadata": {},
   "outputs": [
    {
     "name": "stderr",
     "output_type": "stream",
     "text": [
      "2022-05-18 17:37:19,773\tINFO trainer.py:223 -- Trainer logs will be logged in: /home/mcliffor/ray_results/train_2022-05-18_17-37-19\n"
     ]
    }
   ],
   "source": [
    "trainer = Trainer(backend=\"torch\", num_workers=4)"
   ]
  },
  {
   "cell_type": "code",
   "execution_count": 7,
   "metadata": {},
   "outputs": [
    {
     "name": "stderr",
     "output_type": "stream",
     "text": [
      "\u001b[2m\u001b[36m(BaseWorkerMixin pid=3131801)\u001b[0m 2022-05-18 17:37:45,391\tINFO torch.py:335 -- Setting up process group for: env:// [rank=3, world_size=4]\n",
      "\u001b[2m\u001b[36m(BaseWorkerMixin pid=3131801)\u001b[0m [W socket.cpp:558] [c10d] The client socket cannot be initialized to connect to [::ffff:192.168.1.222]:39107 (errno: 97 - Address family not supported by protocol).\n",
      "\u001b[2m\u001b[36m(BaseWorkerMixin pid=3131801)\u001b[0m [W socket.cpp:558] [c10d] The client socket cannot be initialized to connect to [::ffff:192.168.1.222]:39107 (errno: 97 - Address family not supported by protocol).\n",
      "\u001b[2m\u001b[36m(BaseWorkerMixin pid=3131800)\u001b[0m 2022-05-18 17:37:45,377\tINFO torch.py:335 -- Setting up process group for: env:// [rank=2, world_size=4]\n",
      "\u001b[2m\u001b[36m(BaseWorkerMixin pid=3131800)\u001b[0m [W socket.cpp:558] [c10d] The client socket cannot be initialized to connect to [::ffff:192.168.1.222]:39107 (errno: 97 - Address family not supported by protocol).\n",
      "\u001b[2m\u001b[36m(BaseWorkerMixin pid=3131800)\u001b[0m [W socket.cpp:558] [c10d] The client socket cannot be initialized to connect to [::ffff:192.168.1.222]:39107 (errno: 97 - Address family not supported by protocol).\n",
      "\u001b[2m\u001b[36m(BaseWorkerMixin pid=3131798)\u001b[0m 2022-05-18 17:37:45,373\tINFO torch.py:335 -- Setting up process group for: env:// [rank=0, world_size=4]\n",
      "\u001b[2m\u001b[36m(BaseWorkerMixin pid=3131798)\u001b[0m [W socket.cpp:401] [c10d] The server socket cannot be initialized on [::]:39107 (errno: 97 - Address family not supported by protocol).\n",
      "\u001b[2m\u001b[36m(BaseWorkerMixin pid=3131798)\u001b[0m [W socket.cpp:558] [c10d] The client socket cannot be initialized to connect to [::ffff:192.168.1.222]:39107 (errno: 97 - Address family not supported by protocol).\n",
      "\u001b[2m\u001b[36m(BaseWorkerMixin pid=3131798)\u001b[0m [W socket.cpp:558] [c10d] The client socket cannot be initialized to connect to [::ffff:192.168.1.222]:39107 (errno: 97 - Address family not supported by protocol).\n",
      "\u001b[2m\u001b[36m(BaseWorkerMixin pid=3131799)\u001b[0m 2022-05-18 17:37:45,377\tINFO torch.py:335 -- Setting up process group for: env:// [rank=1, world_size=4]\n",
      "\u001b[2m\u001b[36m(BaseWorkerMixin pid=3131799)\u001b[0m [W socket.cpp:558] [c10d] The client socket cannot be initialized to connect to [::ffff:192.168.1.222]:39107 (errno: 97 - Address family not supported by protocol).\n",
      "\u001b[2m\u001b[36m(BaseWorkerMixin pid=3131799)\u001b[0m [W socket.cpp:558] [c10d] The client socket cannot be initialized to connect to [::ffff:192.168.1.222]:39107 (errno: 97 - Address family not supported by protocol).\n",
      "2022-05-18 17:37:45,484\tINFO trainer.py:229 -- Run results will be logged in: /home/mcliffor/ray_results/train_2022-05-18_17-37-19/run_001\n",
      "\u001b[2m\u001b[36m(BaseWorkerMixin pid=3131801)\u001b[0m 2022-05-18 17:37:45,534\tINFO torch.py:92 -- Moving model to device: cpu\n",
      "\u001b[2m\u001b[36m(BaseWorkerMixin pid=3131801)\u001b[0m 2022-05-18 17:37:45,535\tINFO torch.py:126 -- Wrapping provided model in DDP.\n",
      "\u001b[2m\u001b[36m(BaseWorkerMixin pid=3131800)\u001b[0m 2022-05-18 17:37:45,532\tINFO torch.py:92 -- Moving model to device: cpu\n",
      "\u001b[2m\u001b[36m(BaseWorkerMixin pid=3131800)\u001b[0m 2022-05-18 17:37:45,535\tINFO torch.py:126 -- Wrapping provided model in DDP.\n",
      "\u001b[2m\u001b[36m(BaseWorkerMixin pid=3131798)\u001b[0m 2022-05-18 17:37:45,533\tINFO torch.py:92 -- Moving model to device: cpu\n",
      "\u001b[2m\u001b[36m(BaseWorkerMixin pid=3131798)\u001b[0m 2022-05-18 17:37:45,534\tINFO torch.py:126 -- Wrapping provided model in DDP.\n",
      "\u001b[2m\u001b[36m(BaseWorkerMixin pid=3131799)\u001b[0m 2022-05-18 17:37:45,530\tINFO torch.py:92 -- Moving model to device: cpu\n",
      "\u001b[2m\u001b[36m(BaseWorkerMixin pid=3131799)\u001b[0m 2022-05-18 17:37:45,532\tINFO torch.py:126 -- Wrapping provided model in DDP.\n"
     ]
    },
    {
     "name": "stdout",
     "output_type": "stream",
     "text": [
      "\u001b[2m\u001b[36m(BaseWorkerMixin pid=3131801)\u001b[0m epoch: 0, loss: 1.0745793581008911\n",
      "\u001b[2m\u001b[36m(BaseWorkerMixin pid=3131801)\u001b[0m epoch: 1, loss: 1.0589888095855713\n",
      "\u001b[2m\u001b[36m(BaseWorkerMixin pid=3131801)\u001b[0m epoch: 2, loss: 1.0449146032333374\n",
      "\u001b[2m\u001b[36m(BaseWorkerMixin pid=3131800)\u001b[0m epoch: 0, loss: 1.0745793581008911\n",
      "\u001b[2m\u001b[36m(BaseWorkerMixin pid=3131800)\u001b[0m epoch: 1, loss: 1.0589888095855713\n",
      "\u001b[2m\u001b[36m(BaseWorkerMixin pid=3131800)\u001b[0m epoch: 2, loss: 1.0449146032333374\n",
      "\u001b[2m\u001b[36m(BaseWorkerMixin pid=3131798)\u001b[0m epoch: 0, loss: 1.0745793581008911\n",
      "\u001b[2m\u001b[36m(BaseWorkerMixin pid=3131798)\u001b[0m epoch: 1, loss: 1.0589888095855713\n",
      "\u001b[2m\u001b[36m(BaseWorkerMixin pid=3131798)\u001b[0m epoch: 2, loss: 1.0449146032333374\n",
      "\u001b[2m\u001b[36m(BaseWorkerMixin pid=3131799)\u001b[0m epoch: 0, loss: 1.0745793581008911\n",
      "\u001b[2m\u001b[36m(BaseWorkerMixin pid=3131799)\u001b[0m epoch: 1, loss: 1.0589888095855713\n",
      "\u001b[2m\u001b[36m(BaseWorkerMixin pid=3131799)\u001b[0m epoch: 2, loss: 1.0449146032333374\n"
     ]
    }
   ],
   "source": [
    "# For GPU Training, set `use_gpu` to True.\n",
    "# trainer = Trainer(backend=\"torch\", num_workers=4, use_gpu=True)\n",
    "\n",
    "trainer.start()\n",
    "results = trainer.run(train_func_distributed)\n",
    "trainer.shutdown()"
   ]
  }
 ],
 "metadata": {
  "interpreter": {
   "hash": "e34450d332bd313b8f818cb5ed04e25933b13de9c0d7b662ddcaf48d79a536f1"
  },
  "kernelspec": {
   "display_name": "Python 3.7.13 ('ray')",
   "language": "python",
   "name": "python3"
  },
  "language_info": {
   "codemirror_mode": {
    "name": "ipython",
    "version": 3
   },
   "file_extension": ".py",
   "mimetype": "text/x-python",
   "name": "python",
   "nbconvert_exporter": "python",
   "pygments_lexer": "ipython3",
   "version": "3.7.13"
  },
  "orig_nbformat": 4
 },
 "nbformat": 4,
 "nbformat_minor": 2
}
