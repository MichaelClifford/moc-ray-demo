{
 "cells": [
  {
   "cell_type": "markdown",
   "metadata": {},
   "source": [
    "## An Introduction to Dask on Ray"
   ]
  },
  {
   "cell_type": "markdown",
   "metadata": {},
   "source": [
    "Ray library comes pre-installed on this notebook image:"
   ]
  },
  {
   "cell_type": "code",
   "execution_count": 2,
   "metadata": {
    "ExecuteTime": {
     "end_time": "2021-05-25T21:06:37.473606Z",
     "start_time": "2021-05-25T21:06:37.321900Z"
    }
   },
   "outputs": [],
   "source": [
    "import os\n",
    "import ray\n",
    "import ray.util\n",
    "from ray.util.client import ray as rayclient"
   ]
  },
  {
   "cell_type": "markdown",
   "metadata": {},
   "source": [
    "Connect to the Ray Server,\n",
    "Unless we are already connected"
   ]
  },
  {
   "cell_type": "code",
   "execution_count": 3,
   "metadata": {
    "ExecuteTime": {
     "end_time": "2021-05-25T21:06:41.862599Z",
     "start_time": "2021-05-25T21:06:39.164770Z"
    }
   },
   "outputs": [],
   "source": [
    "headhost = os.environ['RAY_CLUSTER']\n",
    "\n",
    "if not rayclient.is_connected():\n",
    "    ray.util.connect('{ray_head}:10001'.format(ray_head=headhost))"
   ]
  },
  {
   "cell_type": "code",
   "execution_count": 4,
   "metadata": {
    "ExecuteTime": {
     "end_time": "2021-05-25T21:06:43.613476Z",
     "start_time": "2021-05-25T21:06:43.158279Z"
    }
   },
   "outputs": [],
   "source": [
    "from ray.util.dask import ray_dask_get\n",
    "import dask\n",
    "import dask.array as da\n",
    "import dask.dataframe as dd\n",
    "import numpy as np\n",
    "import pandas as pd"
   ]
  },
  {
   "cell_type": "code",
   "execution_count": 5,
   "metadata": {
    "ExecuteTime": {
     "end_time": "2021-05-25T21:06:44.804765Z",
     "start_time": "2021-05-25T21:06:44.796230Z"
    }
   },
   "outputs": [],
   "source": [
    "random_data = da.from_array(np.random.randint(0, 1000, size=(256, 256)))"
   ]
  },
  {
   "cell_type": "markdown",
   "metadata": {},
   "source": [
    "You can tell dask to use the ray scheduling backend for specific computations:"
   ]
  },
  {
   "cell_type": "code",
   "execution_count": 6,
   "metadata": {
    "ExecuteTime": {
     "end_time": "2021-05-25T21:06:47.452081Z",
     "start_time": "2021-05-25T21:06:46.640580Z"
    }
   },
   "outputs": [
    {
     "data": {
      "text/plain": [
       "500.7792663574219"
      ]
     },
     "execution_count": 6,
     "metadata": {},
     "output_type": "execute_result"
    }
   ],
   "source": [
    "random_data.mean().compute(scheduler=ray_dask_get)"
   ]
  },
  {
   "cell_type": "markdown",
   "metadata": {},
   "source": [
    "Alternatively, you can configure dask to use ray by default:"
   ]
  },
  {
   "cell_type": "code",
   "execution_count": 7,
   "metadata": {
    "ExecuteTime": {
     "end_time": "2021-05-25T21:06:53.709381Z",
     "start_time": "2021-05-25T21:06:53.705721Z"
    }
   },
   "outputs": [
    {
     "data": {
      "text/plain": [
       "<dask.config.set at 0x7fb192b2bd68>"
      ]
     },
     "execution_count": 7,
     "metadata": {},
     "output_type": "execute_result"
    }
   ],
   "source": [
    "dask.config.set(scheduler=ray_dask_get)"
   ]
  },
  {
   "cell_type": "code",
   "execution_count": 8,
   "metadata": {
    "ExecuteTime": {
     "end_time": "2021-05-25T21:06:57.919318Z",
     "start_time": "2021-05-25T21:06:56.982430Z"
    }
   },
   "outputs": [
    {
     "data": {
      "text/html": [
       "<div>\n",
       "<style scoped>\n",
       "    .dataframe tbody tr th:only-of-type {\n",
       "        vertical-align: middle;\n",
       "    }\n",
       "\n",
       "    .dataframe tbody tr th {\n",
       "        vertical-align: top;\n",
       "    }\n",
       "\n",
       "    .dataframe thead th {\n",
       "        text-align: right;\n",
       "    }\n",
       "</style>\n",
       "<table border=\"1\" class=\"dataframe\">\n",
       "  <thead>\n",
       "    <tr style=\"text-align: right;\">\n",
       "      <th></th>\n",
       "      <th>id</th>\n",
       "      <th>name</th>\n",
       "      <th>x</th>\n",
       "      <th>y</th>\n",
       "    </tr>\n",
       "    <tr>\n",
       "      <th>timestamp</th>\n",
       "      <th></th>\n",
       "      <th></th>\n",
       "      <th></th>\n",
       "      <th></th>\n",
       "    </tr>\n",
       "  </thead>\n",
       "  <tbody>\n",
       "    <tr>\n",
       "      <th>2000-01-01 00:00:00</th>\n",
       "      <td>997</td>\n",
       "      <td>Hannah</td>\n",
       "      <td>-0.703919</td>\n",
       "      <td>0.755042</td>\n",
       "    </tr>\n",
       "    <tr>\n",
       "      <th>2000-01-01 00:00:01</th>\n",
       "      <td>1023</td>\n",
       "      <td>George</td>\n",
       "      <td>-0.486810</td>\n",
       "      <td>-0.156185</td>\n",
       "    </tr>\n",
       "    <tr>\n",
       "      <th>2000-01-01 00:00:02</th>\n",
       "      <td>1014</td>\n",
       "      <td>Ray</td>\n",
       "      <td>-0.153355</td>\n",
       "      <td>-0.815755</td>\n",
       "    </tr>\n",
       "    <tr>\n",
       "      <th>2000-01-01 00:00:03</th>\n",
       "      <td>1059</td>\n",
       "      <td>Norbert</td>\n",
       "      <td>-0.757544</td>\n",
       "      <td>-0.976137</td>\n",
       "    </tr>\n",
       "    <tr>\n",
       "      <th>2000-01-01 00:00:04</th>\n",
       "      <td>997</td>\n",
       "      <td>Edith</td>\n",
       "      <td>-0.855295</td>\n",
       "      <td>-0.714161</td>\n",
       "    </tr>\n",
       "  </tbody>\n",
       "</table>\n",
       "</div>"
      ],
      "text/plain": [
       "                       id     name         x         y\n",
       "timestamp                                             \n",
       "2000-01-01 00:00:00   997   Hannah -0.703919  0.755042\n",
       "2000-01-01 00:00:01  1023   George -0.486810 -0.156185\n",
       "2000-01-01 00:00:02  1014      Ray -0.153355 -0.815755\n",
       "2000-01-01 00:00:03  1059  Norbert -0.757544 -0.976137\n",
       "2000-01-01 00:00:04   997    Edith -0.855295 -0.714161"
      ]
     },
     "execution_count": 8,
     "metadata": {},
     "output_type": "execute_result"
    }
   ],
   "source": [
    "data = dask.datasets.timeseries()\n",
    "data.head(5)"
   ]
  },
  {
   "cell_type": "code",
   "execution_count": 9,
   "metadata": {
    "ExecuteTime": {
     "end_time": "2021-05-25T21:07:03.212721Z",
     "start_time": "2021-05-25T21:07:02.882494Z"
    }
   },
   "outputs": [],
   "source": [
    "from sklearn.linear_model import LinearRegression\n",
    "def train(partition):\n",
    "    est = LinearRegression()\n",
    "    est.fit(partition[['x']].values, partition.y.values)\n",
    "    return est"
   ]
  },
  {
   "cell_type": "code",
   "execution_count": 10,
   "metadata": {
    "ExecuteTime": {
     "end_time": "2021-05-25T21:07:11.326397Z",
     "start_time": "2021-05-25T21:07:04.152475Z"
    }
   },
   "outputs": [
    {
     "data": {
      "text/plain": [
       "name\n",
       "Alice       LinearRegression()\n",
       "Bob         LinearRegression()\n",
       "Charlie     LinearRegression()\n",
       "Dan         LinearRegression()\n",
       "Edith       LinearRegression()\n",
       "Frank       LinearRegression()\n",
       "George      LinearRegression()\n",
       "Hannah      LinearRegression()\n",
       "Ingrid      LinearRegression()\n",
       "Jerry       LinearRegression()\n",
       "Kevin       LinearRegression()\n",
       "Laura       LinearRegression()\n",
       "Michael     LinearRegression()\n",
       "Norbert     LinearRegression()\n",
       "Oliver      LinearRegression()\n",
       "Patricia    LinearRegression()\n",
       "Quinn       LinearRegression()\n",
       "Ray         LinearRegression()\n",
       "Sarah       LinearRegression()\n",
       "Tim         LinearRegression()\n",
       "Ursula      LinearRegression()\n",
       "Victor      LinearRegression()\n",
       "Wendy       LinearRegression()\n",
       "Xavier      LinearRegression()\n",
       "Yvonne      LinearRegression()\n",
       "Zelda       LinearRegression()\n",
       "dtype: object"
      ]
     },
     "execution_count": 10,
     "metadata": {},
     "output_type": "execute_result"
    }
   ],
   "source": [
    "models_by_name = data.groupby('name') \\\n",
    "    .apply(train, meta=object) \\\n",
    "    .compute() \\\n",
    "    .sort_index()\n",
    "models_by_name"
   ]
  },
  {
   "cell_type": "code",
   "execution_count": 11,
   "metadata": {
    "ExecuteTime": {
     "end_time": "2021-05-25T21:07:20.643048Z",
     "start_time": "2021-05-25T21:07:20.638242Z"
    }
   },
   "outputs": [
    {
     "data": {
      "text/plain": [
       "array([0.00637676])"
      ]
     },
     "execution_count": 11,
     "metadata": {},
     "output_type": "execute_result"
    }
   ],
   "source": [
    "alice = models_by_name.at['Alice']\n",
    "alice.predict([[0]])"
   ]
  },
  {
   "cell_type": "code",
   "execution_count": null,
   "metadata": {},
   "outputs": [],
   "source": []
  }
 ],
 "metadata": {
  "kernelspec": {
   "display_name": "Python 3",
   "language": "python",
   "name": "python3"
  },
  "language_info": {
   "codemirror_mode": {
    "name": "ipython",
    "version": 3
   },
   "file_extension": ".py",
   "mimetype": "text/x-python",
   "name": "python",
   "nbconvert_exporter": "python",
   "pygments_lexer": "ipython3",
   "version": "3.6.8"
  },
  "toc": {
   "base_numbering": 1,
   "nav_menu": {},
   "number_sections": true,
   "sideBar": true,
   "skip_h1_title": false,
   "title_cell": "Table of Contents",
   "title_sidebar": "Contents",
   "toc_cell": false,
   "toc_position": {},
   "toc_section_display": true,
   "toc_window_display": false
  }
 },
 "nbformat": 4,
 "nbformat_minor": 4
}
