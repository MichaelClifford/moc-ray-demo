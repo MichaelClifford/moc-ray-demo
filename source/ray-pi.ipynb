{
 "cells": [
  {
   "cell_type": "code",
   "execution_count": 1,
   "metadata": {
    "ExecuteTime": {
     "end_time": "2021-04-24T00:02:32.949432Z",
     "start_time": "2021-04-24T00:02:32.658584Z"
    }
   },
   "outputs": [],
   "source": [
    "import os\n",
    "import ray\n",
    "import ray.util\n",
    "import random"
   ]
  },
  {
   "cell_type": "code",
   "execution_count": 2,
   "metadata": {
    "ExecuteTime": {
     "end_time": "2021-04-24T00:02:33.771726Z",
     "start_time": "2021-04-24T00:02:32.951239Z"
    }
   },
   "outputs": [
    {
     "data": {
      "text/plain": [
       "{'num_clients': 1,\n",
       " 'python_version': '3.6.8',\n",
       " 'ray_version': '2.0.0.dev0',\n",
       " 'ray_commit': '4357055305395ea309813851a539381bc7c32138',\n",
       " 'protocol_version': '2020-02-22'}"
      ]
     },
     "execution_count": 2,
     "metadata": {},
     "output_type": "execute_result"
    }
   ],
   "source": [
    "from ray.util.client import ray as rayclient\n",
    "if rayclient.is_connected():\n",
    "    ray.util.disconnect()\n",
    "\n",
    "headhost = os.environ['RAY_CLUSTER']\n",
    "ray.util.connect('{ray_head}:10001'.format(ray_head=headhost))"
   ]
  },
  {
   "cell_type": "code",
   "execution_count": 3,
   "metadata": {
    "ExecuteTime": {
     "end_time": "2021-04-24T00:02:33.789863Z",
     "start_time": "2021-04-24T00:02:33.773907Z"
    }
   },
   "outputs": [
    {
     "data": {
      "text/plain": [
       "ClientObjectRef(ffffffffffffffffffffffffffffffffffffffff0300000001000000)"
      ]
     },
     "execution_count": 3,
     "metadata": {},
     "output_type": "execute_result"
    }
   ],
   "source": [
    "# create some random data on [-1,1]X[-1,1]\n",
    "# Here we are directly staging data, and so we invoke 'ray.put' instead of '@ray.remote'\n",
    "def pi_random_points(n):\n",
    "    # to submit a list as an object, must be wrapped in another list\n",
    "    # so do that and then unpack it to get the object\n",
    "    return ray.put([[(random.uniform(-1,1), random.uniform(-1,1)) for _ in range(n)]])[0]\n",
    "\n",
    "n = 1000\n",
    "data = pi_random_points(n)\n",
    "data"
   ]
  },
  {
   "cell_type": "code",
   "execution_count": 4,
   "metadata": {
    "ExecuteTime": {
     "end_time": "2021-04-24T00:02:33.810268Z",
     "start_time": "2021-04-24T00:02:33.791826Z"
    }
   },
   "outputs": [
    {
     "data": {
      "text/plain": [
       "ClientObjectRef(883fd22a2c3722ddffffffffffffffffffffffff0300000001000000)"
      ]
     },
     "execution_count": 4,
     "metadata": {},
     "output_type": "execute_result"
    }
   ],
   "source": [
    "# filter points inside the unit circle\n",
    "@ray.remote\n",
    "def pi_unit_circle(shard):\n",
    "    return [p for p in shard if p[0]*p[0] + p[1]*p[1] <= 1]\n",
    "\n",
    "in_circle = pi_unit_circle.remote(data)\n",
    "in_circle"
   ]
  },
  {
   "cell_type": "code",
   "execution_count": 5,
   "metadata": {
    "ExecuteTime": {
     "end_time": "2021-04-24T00:02:33.822594Z",
     "start_time": "2021-04-24T00:02:33.811810Z"
    }
   },
   "outputs": [
    {
     "data": {
      "text/plain": [
       "ClientObjectRef(fd8c2e73df39afecffffffffffffffffffffffff0300000001000000)"
      ]
     },
     "execution_count": 5,
     "metadata": {},
     "output_type": "execute_result"
    }
   ],
   "source": [
    "# count points in a partition\n",
    "@ray.remote\n",
    "def pi_count(p):\n",
    "    return len(p)\n",
    "\n",
    "counts = pi_count.remote(in_circle)\n",
    "counts"
   ]
  },
  {
   "cell_type": "code",
   "execution_count": 6,
   "metadata": {
    "ExecuteTime": {
     "end_time": "2021-04-24T00:02:34.434605Z",
     "start_time": "2021-04-24T00:02:33.824445Z"
    },
    "scrolled": true
   },
   "outputs": [
    {
     "name": "stdout",
     "output_type": "stream",
     "text": [
      "pi= 3.172\n"
     ]
    }
   ],
   "source": [
    "c = ray.get(counts)\n",
    "pi = 4 * c / n\n",
    "print(f\"pi= {pi}\")"
   ]
  },
  {
   "cell_type": "code",
   "execution_count": 7,
   "metadata": {
    "ExecuteTime": {
     "end_time": "2021-04-24T00:02:46.193726Z",
     "start_time": "2021-04-24T00:02:34.436479Z"
    }
   },
   "outputs": [
    {
     "name": "stdout",
     "output_type": "stream",
     "text": [
      "pi= 3.144236\n",
      "CPU times: user 3.87 s, sys: 161 ms, total: 4.03 s\n",
      "Wall time: 11.8 s\n"
     ]
    }
   ],
   "source": [
    "%%time\n",
    "n = 100000\n",
    "k = 10\n",
    "random_points = [pi_random_points(n) for _ in range(k)]\n",
    "in_circle = [pi_unit_circle.remote(p) for p in random_points]\n",
    "circle_counts = [pi_count.remote(p) for p in in_circle]\n",
    "partition_counts = ray.get(circle_counts)\n",
    "c = sum(partition_counts)\n",
    "pi = 4 * c / (n * k)\n",
    "print(f\"pi= {pi}\")"
   ]
  },
  {
   "cell_type": "code",
   "execution_count": 8,
   "metadata": {
    "ExecuteTime": {
     "end_time": "2021-04-24T00:02:46.203568Z",
     "start_time": "2021-04-24T00:02:46.197514Z"
    }
   },
   "outputs": [],
   "source": [
    "@ray.remote\n",
    "def count_in_circle_generator(n):\n",
    "    def random_points(n):\n",
    "        while n > 0:\n",
    "            yield (random.uniform(-1,1), random.uniform(-1,1))\n",
    "            n = n - 1\n",
    "    c = 0\n",
    "    for _ in (p for p in random_points(n) if p[0]*p[0] + p[1]*p[1] <= 1):\n",
    "        c = c + 1\n",
    "    return c"
   ]
  },
  {
   "cell_type": "code",
   "execution_count": 9,
   "metadata": {
    "ExecuteTime": {
     "end_time": "2021-04-24T00:02:46.780296Z",
     "start_time": "2021-04-24T00:02:46.205316Z"
    }
   },
   "outputs": [
    {
     "name": "stdout",
     "output_type": "stream",
     "text": [
      "pi= 3.14086\n",
      "CPU times: user 10.4 ms, sys: 2.98 ms, total: 13.4 ms\n",
      "Wall time: 449 ms\n"
     ]
    }
   ],
   "source": [
    "%%time\n",
    "n = 100000\n",
    "k = 10\n",
    "x = [count_in_circle_generator.remote(n) for _ in range(k)]\n",
    "c = sum(ray.get(x))\n",
    "pi = 4 * c / (n * k)\n",
    "print(f\"pi= {pi}\")"
   ]
  },
  {
   "cell_type": "code",
   "execution_count": null,
   "metadata": {},
   "outputs": [],
   "source": []
  }
 ],
 "metadata": {
  "kernelspec": {
   "display_name": "Python 3",
   "language": "python",
   "name": "python3"
  },
  "language_info": {
   "codemirror_mode": {
    "name": "ipython",
    "version": 3
   },
   "file_extension": ".py",
   "mimetype": "text/x-python",
   "name": "python",
   "nbconvert_exporter": "python",
   "pygments_lexer": "ipython3",
   "version": "3.6.8"
  },
  "toc": {
   "base_numbering": 1,
   "nav_menu": {},
   "number_sections": true,
   "sideBar": true,
   "skip_h1_title": false,
   "title_cell": "Table of Contents",
   "title_sidebar": "Contents",
   "toc_cell": false,
   "toc_position": {},
   "toc_section_display": true,
   "toc_window_display": false
  }
 },
 "nbformat": 4,
 "nbformat_minor": 4
}
