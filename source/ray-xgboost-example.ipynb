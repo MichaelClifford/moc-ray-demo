{
 "cells": [
  {
   "cell_type": "code",
   "execution_count": 1,
   "id": "chronic-holmes",
   "metadata": {
    "ExecuteTime": {
     "end_time": "2021-05-25T22:50:57.701478Z",
     "start_time": "2021-05-25T22:50:57.543821Z"
    }
   },
   "outputs": [],
   "source": [
    "import os\n",
    "import ray\n",
    "import ray.util\n",
    "from ray.util.client import ray as rayclient"
   ]
  },
  {
   "cell_type": "code",
   "execution_count": 2,
   "id": "static-memorabilia",
   "metadata": {
    "ExecuteTime": {
     "end_time": "2021-05-25T22:51:02.163414Z",
     "start_time": "2021-05-25T22:50:58.977437Z"
    }
   },
   "outputs": [
    {
     "data": {
      "text/plain": [
       "{'num_clients': 1,\n",
       " 'python_version': '3.8.6',\n",
       " 'ray_version': '1.4.0',\n",
       " 'ray_commit': '3a09c82fbfce8f00533234844729e6d99fb0f24c',\n",
       " 'protocol_version': '2021-05-20'}"
      ]
     },
     "execution_count": 2,
     "metadata": {},
     "output_type": "execute_result"
    }
   ],
   "source": [
    "headhost = os.environ['RAY_CLUSTER']\n",
    "\n",
    "if not rayclient.is_connected():\n",
    "    rx = ray.util.connect('{ray_head}:10001'.format(ray_head=headhost))\n",
    "rx"
   ]
  },
  {
   "cell_type": "code",
   "execution_count": 3,
   "id": "charged-hawaiian",
   "metadata": {
    "ExecuteTime": {
     "end_time": "2021-05-25T22:51:07.709642Z",
     "start_time": "2021-05-25T22:51:06.822282Z"
    }
   },
   "outputs": [],
   "source": [
    "from xgboost_ray import RayDMatrix, RayParams, train\n",
    "from sklearn.datasets import load_breast_cancer\n",
    "\n",
    "train_x, train_y = load_breast_cancer(return_X_y=True)\n",
    "train_set = RayDMatrix(train_x, train_y)"
   ]
  },
  {
   "cell_type": "code",
   "execution_count": 4,
   "id": "aquatic-smell",
   "metadata": {
    "ExecuteTime": {
     "end_time": "2021-05-25T22:52:15.045644Z",
     "start_time": "2021-05-25T22:51:15.160352Z"
    }
   },
   "outputs": [
    {
     "name": "stderr",
     "output_type": "stream",
     "text": [
      "WARNING: 3 PYTHON workers have been started on a node of the id: 67159c5920e1068725d78a64f5938241e1209fefae4bbe34b2a242c4 and address: 10.129.6.28. This could be a result of using a large number of actors, or it could be a consequence of using nested tasks (see https://github.com/ray-project/ray/issues/3644) for some a discussion of workarounds.\n",
      "\u001b[2m\u001b[36m(pid=266)\u001b[0m 2021-06-28 15:43:39,312\tINFO main.py:853 -- [RayXGBoost] Created 2 new actors (2 total actors). Waiting until actors are ready for training.\n",
      "\u001b[2m\u001b[36m(pid=266)\u001b[0m 2021-06-28 15:44:09,372\tINFO main.py:887 -- Waiting until actors are ready (30 seconds passed).\n",
      "WARNING: 4 PYTHON workers have been started on a node of the id: 67159c5920e1068725d78a64f5938241e1209fefae4bbe34b2a242c4 and address: 10.129.6.28. This could be a result of using a large number of actors, or it could be a consequence of using nested tasks (see https://github.com/ray-project/ray/issues/3644) for some a discussion of workarounds.\n",
      "\u001b[2m\u001b[36m(pid=266)\u001b[0m 2021-06-28 15:44:39,426\tINFO main.py:887 -- Waiting until actors are ready (60 seconds passed).\n",
      "\u001b[2m\u001b[36m(pid=266)\u001b[0m 2021-06-28 15:44:40,732\tINFO main.py:898 -- [RayXGBoost] Starting XGBoost training.\n",
      "\u001b[2m\u001b[36m(pid=116, ip=10.128.2.219)\u001b[0m [15:44:40] task [xgboost.ray]:140064390102608 got new rank 0\n",
      "\u001b[2m\u001b[36m(pid=343)\u001b[0m [15:44:40] task [xgboost.ray]:140072127655648 got new rank 1\n",
      "\u001b[2m\u001b[36m(pid=266)\u001b[0m 2021-06-28 15:44:43,055\tINFO main.py:1355 -- [RayXGBoost] Finished XGBoost training on training data with total N=569 in 163.80 seconds (2.31 pure XGBoost training time).\n"
     ]
    }
   ],
   "source": [
    "\n",
    "evals_result = {}\n",
    "bst = train(\n",
    "    {\n",
    "        \"objective\": \"binary:logistic\",\n",
    "        \"eval_metric\": [\"logloss\", \"error\"],\n",
    "    },\n",
    "    train_set,\n",
    "    evals_result=evals_result,\n",
    "    evals=[(train_set, \"train\")],\n",
    "    verbose_eval=False,\n",
    "    ray_params=RayParams(\n",
    "        num_actors=2,  # Number of remote actors\n",
    "        cpus_per_actor=1))\n",
    "\n",
    "bst.save_model(\"model.xgb\")\n"
   ]
  },
  {
   "cell_type": "code",
   "execution_count": 5,
   "id": "olympic-start",
   "metadata": {
    "ExecuteTime": {
     "end_time": "2021-05-25T22:52:37.780411Z",
     "start_time": "2021-05-25T22:52:37.777177Z"
    }
   },
   "outputs": [
    {
     "name": "stdout",
     "output_type": "stream",
     "text": [
      "Final training error: 0.0053\n"
     ]
    }
   ],
   "source": [
    "print(\"Final training error: {:.4f}\".format(\n",
    "    evals_result[\"train\"][\"error\"][-1]))"
   ]
  },
  {
   "cell_type": "code",
   "execution_count": null,
   "id": "forbidden-sample",
   "metadata": {},
   "outputs": [],
   "source": []
  }
 ],
 "metadata": {
  "kernelspec": {
   "display_name": "Python 3",
   "language": "python",
   "name": "python3"
  },
  "language_info": {
   "codemirror_mode": {
    "name": "ipython",
    "version": 3
   },
   "file_extension": ".py",
   "mimetype": "text/x-python",
   "name": "python",
   "nbconvert_exporter": "python",
   "pygments_lexer": "ipython3",
   "version": "3.8.3"
  },
  "toc": {
   "base_numbering": 1,
   "nav_menu": {},
   "number_sections": true,
   "sideBar": true,
   "skip_h1_title": false,
   "title_cell": "Table of Contents",
   "title_sidebar": "Contents",
   "toc_cell": false,
   "toc_position": {},
   "toc_section_display": true,
   "toc_window_display": false
  }
 },
 "nbformat": 4,
 "nbformat_minor": 5
}
