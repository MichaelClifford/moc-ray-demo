{
 "cells": [
  {
   "cell_type": "code",
   "execution_count": null,
   "metadata": {
    "ExecuteTime": {
     "end_time": "2021-04-25T19:08:11.410724Z",
     "start_time": "2021-04-25T19:08:11.160903Z"
    }
   },
   "outputs": [],
   "source": [
    "import os\n",
    "import ray\n",
    "import ray.util\n",
    "import random"
   ]
  },
  {
   "cell_type": "code",
   "execution_count": 3,
   "metadata": {
    "ExecuteTime": {
     "end_time": "2021-04-25T19:08:20.690639Z",
     "start_time": "2021-04-25T19:08:20.660095Z"
    }
   },
   "outputs": [],
   "source": [
    "from abc import ABC, abstractmethod\n",
    "\n",
    "class RDDPartition(ABC):\n",
    "    @abstractmethod\n",
    "    def generator(self):\n",
    "        pass\n",
    "\n",
    "class RDDIndexedPartition(RDDPartition):\n",
    "    def __init__(self, b, e):\n",
    "        self.b = b\n",
    "        self.e = e\n",
    "    def generator(self):\n",
    "        return range(self.b, self.e)\n",
    "\n",
    "class RDDDataPartition(RDDPartition):\n",
    "    def __init__(self, data):\n",
    "        self.data = data\n",
    "    def generator(self):\n",
    "        d = ray.get(self.data)\n",
    "        return (e for e in d)\n",
    "\n",
    "class RDDTransform(ABC):\n",
    "    @abstractmethod\n",
    "    def generator(self, g):\n",
    "        pass        \n",
    "\n",
    "class RDDMap(RDDTransform):\n",
    "    def __init__(self, f):\n",
    "        self.f = f\n",
    "    def generator(self, g):\n",
    "        f = self.f\n",
    "        return (f(e) for e in g)\n",
    "\n",
    "class RDDFilter(RDDTransform):\n",
    "    def __init__(self, f):\n",
    "        self.f = f\n",
    "    def generator(self, g):\n",
    "        f = self.f\n",
    "        return (e for e in g if f(e))\n",
    "\n",
    "@ray.remote\n",
    "def rdd_collect_part(part, transforms):\n",
    "    gen = part.generator()\n",
    "    for g in transforms:\n",
    "        gen = g.generator(gen)\n",
    "    return [e for e in gen]\n",
    "\n",
    "@ray.remote\n",
    "def rdd_count_part(part, transforms):\n",
    "    gen = part.generator()\n",
    "    for g in transforms:\n",
    "        gen = g.generator(gen)\n",
    "    return sum(1 for _ in gen)\n",
    "\n",
    "@ray.remote\n",
    "def rdd_reduce_part(part, transforms, z, f):\n",
    "    gen = part.generator()\n",
    "    for g in transforms:\n",
    "        gen = g.generator(gen)\n",
    "    s = z\n",
    "    for e in gen:\n",
    "        s = f(s, e)\n",
    "    return s\n",
    "    \n",
    "class SimpleRayRDD:\n",
    "    def __init__(self, np=2, indexed=None, data=None, parts=None, transforms=None):\n",
    "        if parts is not None:\n",
    "            # if we are building on a previous rdd\n",
    "            # this mode is typically called internally\n",
    "            self.parts = parts\n",
    "            self.transforms = transforms\n",
    "        elif indexed is not None:\n",
    "            # basis case, a new indexed RDD\n",
    "            n = int(indexed)\n",
    "            np = max(1, min(np, n // 1000))\n",
    "            s = n // np\n",
    "            b = 0\n",
    "            self.transforms = []\n",
    "            self.parts = []\n",
    "            while b < n:\n",
    "                self.parts.append(RDDIndexedPartition(b, min(n, b+s)))\n",
    "                b += s\n",
    "        elif data is not None:\n",
    "            n = len(data)\n",
    "            np = max(1, min(np, n // 1000))\n",
    "            s = n // np\n",
    "            b = 0\n",
    "            self.transforms = []\n",
    "            self.parts = []\n",
    "            while b < n:\n",
    "                self.parts.append(RDDDataPartition(ray.put([data[b:min(n,b+s)]])[0]))\n",
    "                b += s\n",
    "        else:\n",
    "            raise(\"undefined RDD partition mode\")\n",
    "\n",
    "    def map(self, f):\n",
    "        t = self.transforms[:]\n",
    "        t.append(RDDMap(f))\n",
    "        return SimpleRayRDD(parts=self.parts[:], transforms=t)\n",
    "\n",
    "    def filter(self, f):\n",
    "        t = self.transforms[:]\n",
    "        t.append(RDDFilter(f))\n",
    "        return SimpleRayRDD(parts=self.parts[:], transforms=t)\n",
    "\n",
    "    def collect(self):\n",
    "        parts = [rdd_collect_part.remote(p, self.transforms) for p in self.parts]\n",
    "        parts = ray.get(parts)\n",
    "        data = []\n",
    "        for p in parts:\n",
    "            data.extend(p)\n",
    "        return data\n",
    "\n",
    "    def count(self):\n",
    "        counts = [rdd_count_part.remote(p, self.transforms) for p in self.parts]\n",
    "        return sum(ray.get(counts))\n",
    "\n",
    "    def reduce(self, z, f):\n",
    "        ps = ray.get([rdd_reduce_part.remote(p, self.transforms, z, f) for p in self.parts])\n",
    "        s = z\n",
    "        for e in ps:\n",
    "            s = f(s, e)\n",
    "        return s"
   ]
  },
  {
   "cell_type": "code",
   "execution_count": 4,
   "metadata": {
    "ExecuteTime": {
     "end_time": "2021-04-25T19:08:26.686025Z",
     "start_time": "2021-04-25T19:08:26.400111Z"
    },
    "collapsed": true
   },
   "outputs": [
    {
     "name": "stderr",
     "output_type": "stream",
     "text": [
      "The autoscaler failed with the following error:\n",
      "Terminated with signal 15\n",
      "  File \"/opt/ray/ray-KozB7GFR/bin/ray-operator\", line 8, in <module>\n",
      "    sys.exit(main())\n",
      "  File \"/opt/ray/ray-KozB7GFR/lib/python3.6/site-packages/ray/ray_operator/operator.py\", line 154, in main\n",
      "    handle_event(event_type, cluster_cr, cluster_name)\n",
      "  File \"/opt/ray/ray-KozB7GFR/lib/python3.6/site-packages/ray/ray_operator/operator.py\", line 113, in handle_event\n",
      "    cluster_action(event_type, cluster_cr, cluster_name)\n",
      "  File \"/opt/ray/ray-KozB7GFR/lib/python3.6/site-packages/ray/ray_operator/operator.py\", line 127, in cluster_action\n",
      "    ray_clusters[cluster_name].create_or_update()\n",
      "  File \"/opt/ray/ray-KozB7GFR/lib/python3.6/site-packages/ray/ray_operator/operator.py\", line 50, in create_or_update\n",
      "    self.do_in_subprocess(self._create_or_update)\n",
      "  File \"/opt/ray/ray-KozB7GFR/lib/python3.6/site-packages/ray/ray_operator/operator.py\", line 40, in do_in_subprocess\n",
      "    self.subprocess.start()\n",
      "  File \"/usr/lib64/python3.6/multiprocessing/process.py\", line 105, in start\n",
      "    self._popen = self._Popen(self)\n",
      "  File \"/usr/lib64/python3.6/multiprocessing/context.py\", line 223, in _Popen\n",
      "    return _default_context.get_context().Process._Popen(process_obj)\n",
      "  File \"/usr/lib64/python3.6/multiprocessing/context.py\", line 277, in _Popen\n",
      "    return Popen(process_obj)\n",
      "  File \"/usr/lib64/python3.6/multiprocessing/popen_fork.py\", line 19, in __init__\n",
      "    self._launch(process_obj)\n",
      "  File \"/usr/lib64/python3.6/multiprocessing/popen_fork.py\", line 73, in _launch\n",
      "    code = process_obj._bootstrap()\n",
      "  File \"/usr/lib64/python3.6/multiprocessing/process.py\", line 258, in _bootstrap\n",
      "    self.run()\n",
      "  File \"/usr/lib64/python3.6/multiprocessing/process.py\", line 93, in run\n",
      "    self._target(*self._args, **self._kwargs)\n",
      "  File \"/opt/ray/ray-KozB7GFR/lib/python3.6/site-packages/ray/ray_operator/operator.py\", line 54, in _create_or_update\n",
      "    self.start_monitor()\n",
      "  File \"/opt/ray/ray-KozB7GFR/lib/python3.6/site-packages/ray/ray_operator/operator.py\", line 79, in start_monitor\n",
      "    self.mtr.run()\n",
      "  File \"/opt/ray/ray-KozB7GFR/lib/python3.6/site-packages/ray/monitor.py\", line 272, in run\n",
      "    self._run()\n",
      "  File \"/opt/ray/ray-KozB7GFR/lib/python3.6/site-packages/ray/monitor.py\", line 176, in _run\n",
      "    self.autoscaler.update()\n",
      "  File \"/opt/ray/ray-KozB7GFR/lib/python3.6/site-packages/ray/autoscaler/_private/autoscaler.py\", line 135, in update\n",
      "    self._update()\n",
      "  File \"/opt/ray/ray-KozB7GFR/lib/python3.6/site-packages/ray/autoscaler/_private/autoscaler.py\", line 240, in _update\n",
      "    ensure_min_cluster_size=self.load_metrics.get_resource_requests())\n",
      "  File \"/opt/ray/ray-KozB7GFR/lib/python3.6/site-packages/ray/autoscaler/_private/resource_demand_scheduler.py\", line 232, in get_nodes_to_launch\n",
      "    placement_groups_nodes_max_limit)\n",
      "  File \"/opt/ray/ray-KozB7GFR/lib/python3.6/site-packages/ray/autoscaler/_private/resource_demand_scheduler.py\", line 344, in _get_concurrent_resource_demand_to_launch\n",
      "    non_terminated_nodes, connected_nodes,\n",
      "  File \"/opt/ray/ray-KozB7GFR/lib/python3.6/site-packages/ray/autoscaler/_private/resource_demand_scheduler.py\", line 379, in _separate_running_and_pending_nodes\n",
      "    tags = self.provider.node_tags(node_id)\n",
      "  File \"/opt/ray/ray-KozB7GFR/lib/python3.6/site-packages/ray/autoscaler/_private/kubernetes/node_provider.py\", line 64, in node_tags\n",
      "    pod = core_api().read_namespaced_pod(node_id, self.namespace)\n",
      "  File \"/opt/ray/ray-KozB7GFR/lib/python3.6/site-packages/kubernetes/client/api/core_v1_api.py\", line 22785, in read_namespaced_pod\n",
      "    return self.read_namespaced_pod_with_http_info(name, namespace, **kwargs)  # noqa: E501\n",
      "  File \"/opt/ray/ray-KozB7GFR/lib/python3.6/site-packages/kubernetes/client/api/core_v1_api.py\", line 22894, in read_namespaced_pod_with_http_info\n",
      "    collection_formats=collection_formats)\n",
      "  File \"/opt/ray/ray-KozB7GFR/lib/python3.6/site-packages/kubernetes/client/api_client.py\", line 353, in call_api\n",
      "    _preload_content, _request_timeout, _host)\n",
      "  File \"/opt/ray/ray-KozB7GFR/lib/python3.6/site-packages/kubernetes/client/api_client.py\", line 184, in __call_api\n",
      "    _request_timeout=_request_timeout)\n",
      "  File \"/opt/ray/ray-KozB7GFR/lib/python3.6/site-packages/kubernetes/client/api_client.py\", line 377, in request\n",
      "    headers=headers)\n",
      "  File \"/opt/ray/ray-KozB7GFR/lib/python3.6/site-packages/kubernetes/client/rest.py\", line 243, in GET\n",
      "    query_params=query_params)\n",
      "  File \"/opt/ray/ray-KozB7GFR/lib/python3.6/site-packages/kubernetes/client/rest.py\", line 216, in request\n",
      "    headers=headers)\n",
      "  File \"/opt/ray/ray-KozB7GFR/lib/python3.6/site-packages/urllib3/request.py\", line 75, in request\n",
      "    method, url, fields=fields, headers=headers, **urlopen_kw\n",
      "  File \"/opt/ray/ray-KozB7GFR/lib/python3.6/site-packages/urllib3/request.py\", line 96, in request_encode_url\n",
      "    return self.urlopen(method, url, **extra_kw)\n",
      "  File \"/opt/ray/ray-KozB7GFR/lib/python3.6/site-packages/urllib3/poolmanager.py\", line 375, in urlopen\n",
      "    response = conn.urlopen(method, u.request_uri, **kw)\n",
      "  File \"/opt/ray/ray-KozB7GFR/lib/python3.6/site-packages/urllib3/connectionpool.py\", line 706, in urlopen\n",
      "    chunked=chunked,\n",
      "  File \"/opt/ray/ray-KozB7GFR/lib/python3.6/site-packages/urllib3/connectionpool.py\", line 440, in _make_request\n",
      "    httplib_response = conn.getresponse()\n",
      "  File \"/usr/lib64/python3.6/http/client.py\", line 1346, in getresponse\n",
      "    response.begin()\n",
      "  File \"/usr/lib64/python3.6/http/client.py\", line 307, in begin\n",
      "    version, status, reason = self._read_status()\n",
      "  File \"/usr/lib64/python3.6/http/client.py\", line 268, in _read_status\n",
      "    line = str(self.fp.readline(_MAXLINE + 1), \"iso-8859-1\")\n",
      "  File \"/usr/lib64/python3.6/socket.py\", line 586, in readinto\n",
      "    return self._sock.recv_into(b)\n",
      "  File \"/usr/lib64/python3.6/ssl.py\", line 971, in recv_into\n",
      "    return self.read(nbytes, buffer)\n",
      "  File \"/usr/lib64/python3.6/ssl.py\", line 833, in read\n",
      "    return self._sslobj.read(len, buffer)\n",
      "  File \"/usr/lib64/python3.6/ssl.py\", line 590, in read\n",
      "    v = self._sslobj.read(len, buffer)\n",
      "\n"
     ]
    },
    {
     "data": {
      "text/plain": [
       "{'num_clients': 1,\n",
       " 'python_version': '3.6.8',\n",
       " 'ray_version': '2.0.0.dev0',\n",
       " 'ray_commit': '4357055305395ea309813851a539381bc7c32138',\n",
       " 'protocol_version': '2020-02-22'}"
      ]
     },
     "execution_count": 4,
     "metadata": {},
     "output_type": "execute_result"
    }
   ],
   "source": [
    "from ray.util.client import ray as rayclient\n",
    "if rayclient.is_connected():\n",
    "    ray.util.disconnect()\n",
    "\n",
    "ray.util.connect('{ray_head}:10001'.format(ray_head=os.environ['RAY_CLUSTER']))"
   ]
  },
  {
   "cell_type": "code",
   "execution_count": 5,
   "metadata": {
    "ExecuteTime": {
     "end_time": "2021-04-25T19:08:36.662635Z",
     "start_time": "2021-04-25T19:08:35.978169Z"
    }
   },
   "outputs": [
    {
     "data": {
      "text/plain": [
       "[3, 5]"
      ]
     },
     "execution_count": 5,
     "metadata": {},
     "output_type": "execute_result"
    }
   ],
   "source": [
    "rdd = SimpleRayRDD(data=[1,2,3,4], np=1).filter(lambda x: x % 2 == 0).map(lambda x: x + 1)\n",
    "rdd.collect()"
   ]
  },
  {
   "cell_type": "code",
   "execution_count": 6,
   "metadata": {
    "ExecuteTime": {
     "end_time": "2021-04-25T19:08:38.457590Z",
     "start_time": "2021-04-25T19:08:38.435810Z"
    }
   },
   "outputs": [
    {
     "data": {
      "text/plain": [
       "2"
      ]
     },
     "execution_count": 6,
     "metadata": {},
     "output_type": "execute_result"
    }
   ],
   "source": [
    "rdd.count()"
   ]
  },
  {
   "cell_type": "code",
   "execution_count": 7,
   "metadata": {
    "ExecuteTime": {
     "end_time": "2021-04-25T19:08:39.644827Z",
     "start_time": "2021-04-25T19:08:39.623515Z"
    }
   },
   "outputs": [
    {
     "data": {
      "text/plain": [
       "8"
      ]
     },
     "execution_count": 7,
     "metadata": {},
     "output_type": "execute_result"
    }
   ],
   "source": [
    "rdd.reduce(0, lambda x,y: x + y)"
   ]
  },
  {
   "cell_type": "code",
   "execution_count": 8,
   "metadata": {
    "ExecuteTime": {
     "end_time": "2021-04-25T19:08:49.425124Z",
     "start_time": "2021-04-25T19:08:49.418140Z"
    }
   },
   "outputs": [],
   "source": [
    "def ray_pi(n = 1000, k = 10):\n",
    "    c = SimpleRayRDD(indexed=n*k, np=k) \\\n",
    "        .map(lambda _: (random.uniform(-1,1), random.uniform(-1,1))) \\\n",
    "        .filter(lambda p: p[0]*p[0] + p[1]*p[1] <= 1) \\\n",
    "        .count()\n",
    "    return 4 * c / (n*k)"
   ]
  },
  {
   "cell_type": "code",
   "execution_count": 12,
   "metadata": {
    "ExecuteTime": {
     "end_time": "2021-04-25T19:12:14.907731Z",
     "start_time": "2021-04-25T19:12:09.594307Z"
    }
   },
   "outputs": [
    {
     "name": "stdout",
     "output_type": "stream",
     "text": [
      "CPU times: user 42.6 ms, sys: 4.95 ms, total: 47.5 ms\n",
      "Wall time: 5.31 s\n"
     ]
    },
    {
     "data": {
      "text/plain": [
       "3.14149"
      ]
     },
     "execution_count": 12,
     "metadata": {},
     "output_type": "execute_result"
    }
   ],
   "source": [
    "%%time\n",
    "ray_pi(n = 1000000, k = 10)"
   ]
  },
  {
   "cell_type": "code",
   "execution_count": null,
   "metadata": {},
   "outputs": [],
   "source": []
  }
 ],
 "metadata": {
  "kernelspec": {
   "display_name": "Python 3",
   "language": "python",
   "name": "python3"
  },
  "language_info": {
   "codemirror_mode": {
    "name": "ipython",
    "version": 3
   },
   "file_extension": ".py",
   "mimetype": "text/x-python",
   "name": "python",
   "nbconvert_exporter": "python",
   "pygments_lexer": "ipython3",
   "version": "3.6.8"
  },
  "toc": {
   "base_numbering": 1,
   "nav_menu": {},
   "number_sections": true,
   "sideBar": true,
   "skip_h1_title": false,
   "title_cell": "Table of Contents",
   "title_sidebar": "Contents",
   "toc_cell": false,
   "toc_position": {},
   "toc_section_display": true,
   "toc_window_display": false
  }
 },
 "nbformat": 4,
 "nbformat_minor": 4
}
